{
 "cells": [
  {
   "cell_type": "code",
   "execution_count": 4,
   "metadata": {
    "ExecuteTime": {
     "end_time": "2020-04-12T07:56:48.481719Z",
     "start_time": "2020-04-12T07:56:48.477214Z"
    }
   },
   "outputs": [],
   "source": [
    "import pandas as pd\n",
    "import numpy as np\n",
    "import itertools\n",
    "import pickle\n",
    "import SEIR_full as mdl"
   ]
  },
  {
   "cell_type": "code",
   "execution_count": 4,
   "metadata": {
    "ExecuteTime": {
     "end_time": "2020-04-04T17:12:13.994540Z",
     "start_time": "2020-04-04T17:12:13.980574Z"
    }
   },
   "outputs": [],
   "source": [
    "# Age groups\n",
    "A = {0: '0-4', 1: '5-9', 2: '10-19', 3: '20-29', 4: '30-39', 5: '40-49', 6: '50-59', 7: '60-69', 8: '70+'}\n",
    "\n",
    "# Risk groups\n",
    "R = {0: 'High', 1: 'Low'}\n",
    "\n",
    "# Intervention groups\n",
    "M = {0: 'Intervention', 1: 'Non-intervention'}\n",
    "\n",
    "# region groups\n",
    "G = {0: '11', 1: '11_betshemesh', 2: '21', 3: '22', 4: '23', 5: '24', 6: '29', 7: '31', 8: '32', 9: '41', 10: '42', 11: '43', 12: '44', 13: '51',\n",
    "     14: '51_tlv', 15: '51_bb', 16: '61', 17: '62', 18: '62_arab', 19: '71'}\n",
    "\n",
    "# All combination:\n",
    "N = {i: group for i, group in enumerate(itertools.product(M.values(), G.values(), R.values(), A.values()))}"
   ]
  },
  {
   "cell_type": "code",
   "execution_count": 5,
   "metadata": {
    "ExecuteTime": {
     "end_time": "2020-04-04T17:12:14.640149Z",
     "start_time": "2020-04-04T17:12:14.626188Z"
    }
   },
   "outputs": [],
   "source": [
    "def get_oposite_dict(dic, keys):\n",
    "    \"\"\"The function gets a dict and new keys list and returns a dictionary in which keys as keys,\n",
    "    and values are the keys from dic \"\"\"\n",
    "    res_dict = {}\n",
    "    \n",
    "    for new_key in keys:\n",
    "        new_val_lst = []\n",
    "        for old_k, old_v in dic.items():\n",
    "            if all(i in old_v for i in new_key):\n",
    "                new_val_lst.append(old_k)\n",
    "        if len(new_key) == 1:\n",
    "            res_dict[new_key[0]] = new_val_lst\n",
    "        else:\n",
    "            res_dict[new_key] = new_val_lst\n",
    "    return res_dict\n",
    "\n",
    "def expand_partial_array(mapping_dic, array_to_expand):\n",
    "    \"\"\"The function gets mapping_dic - indeces to assign in the expanded array (with key granularity based on\n",
    "    array_to_expand), and array_to_expand - the expanded array's values will be based on this array. Returns \n",
    "    and expanded array shape (len(N),1) based on the array_to_expand\"\"\"\n",
    "    \n",
    "    # Creating dictionary that maps the indices in the array to expand\n",
    "#     small_mapping_dic = {k:v[0] for k,v in mapping_dic.items()}\n",
    "    \n",
    "    # Assinging values to the full array\n",
    "    full_array = np.zeros(len(N))\n",
    "    for i,k in enumerate(mapping_dic.keys()):\n",
    "        full_array[mapping_dic[k]] = array_to_expand[i]\n",
    "    \n",
    "    return full_array"
   ]
  },
  {
   "cell_type": "code",
   "execution_count": 29,
   "metadata": {
    "ExecuteTime": {
     "end_time": "2020-04-04T17:37:26.769034Z",
     "start_time": "2020-04-04T17:37:26.473145Z"
    }
   },
   "outputs": [],
   "source": [
    "# opposite deict:\n",
    "region_age = get_oposite_dict(N, list(itertools.product(G.values(), A.values())))\n",
    "age = get_oposite_dict(N, [['0-4'], ['5-9'], ['10-19'], ['20-29'], ['30-39'], ['40-49'], ['50-59'], ['60-69'], ['70+']])\n",
    "region_risk_age = get_oposite_dict(N, list(itertools.product(G.values(), R.values(), A.values())))\n",
    "risk_age = get_oposite_dict(N, list(itertools.product(R.values(), A.values())))"
   ]
  },
  {
   "cell_type": "code",
   "execution_count": 95,
   "metadata": {
    "ExecuteTime": {
     "end_time": "2020-04-09T23:59:08.283055Z",
     "start_time": "2020-04-09T23:59:08.191263Z"
    }
   },
   "outputs": [
    {
     "data": {
      "text/plain": [
       "{0: ('Intervention', '11', 'High', '0-4'),\n",
       " 1: ('Intervention', '11', 'High', '5-9'),\n",
       " 2: ('Intervention', '11', 'High', '10-19'),\n",
       " 3: ('Intervention', '11', 'High', '20-29'),\n",
       " 4: ('Intervention', '11', 'High', '30-39'),\n",
       " 5: ('Intervention', '11', 'High', '40-49'),\n",
       " 6: ('Intervention', '11', 'High', '50-59'),\n",
       " 7: ('Intervention', '11', 'High', '60-69'),\n",
       " 8: ('Intervention', '11', 'High', '70+'),\n",
       " 9: ('Intervention', '11', 'Low', '0-4'),\n",
       " 10: ('Intervention', '11', 'Low', '5-9'),\n",
       " 11: ('Intervention', '11', 'Low', '10-19'),\n",
       " 12: ('Intervention', '11', 'Low', '20-29'),\n",
       " 13: ('Intervention', '11', 'Low', '30-39'),\n",
       " 14: ('Intervention', '11', 'Low', '40-49'),\n",
       " 15: ('Intervention', '11', 'Low', '50-59'),\n",
       " 16: ('Intervention', '11', 'Low', '60-69'),\n",
       " 17: ('Intervention', '11', 'Low', '70+'),\n",
       " 18: ('Intervention', '11_betshemesh', 'High', '0-4'),\n",
       " 19: ('Intervention', '11_betshemesh', 'High', '5-9'),\n",
       " 20: ('Intervention', '11_betshemesh', 'High', '10-19'),\n",
       " 21: ('Intervention', '11_betshemesh', 'High', '20-29'),\n",
       " 22: ('Intervention', '11_betshemesh', 'High', '30-39'),\n",
       " 23: ('Intervention', '11_betshemesh', 'High', '40-49'),\n",
       " 24: ('Intervention', '11_betshemesh', 'High', '50-59'),\n",
       " 25: ('Intervention', '11_betshemesh', 'High', '60-69'),\n",
       " 26: ('Intervention', '11_betshemesh', 'High', '70+'),\n",
       " 27: ('Intervention', '11_betshemesh', 'Low', '0-4'),\n",
       " 28: ('Intervention', '11_betshemesh', 'Low', '5-9'),\n",
       " 29: ('Intervention', '11_betshemesh', 'Low', '10-19'),\n",
       " 30: ('Intervention', '11_betshemesh', 'Low', '20-29'),\n",
       " 31: ('Intervention', '11_betshemesh', 'Low', '30-39'),\n",
       " 32: ('Intervention', '11_betshemesh', 'Low', '40-49'),\n",
       " 33: ('Intervention', '11_betshemesh', 'Low', '50-59'),\n",
       " 34: ('Intervention', '11_betshemesh', 'Low', '60-69'),\n",
       " 35: ('Intervention', '11_betshemesh', 'Low', '70+'),\n",
       " 36: ('Intervention', '21', 'High', '0-4'),\n",
       " 37: ('Intervention', '21', 'High', '5-9'),\n",
       " 38: ('Intervention', '21', 'High', '10-19'),\n",
       " 39: ('Intervention', '21', 'High', '20-29'),\n",
       " 40: ('Intervention', '21', 'High', '30-39'),\n",
       " 41: ('Intervention', '21', 'High', '40-49'),\n",
       " 42: ('Intervention', '21', 'High', '50-59'),\n",
       " 43: ('Intervention', '21', 'High', '60-69'),\n",
       " 44: ('Intervention', '21', 'High', '70+'),\n",
       " 45: ('Intervention', '21', 'Low', '0-4'),\n",
       " 46: ('Intervention', '21', 'Low', '5-9'),\n",
       " 47: ('Intervention', '21', 'Low', '10-19'),\n",
       " 48: ('Intervention', '21', 'Low', '20-29'),\n",
       " 49: ('Intervention', '21', 'Low', '30-39'),\n",
       " 50: ('Intervention', '21', 'Low', '40-49'),\n",
       " 51: ('Intervention', '21', 'Low', '50-59'),\n",
       " 52: ('Intervention', '21', 'Low', '60-69'),\n",
       " 53: ('Intervention', '21', 'Low', '70+'),\n",
       " 54: ('Intervention', '22', 'High', '0-4'),\n",
       " 55: ('Intervention', '22', 'High', '5-9'),\n",
       " 56: ('Intervention', '22', 'High', '10-19'),\n",
       " 57: ('Intervention', '22', 'High', '20-29'),\n",
       " 58: ('Intervention', '22', 'High', '30-39'),\n",
       " 59: ('Intervention', '22', 'High', '40-49'),\n",
       " 60: ('Intervention', '22', 'High', '50-59'),\n",
       " 61: ('Intervention', '22', 'High', '60-69'),\n",
       " 62: ('Intervention', '22', 'High', '70+'),\n",
       " 63: ('Intervention', '22', 'Low', '0-4'),\n",
       " 64: ('Intervention', '22', 'Low', '5-9'),\n",
       " 65: ('Intervention', '22', 'Low', '10-19'),\n",
       " 66: ('Intervention', '22', 'Low', '20-29'),\n",
       " 67: ('Intervention', '22', 'Low', '30-39'),\n",
       " 68: ('Intervention', '22', 'Low', '40-49'),\n",
       " 69: ('Intervention', '22', 'Low', '50-59'),\n",
       " 70: ('Intervention', '22', 'Low', '60-69'),\n",
       " 71: ('Intervention', '22', 'Low', '70+'),\n",
       " 72: ('Intervention', '23', 'High', '0-4'),\n",
       " 73: ('Intervention', '23', 'High', '5-9'),\n",
       " 74: ('Intervention', '23', 'High', '10-19'),\n",
       " 75: ('Intervention', '23', 'High', '20-29'),\n",
       " 76: ('Intervention', '23', 'High', '30-39'),\n",
       " 77: ('Intervention', '23', 'High', '40-49'),\n",
       " 78: ('Intervention', '23', 'High', '50-59'),\n",
       " 79: ('Intervention', '23', 'High', '60-69'),\n",
       " 80: ('Intervention', '23', 'High', '70+'),\n",
       " 81: ('Intervention', '23', 'Low', '0-4'),\n",
       " 82: ('Intervention', '23', 'Low', '5-9'),\n",
       " 83: ('Intervention', '23', 'Low', '10-19'),\n",
       " 84: ('Intervention', '23', 'Low', '20-29'),\n",
       " 85: ('Intervention', '23', 'Low', '30-39'),\n",
       " 86: ('Intervention', '23', 'Low', '40-49'),\n",
       " 87: ('Intervention', '23', 'Low', '50-59'),\n",
       " 88: ('Intervention', '23', 'Low', '60-69'),\n",
       " 89: ('Intervention', '23', 'Low', '70+'),\n",
       " 90: ('Intervention', '24', 'High', '0-4'),\n",
       " 91: ('Intervention', '24', 'High', '5-9'),\n",
       " 92: ('Intervention', '24', 'High', '10-19'),\n",
       " 93: ('Intervention', '24', 'High', '20-29'),\n",
       " 94: ('Intervention', '24', 'High', '30-39'),\n",
       " 95: ('Intervention', '24', 'High', '40-49'),\n",
       " 96: ('Intervention', '24', 'High', '50-59'),\n",
       " 97: ('Intervention', '24', 'High', '60-69'),\n",
       " 98: ('Intervention', '24', 'High', '70+'),\n",
       " 99: ('Intervention', '24', 'Low', '0-4'),\n",
       " 100: ('Intervention', '24', 'Low', '5-9'),\n",
       " 101: ('Intervention', '24', 'Low', '10-19'),\n",
       " 102: ('Intervention', '24', 'Low', '20-29'),\n",
       " 103: ('Intervention', '24', 'Low', '30-39'),\n",
       " 104: ('Intervention', '24', 'Low', '40-49'),\n",
       " 105: ('Intervention', '24', 'Low', '50-59'),\n",
       " 106: ('Intervention', '24', 'Low', '60-69'),\n",
       " 107: ('Intervention', '24', 'Low', '70+'),\n",
       " 108: ('Intervention', '29', 'High', '0-4'),\n",
       " 109: ('Intervention', '29', 'High', '5-9'),\n",
       " 110: ('Intervention', '29', 'High', '10-19'),\n",
       " 111: ('Intervention', '29', 'High', '20-29'),\n",
       " 112: ('Intervention', '29', 'High', '30-39'),\n",
       " 113: ('Intervention', '29', 'High', '40-49'),\n",
       " 114: ('Intervention', '29', 'High', '50-59'),\n",
       " 115: ('Intervention', '29', 'High', '60-69'),\n",
       " 116: ('Intervention', '29', 'High', '70+'),\n",
       " 117: ('Intervention', '29', 'Low', '0-4'),\n",
       " 118: ('Intervention', '29', 'Low', '5-9'),\n",
       " 119: ('Intervention', '29', 'Low', '10-19'),\n",
       " 120: ('Intervention', '29', 'Low', '20-29'),\n",
       " 121: ('Intervention', '29', 'Low', '30-39'),\n",
       " 122: ('Intervention', '29', 'Low', '40-49'),\n",
       " 123: ('Intervention', '29', 'Low', '50-59'),\n",
       " 124: ('Intervention', '29', 'Low', '60-69'),\n",
       " 125: ('Intervention', '29', 'Low', '70+'),\n",
       " 126: ('Intervention', '31', 'High', '0-4'),\n",
       " 127: ('Intervention', '31', 'High', '5-9'),\n",
       " 128: ('Intervention', '31', 'High', '10-19'),\n",
       " 129: ('Intervention', '31', 'High', '20-29'),\n",
       " 130: ('Intervention', '31', 'High', '30-39'),\n",
       " 131: ('Intervention', '31', 'High', '40-49'),\n",
       " 132: ('Intervention', '31', 'High', '50-59'),\n",
       " 133: ('Intervention', '31', 'High', '60-69'),\n",
       " 134: ('Intervention', '31', 'High', '70+'),\n",
       " 135: ('Intervention', '31', 'Low', '0-4'),\n",
       " 136: ('Intervention', '31', 'Low', '5-9'),\n",
       " 137: ('Intervention', '31', 'Low', '10-19'),\n",
       " 138: ('Intervention', '31', 'Low', '20-29'),\n",
       " 139: ('Intervention', '31', 'Low', '30-39'),\n",
       " 140: ('Intervention', '31', 'Low', '40-49'),\n",
       " 141: ('Intervention', '31', 'Low', '50-59'),\n",
       " 142: ('Intervention', '31', 'Low', '60-69'),\n",
       " 143: ('Intervention', '31', 'Low', '70+'),\n",
       " 144: ('Intervention', '32', 'High', '0-4'),\n",
       " 145: ('Intervention', '32', 'High', '5-9'),\n",
       " 146: ('Intervention', '32', 'High', '10-19'),\n",
       " 147: ('Intervention', '32', 'High', '20-29'),\n",
       " 148: ('Intervention', '32', 'High', '30-39'),\n",
       " 149: ('Intervention', '32', 'High', '40-49'),\n",
       " 150: ('Intervention', '32', 'High', '50-59'),\n",
       " 151: ('Intervention', '32', 'High', '60-69'),\n",
       " 152: ('Intervention', '32', 'High', '70+'),\n",
       " 153: ('Intervention', '32', 'Low', '0-4'),\n",
       " 154: ('Intervention', '32', 'Low', '5-9'),\n",
       " 155: ('Intervention', '32', 'Low', '10-19'),\n",
       " 156: ('Intervention', '32', 'Low', '20-29'),\n",
       " 157: ('Intervention', '32', 'Low', '30-39'),\n",
       " 158: ('Intervention', '32', 'Low', '40-49'),\n",
       " 159: ('Intervention', '32', 'Low', '50-59'),\n",
       " 160: ('Intervention', '32', 'Low', '60-69'),\n",
       " 161: ('Intervention', '32', 'Low', '70+'),\n",
       " 162: ('Intervention', '41', 'High', '0-4'),\n",
       " 163: ('Intervention', '41', 'High', '5-9'),\n",
       " 164: ('Intervention', '41', 'High', '10-19'),\n",
       " 165: ('Intervention', '41', 'High', '20-29'),\n",
       " 166: ('Intervention', '41', 'High', '30-39'),\n",
       " 167: ('Intervention', '41', 'High', '40-49'),\n",
       " 168: ('Intervention', '41', 'High', '50-59'),\n",
       " 169: ('Intervention', '41', 'High', '60-69'),\n",
       " 170: ('Intervention', '41', 'High', '70+'),\n",
       " 171: ('Intervention', '41', 'Low', '0-4'),\n",
       " 172: ('Intervention', '41', 'Low', '5-9'),\n",
       " 173: ('Intervention', '41', 'Low', '10-19'),\n",
       " 174: ('Intervention', '41', 'Low', '20-29'),\n",
       " 175: ('Intervention', '41', 'Low', '30-39'),\n",
       " 176: ('Intervention', '41', 'Low', '40-49'),\n",
       " 177: ('Intervention', '41', 'Low', '50-59'),\n",
       " 178: ('Intervention', '41', 'Low', '60-69'),\n",
       " 179: ('Intervention', '41', 'Low', '70+'),\n",
       " 180: ('Intervention', '42', 'High', '0-4'),\n",
       " 181: ('Intervention', '42', 'High', '5-9'),\n",
       " 182: ('Intervention', '42', 'High', '10-19'),\n",
       " 183: ('Intervention', '42', 'High', '20-29'),\n",
       " 184: ('Intervention', '42', 'High', '30-39'),\n",
       " 185: ('Intervention', '42', 'High', '40-49'),\n",
       " 186: ('Intervention', '42', 'High', '50-59'),\n",
       " 187: ('Intervention', '42', 'High', '60-69'),\n",
       " 188: ('Intervention', '42', 'High', '70+'),\n",
       " 189: ('Intervention', '42', 'Low', '0-4'),\n",
       " 190: ('Intervention', '42', 'Low', '5-9'),\n",
       " 191: ('Intervention', '42', 'Low', '10-19'),\n",
       " 192: ('Intervention', '42', 'Low', '20-29'),\n",
       " 193: ('Intervention', '42', 'Low', '30-39'),\n",
       " 194: ('Intervention', '42', 'Low', '40-49'),\n",
       " 195: ('Intervention', '42', 'Low', '50-59'),\n",
       " 196: ('Intervention', '42', 'Low', '60-69'),\n",
       " 197: ('Intervention', '42', 'Low', '70+'),\n",
       " 198: ('Intervention', '43', 'High', '0-4'),\n",
       " 199: ('Intervention', '43', 'High', '5-9'),\n",
       " 200: ('Intervention', '43', 'High', '10-19'),\n",
       " 201: ('Intervention', '43', 'High', '20-29'),\n",
       " 202: ('Intervention', '43', 'High', '30-39'),\n",
       " 203: ('Intervention', '43', 'High', '40-49'),\n",
       " 204: ('Intervention', '43', 'High', '50-59'),\n",
       " 205: ('Intervention', '43', 'High', '60-69'),\n",
       " 206: ('Intervention', '43', 'High', '70+'),\n",
       " 207: ('Intervention', '43', 'Low', '0-4'),\n",
       " 208: ('Intervention', '43', 'Low', '5-9'),\n",
       " 209: ('Intervention', '43', 'Low', '10-19'),\n",
       " 210: ('Intervention', '43', 'Low', '20-29'),\n",
       " 211: ('Intervention', '43', 'Low', '30-39'),\n",
       " 212: ('Intervention', '43', 'Low', '40-49'),\n",
       " 213: ('Intervention', '43', 'Low', '50-59'),\n",
       " 214: ('Intervention', '43', 'Low', '60-69'),\n",
       " 215: ('Intervention', '43', 'Low', '70+'),\n",
       " 216: ('Intervention', '44', 'High', '0-4'),\n",
       " 217: ('Intervention', '44', 'High', '5-9'),\n",
       " 218: ('Intervention', '44', 'High', '10-19'),\n",
       " 219: ('Intervention', '44', 'High', '20-29'),\n",
       " 220: ('Intervention', '44', 'High', '30-39'),\n",
       " 221: ('Intervention', '44', 'High', '40-49'),\n",
       " 222: ('Intervention', '44', 'High', '50-59'),\n",
       " 223: ('Intervention', '44', 'High', '60-69'),\n",
       " 224: ('Intervention', '44', 'High', '70+'),\n",
       " 225: ('Intervention', '44', 'Low', '0-4'),\n",
       " 226: ('Intervention', '44', 'Low', '5-9'),\n",
       " 227: ('Intervention', '44', 'Low', '10-19'),\n",
       " 228: ('Intervention', '44', 'Low', '20-29'),\n",
       " 229: ('Intervention', '44', 'Low', '30-39'),\n",
       " 230: ('Intervention', '44', 'Low', '40-49'),\n",
       " 231: ('Intervention', '44', 'Low', '50-59'),\n",
       " 232: ('Intervention', '44', 'Low', '60-69'),\n",
       " 233: ('Intervention', '44', 'Low', '70+'),\n",
       " 234: ('Intervention', '51', 'High', '0-4'),\n",
       " 235: ('Intervention', '51', 'High', '5-9'),\n",
       " 236: ('Intervention', '51', 'High', '10-19'),\n",
       " 237: ('Intervention', '51', 'High', '20-29'),\n",
       " 238: ('Intervention', '51', 'High', '30-39'),\n",
       " 239: ('Intervention', '51', 'High', '40-49'),\n",
       " 240: ('Intervention', '51', 'High', '50-59'),\n",
       " 241: ('Intervention', '51', 'High', '60-69'),\n",
       " 242: ('Intervention', '51', 'High', '70+'),\n",
       " 243: ('Intervention', '51', 'Low', '0-4'),\n",
       " 244: ('Intervention', '51', 'Low', '5-9'),\n",
       " 245: ('Intervention', '51', 'Low', '10-19'),\n",
       " 246: ('Intervention', '51', 'Low', '20-29'),\n",
       " 247: ('Intervention', '51', 'Low', '30-39'),\n",
       " 248: ('Intervention', '51', 'Low', '40-49'),\n",
       " 249: ('Intervention', '51', 'Low', '50-59'),\n",
       " 250: ('Intervention', '51', 'Low', '60-69'),\n",
       " 251: ('Intervention', '51', 'Low', '70+'),\n",
       " 252: ('Intervention', '51_tlv', 'High', '0-4'),\n",
       " 253: ('Intervention', '51_tlv', 'High', '5-9'),\n",
       " 254: ('Intervention', '51_tlv', 'High', '10-19'),\n",
       " 255: ('Intervention', '51_tlv', 'High', '20-29'),\n",
       " 256: ('Intervention', '51_tlv', 'High', '30-39'),\n",
       " 257: ('Intervention', '51_tlv', 'High', '40-49'),\n",
       " 258: ('Intervention', '51_tlv', 'High', '50-59'),\n",
       " 259: ('Intervention', '51_tlv', 'High', '60-69'),\n",
       " 260: ('Intervention', '51_tlv', 'High', '70+'),\n",
       " 261: ('Intervention', '51_tlv', 'Low', '0-4'),\n",
       " 262: ('Intervention', '51_tlv', 'Low', '5-9'),\n",
       " 263: ('Intervention', '51_tlv', 'Low', '10-19'),\n",
       " 264: ('Intervention', '51_tlv', 'Low', '20-29'),\n",
       " 265: ('Intervention', '51_tlv', 'Low', '30-39'),\n",
       " 266: ('Intervention', '51_tlv', 'Low', '40-49'),\n",
       " 267: ('Intervention', '51_tlv', 'Low', '50-59'),\n",
       " 268: ('Intervention', '51_tlv', 'Low', '60-69'),\n",
       " 269: ('Intervention', '51_tlv', 'Low', '70+'),\n",
       " 270: ('Intervention', '51_bb', 'High', '0-4'),\n",
       " 271: ('Intervention', '51_bb', 'High', '5-9'),\n",
       " 272: ('Intervention', '51_bb', 'High', '10-19'),\n",
       " 273: ('Intervention', '51_bb', 'High', '20-29'),\n",
       " 274: ('Intervention', '51_bb', 'High', '30-39'),\n",
       " 275: ('Intervention', '51_bb', 'High', '40-49'),\n",
       " 276: ('Intervention', '51_bb', 'High', '50-59'),\n",
       " 277: ('Intervention', '51_bb', 'High', '60-69'),\n",
       " 278: ('Intervention', '51_bb', 'High', '70+'),\n",
       " 279: ('Intervention', '51_bb', 'Low', '0-4'),\n",
       " 280: ('Intervention', '51_bb', 'Low', '5-9'),\n",
       " 281: ('Intervention', '51_bb', 'Low', '10-19'),\n",
       " 282: ('Intervention', '51_bb', 'Low', '20-29'),\n",
       " 283: ('Intervention', '51_bb', 'Low', '30-39'),\n",
       " 284: ('Intervention', '51_bb', 'Low', '40-49'),\n",
       " 285: ('Intervention', '51_bb', 'Low', '50-59'),\n",
       " 286: ('Intervention', '51_bb', 'Low', '60-69'),\n",
       " 287: ('Intervention', '51_bb', 'Low', '70+'),\n",
       " 288: ('Intervention', '61', 'High', '0-4'),\n",
       " 289: ('Intervention', '61', 'High', '5-9'),\n",
       " 290: ('Intervention', '61', 'High', '10-19'),\n",
       " 291: ('Intervention', '61', 'High', '20-29'),\n",
       " 292: ('Intervention', '61', 'High', '30-39'),\n",
       " 293: ('Intervention', '61', 'High', '40-49'),\n",
       " 294: ('Intervention', '61', 'High', '50-59'),\n",
       " 295: ('Intervention', '61', 'High', '60-69'),\n",
       " 296: ('Intervention', '61', 'High', '70+'),\n",
       " 297: ('Intervention', '61', 'Low', '0-4'),\n",
       " 298: ('Intervention', '61', 'Low', '5-9'),\n",
       " 299: ('Intervention', '61', 'Low', '10-19'),\n",
       " 300: ('Intervention', '61', 'Low', '20-29'),\n",
       " 301: ('Intervention', '61', 'Low', '30-39'),\n",
       " 302: ('Intervention', '61', 'Low', '40-49'),\n",
       " 303: ('Intervention', '61', 'Low', '50-59'),\n",
       " 304: ('Intervention', '61', 'Low', '60-69'),\n",
       " 305: ('Intervention', '61', 'Low', '70+'),\n",
       " 306: ('Intervention', '62', 'High', '0-4'),\n",
       " 307: ('Intervention', '62', 'High', '5-9'),\n",
       " 308: ('Intervention', '62', 'High', '10-19'),\n",
       " 309: ('Intervention', '62', 'High', '20-29'),\n",
       " 310: ('Intervention', '62', 'High', '30-39'),\n",
       " 311: ('Intervention', '62', 'High', '40-49'),\n",
       " 312: ('Intervention', '62', 'High', '50-59'),\n",
       " 313: ('Intervention', '62', 'High', '60-69'),\n",
       " 314: ('Intervention', '62', 'High', '70+'),\n",
       " 315: ('Intervention', '62', 'Low', '0-4'),\n",
       " 316: ('Intervention', '62', 'Low', '5-9'),\n",
       " 317: ('Intervention', '62', 'Low', '10-19'),\n",
       " 318: ('Intervention', '62', 'Low', '20-29'),\n",
       " 319: ('Intervention', '62', 'Low', '30-39'),\n",
       " 320: ('Intervention', '62', 'Low', '40-49'),\n",
       " 321: ('Intervention', '62', 'Low', '50-59'),\n",
       " 322: ('Intervention', '62', 'Low', '60-69'),\n",
       " 323: ('Intervention', '62', 'Low', '70+'),\n",
       " 324: ('Intervention', '62_arab', 'High', '0-4'),\n",
       " 325: ('Intervention', '62_arab', 'High', '5-9'),\n",
       " 326: ('Intervention', '62_arab', 'High', '10-19'),\n",
       " 327: ('Intervention', '62_arab', 'High', '20-29'),\n",
       " 328: ('Intervention', '62_arab', 'High', '30-39'),\n",
       " 329: ('Intervention', '62_arab', 'High', '40-49'),\n",
       " 330: ('Intervention', '62_arab', 'High', '50-59'),\n",
       " 331: ('Intervention', '62_arab', 'High', '60-69'),\n",
       " 332: ('Intervention', '62_arab', 'High', '70+'),\n",
       " 333: ('Intervention', '62_arab', 'Low', '0-4'),\n",
       " 334: ('Intervention', '62_arab', 'Low', '5-9'),\n",
       " 335: ('Intervention', '62_arab', 'Low', '10-19'),\n",
       " 336: ('Intervention', '62_arab', 'Low', '20-29'),\n",
       " 337: ('Intervention', '62_arab', 'Low', '30-39'),\n",
       " 338: ('Intervention', '62_arab', 'Low', '40-49'),\n",
       " 339: ('Intervention', '62_arab', 'Low', '50-59'),\n",
       " 340: ('Intervention', '62_arab', 'Low', '60-69'),\n",
       " 341: ('Intervention', '62_arab', 'Low', '70+'),\n",
       " 342: ('Intervention', '71', 'High', '0-4'),\n",
       " 343: ('Intervention', '71', 'High', '5-9'),\n",
       " 344: ('Intervention', '71', 'High', '10-19'),\n",
       " 345: ('Intervention', '71', 'High', '20-29'),\n",
       " 346: ('Intervention', '71', 'High', '30-39'),\n",
       " 347: ('Intervention', '71', 'High', '40-49'),\n",
       " 348: ('Intervention', '71', 'High', '50-59'),\n",
       " 349: ('Intervention', '71', 'High', '60-69'),\n",
       " 350: ('Intervention', '71', 'High', '70+'),\n",
       " 351: ('Intervention', '71', 'Low', '0-4'),\n",
       " 352: ('Intervention', '71', 'Low', '5-9'),\n",
       " 353: ('Intervention', '71', 'Low', '10-19'),\n",
       " 354: ('Intervention', '71', 'Low', '20-29'),\n",
       " 355: ('Intervention', '71', 'Low', '30-39'),\n",
       " 356: ('Intervention', '71', 'Low', '40-49'),\n",
       " 357: ('Intervention', '71', 'Low', '50-59'),\n",
       " 358: ('Intervention', '71', 'Low', '60-69'),\n",
       " 359: ('Intervention', '71', 'Low', '70+'),\n",
       " 360: ('Non-intervention', '11', 'High', '0-4'),\n",
       " 361: ('Non-intervention', '11', 'High', '5-9'),\n",
       " 362: ('Non-intervention', '11', 'High', '10-19'),\n",
       " 363: ('Non-intervention', '11', 'High', '20-29'),\n",
       " 364: ('Non-intervention', '11', 'High', '30-39'),\n",
       " 365: ('Non-intervention', '11', 'High', '40-49'),\n",
       " 366: ('Non-intervention', '11', 'High', '50-59'),\n",
       " 367: ('Non-intervention', '11', 'High', '60-69'),\n",
       " 368: ('Non-intervention', '11', 'High', '70+'),\n",
       " 369: ('Non-intervention', '11', 'Low', '0-4'),\n",
       " 370: ('Non-intervention', '11', 'Low', '5-9'),\n",
       " 371: ('Non-intervention', '11', 'Low', '10-19'),\n",
       " 372: ('Non-intervention', '11', 'Low', '20-29'),\n",
       " 373: ('Non-intervention', '11', 'Low', '30-39'),\n",
       " 374: ('Non-intervention', '11', 'Low', '40-49'),\n",
       " 375: ('Non-intervention', '11', 'Low', '50-59'),\n",
       " 376: ('Non-intervention', '11', 'Low', '60-69'),\n",
       " 377: ('Non-intervention', '11', 'Low', '70+'),\n",
       " 378: ('Non-intervention', '11_betshemesh', 'High', '0-4'),\n",
       " 379: ('Non-intervention', '11_betshemesh', 'High', '5-9'),\n",
       " 380: ('Non-intervention', '11_betshemesh', 'High', '10-19'),\n",
       " 381: ('Non-intervention', '11_betshemesh', 'High', '20-29'),\n",
       " 382: ('Non-intervention', '11_betshemesh', 'High', '30-39'),\n",
       " 383: ('Non-intervention', '11_betshemesh', 'High', '40-49'),\n",
       " 384: ('Non-intervention', '11_betshemesh', 'High', '50-59'),\n",
       " 385: ('Non-intervention', '11_betshemesh', 'High', '60-69'),\n",
       " 386: ('Non-intervention', '11_betshemesh', 'High', '70+'),\n",
       " 387: ('Non-intervention', '11_betshemesh', 'Low', '0-4'),\n",
       " 388: ('Non-intervention', '11_betshemesh', 'Low', '5-9'),\n",
       " 389: ('Non-intervention', '11_betshemesh', 'Low', '10-19'),\n",
       " 390: ('Non-intervention', '11_betshemesh', 'Low', '20-29'),\n",
       " 391: ('Non-intervention', '11_betshemesh', 'Low', '30-39'),\n",
       " 392: ('Non-intervention', '11_betshemesh', 'Low', '40-49'),\n",
       " 393: ('Non-intervention', '11_betshemesh', 'Low', '50-59'),\n",
       " 394: ('Non-intervention', '11_betshemesh', 'Low', '60-69'),\n",
       " 395: ('Non-intervention', '11_betshemesh', 'Low', '70+'),\n",
       " 396: ('Non-intervention', '21', 'High', '0-4'),\n",
       " 397: ('Non-intervention', '21', 'High', '5-9'),\n",
       " 398: ('Non-intervention', '21', 'High', '10-19'),\n",
       " 399: ('Non-intervention', '21', 'High', '20-29'),\n",
       " 400: ('Non-intervention', '21', 'High', '30-39'),\n",
       " 401: ('Non-intervention', '21', 'High', '40-49'),\n",
       " 402: ('Non-intervention', '21', 'High', '50-59'),\n",
       " 403: ('Non-intervention', '21', 'High', '60-69'),\n",
       " 404: ('Non-intervention', '21', 'High', '70+'),\n",
       " 405: ('Non-intervention', '21', 'Low', '0-4'),\n",
       " 406: ('Non-intervention', '21', 'Low', '5-9'),\n",
       " 407: ('Non-intervention', '21', 'Low', '10-19'),\n",
       " 408: ('Non-intervention', '21', 'Low', '20-29'),\n",
       " 409: ('Non-intervention', '21', 'Low', '30-39'),\n",
       " 410: ('Non-intervention', '21', 'Low', '40-49'),\n",
       " 411: ('Non-intervention', '21', 'Low', '50-59'),\n",
       " 412: ('Non-intervention', '21', 'Low', '60-69'),\n",
       " 413: ('Non-intervention', '21', 'Low', '70+'),\n",
       " 414: ('Non-intervention', '22', 'High', '0-4'),\n",
       " 415: ('Non-intervention', '22', 'High', '5-9'),\n",
       " 416: ('Non-intervention', '22', 'High', '10-19'),\n",
       " 417: ('Non-intervention', '22', 'High', '20-29'),\n",
       " 418: ('Non-intervention', '22', 'High', '30-39'),\n",
       " 419: ('Non-intervention', '22', 'High', '40-49'),\n",
       " 420: ('Non-intervention', '22', 'High', '50-59'),\n",
       " 421: ('Non-intervention', '22', 'High', '60-69'),\n",
       " 422: ('Non-intervention', '22', 'High', '70+'),\n",
       " 423: ('Non-intervention', '22', 'Low', '0-4'),\n",
       " 424: ('Non-intervention', '22', 'Low', '5-9'),\n",
       " 425: ('Non-intervention', '22', 'Low', '10-19'),\n",
       " 426: ('Non-intervention', '22', 'Low', '20-29'),\n",
       " 427: ('Non-intervention', '22', 'Low', '30-39'),\n",
       " 428: ('Non-intervention', '22', 'Low', '40-49'),\n",
       " 429: ('Non-intervention', '22', 'Low', '50-59'),\n",
       " 430: ('Non-intervention', '22', 'Low', '60-69'),\n",
       " 431: ('Non-intervention', '22', 'Low', '70+'),\n",
       " 432: ('Non-intervention', '23', 'High', '0-4'),\n",
       " 433: ('Non-intervention', '23', 'High', '5-9'),\n",
       " 434: ('Non-intervention', '23', 'High', '10-19'),\n",
       " 435: ('Non-intervention', '23', 'High', '20-29'),\n",
       " 436: ('Non-intervention', '23', 'High', '30-39'),\n",
       " 437: ('Non-intervention', '23', 'High', '40-49'),\n",
       " 438: ('Non-intervention', '23', 'High', '50-59'),\n",
       " 439: ('Non-intervention', '23', 'High', '60-69'),\n",
       " 440: ('Non-intervention', '23', 'High', '70+'),\n",
       " 441: ('Non-intervention', '23', 'Low', '0-4'),\n",
       " 442: ('Non-intervention', '23', 'Low', '5-9'),\n",
       " 443: ('Non-intervention', '23', 'Low', '10-19'),\n",
       " 444: ('Non-intervention', '23', 'Low', '20-29'),\n",
       " 445: ('Non-intervention', '23', 'Low', '30-39'),\n",
       " 446: ('Non-intervention', '23', 'Low', '40-49'),\n",
       " 447: ('Non-intervention', '23', 'Low', '50-59'),\n",
       " 448: ('Non-intervention', '23', 'Low', '60-69'),\n",
       " 449: ('Non-intervention', '23', 'Low', '70+'),\n",
       " 450: ('Non-intervention', '24', 'High', '0-4'),\n",
       " 451: ('Non-intervention', '24', 'High', '5-9'),\n",
       " 452: ('Non-intervention', '24', 'High', '10-19'),\n",
       " 453: ('Non-intervention', '24', 'High', '20-29'),\n",
       " 454: ('Non-intervention', '24', 'High', '30-39'),\n",
       " 455: ('Non-intervention', '24', 'High', '40-49'),\n",
       " 456: ('Non-intervention', '24', 'High', '50-59'),\n",
       " 457: ('Non-intervention', '24', 'High', '60-69'),\n",
       " 458: ('Non-intervention', '24', 'High', '70+'),\n",
       " 459: ('Non-intervention', '24', 'Low', '0-4'),\n",
       " 460: ('Non-intervention', '24', 'Low', '5-9'),\n",
       " 461: ('Non-intervention', '24', 'Low', '10-19'),\n",
       " 462: ('Non-intervention', '24', 'Low', '20-29'),\n",
       " 463: ('Non-intervention', '24', 'Low', '30-39'),\n",
       " 464: ('Non-intervention', '24', 'Low', '40-49'),\n",
       " 465: ('Non-intervention', '24', 'Low', '50-59'),\n",
       " 466: ('Non-intervention', '24', 'Low', '60-69'),\n",
       " 467: ('Non-intervention', '24', 'Low', '70+'),\n",
       " 468: ('Non-intervention', '29', 'High', '0-4'),\n",
       " 469: ('Non-intervention', '29', 'High', '5-9'),\n",
       " 470: ('Non-intervention', '29', 'High', '10-19'),\n",
       " 471: ('Non-intervention', '29', 'High', '20-29'),\n",
       " 472: ('Non-intervention', '29', 'High', '30-39'),\n",
       " 473: ('Non-intervention', '29', 'High', '40-49'),\n",
       " 474: ('Non-intervention', '29', 'High', '50-59'),\n",
       " 475: ('Non-intervention', '29', 'High', '60-69'),\n",
       " 476: ('Non-intervention', '29', 'High', '70+'),\n",
       " 477: ('Non-intervention', '29', 'Low', '0-4'),\n",
       " 478: ('Non-intervention', '29', 'Low', '5-9'),\n",
       " 479: ('Non-intervention', '29', 'Low', '10-19'),\n",
       " 480: ('Non-intervention', '29', 'Low', '20-29'),\n",
       " 481: ('Non-intervention', '29', 'Low', '30-39'),\n",
       " 482: ('Non-intervention', '29', 'Low', '40-49'),\n",
       " 483: ('Non-intervention', '29', 'Low', '50-59'),\n",
       " 484: ('Non-intervention', '29', 'Low', '60-69'),\n",
       " 485: ('Non-intervention', '29', 'Low', '70+'),\n",
       " 486: ('Non-intervention', '31', 'High', '0-4'),\n",
       " 487: ('Non-intervention', '31', 'High', '5-9'),\n",
       " 488: ('Non-intervention', '31', 'High', '10-19'),\n",
       " 489: ('Non-intervention', '31', 'High', '20-29'),\n",
       " 490: ('Non-intervention', '31', 'High', '30-39'),\n",
       " 491: ('Non-intervention', '31', 'High', '40-49'),\n",
       " 492: ('Non-intervention', '31', 'High', '50-59'),\n",
       " 493: ('Non-intervention', '31', 'High', '60-69'),\n",
       " 494: ('Non-intervention', '31', 'High', '70+'),\n",
       " 495: ('Non-intervention', '31', 'Low', '0-4'),\n",
       " 496: ('Non-intervention', '31', 'Low', '5-9'),\n",
       " 497: ('Non-intervention', '31', 'Low', '10-19'),\n",
       " 498: ('Non-intervention', '31', 'Low', '20-29'),\n",
       " 499: ('Non-intervention', '31', 'Low', '30-39'),\n",
       " 500: ('Non-intervention', '31', 'Low', '40-49'),\n",
       " 501: ('Non-intervention', '31', 'Low', '50-59'),\n",
       " 502: ('Non-intervention', '31', 'Low', '60-69'),\n",
       " 503: ('Non-intervention', '31', 'Low', '70+'),\n",
       " 504: ('Non-intervention', '32', 'High', '0-4'),\n",
       " 505: ('Non-intervention', '32', 'High', '5-9'),\n",
       " 506: ('Non-intervention', '32', 'High', '10-19'),\n",
       " 507: ('Non-intervention', '32', 'High', '20-29'),\n",
       " 508: ('Non-intervention', '32', 'High', '30-39'),\n",
       " 509: ('Non-intervention', '32', 'High', '40-49'),\n",
       " 510: ('Non-intervention', '32', 'High', '50-59'),\n",
       " 511: ('Non-intervention', '32', 'High', '60-69'),\n",
       " 512: ('Non-intervention', '32', 'High', '70+'),\n",
       " 513: ('Non-intervention', '32', 'Low', '0-4'),\n",
       " 514: ('Non-intervention', '32', 'Low', '5-9'),\n",
       " 515: ('Non-intervention', '32', 'Low', '10-19'),\n",
       " 516: ('Non-intervention', '32', 'Low', '20-29'),\n",
       " 517: ('Non-intervention', '32', 'Low', '30-39'),\n",
       " 518: ('Non-intervention', '32', 'Low', '40-49'),\n",
       " 519: ('Non-intervention', '32', 'Low', '50-59'),\n",
       " 520: ('Non-intervention', '32', 'Low', '60-69'),\n",
       " 521: ('Non-intervention', '32', 'Low', '70+'),\n",
       " 522: ('Non-intervention', '41', 'High', '0-4'),\n",
       " 523: ('Non-intervention', '41', 'High', '5-9'),\n",
       " 524: ('Non-intervention', '41', 'High', '10-19'),\n",
       " 525: ('Non-intervention', '41', 'High', '20-29'),\n",
       " 526: ('Non-intervention', '41', 'High', '30-39'),\n",
       " 527: ('Non-intervention', '41', 'High', '40-49'),\n",
       " 528: ('Non-intervention', '41', 'High', '50-59'),\n",
       " 529: ('Non-intervention', '41', 'High', '60-69'),\n",
       " 530: ('Non-intervention', '41', 'High', '70+'),\n",
       " 531: ('Non-intervention', '41', 'Low', '0-4'),\n",
       " 532: ('Non-intervention', '41', 'Low', '5-9'),\n",
       " 533: ('Non-intervention', '41', 'Low', '10-19'),\n",
       " 534: ('Non-intervention', '41', 'Low', '20-29'),\n",
       " 535: ('Non-intervention', '41', 'Low', '30-39'),\n",
       " 536: ('Non-intervention', '41', 'Low', '40-49'),\n",
       " 537: ('Non-intervention', '41', 'Low', '50-59'),\n",
       " 538: ('Non-intervention', '41', 'Low', '60-69'),\n",
       " 539: ('Non-intervention', '41', 'Low', '70+'),\n",
       " 540: ('Non-intervention', '42', 'High', '0-4'),\n",
       " 541: ('Non-intervention', '42', 'High', '5-9'),\n",
       " 542: ('Non-intervention', '42', 'High', '10-19'),\n",
       " 543: ('Non-intervention', '42', 'High', '20-29'),\n",
       " 544: ('Non-intervention', '42', 'High', '30-39'),\n",
       " 545: ('Non-intervention', '42', 'High', '40-49'),\n",
       " 546: ('Non-intervention', '42', 'High', '50-59'),\n",
       " 547: ('Non-intervention', '42', 'High', '60-69'),\n",
       " 548: ('Non-intervention', '42', 'High', '70+'),\n",
       " 549: ('Non-intervention', '42', 'Low', '0-4'),\n",
       " 550: ('Non-intervention', '42', 'Low', '5-9'),\n",
       " 551: ('Non-intervention', '42', 'Low', '10-19'),\n",
       " 552: ('Non-intervention', '42', 'Low', '20-29'),\n",
       " 553: ('Non-intervention', '42', 'Low', '30-39'),\n",
       " 554: ('Non-intervention', '42', 'Low', '40-49'),\n",
       " 555: ('Non-intervention', '42', 'Low', '50-59'),\n",
       " 556: ('Non-intervention', '42', 'Low', '60-69'),\n",
       " 557: ('Non-intervention', '42', 'Low', '70+'),\n",
       " 558: ('Non-intervention', '43', 'High', '0-4'),\n",
       " 559: ('Non-intervention', '43', 'High', '5-9'),\n",
       " 560: ('Non-intervention', '43', 'High', '10-19'),\n",
       " 561: ('Non-intervention', '43', 'High', '20-29'),\n",
       " 562: ('Non-intervention', '43', 'High', '30-39'),\n",
       " 563: ('Non-intervention', '43', 'High', '40-49'),\n",
       " 564: ('Non-intervention', '43', 'High', '50-59'),\n",
       " 565: ('Non-intervention', '43', 'High', '60-69'),\n",
       " 566: ('Non-intervention', '43', 'High', '70+'),\n",
       " 567: ('Non-intervention', '43', 'Low', '0-4'),\n",
       " 568: ('Non-intervention', '43', 'Low', '5-9'),\n",
       " 569: ('Non-intervention', '43', 'Low', '10-19'),\n",
       " 570: ('Non-intervention', '43', 'Low', '20-29'),\n",
       " 571: ('Non-intervention', '43', 'Low', '30-39'),\n",
       " 572: ('Non-intervention', '43', 'Low', '40-49'),\n",
       " 573: ('Non-intervention', '43', 'Low', '50-59'),\n",
       " 574: ('Non-intervention', '43', 'Low', '60-69'),\n",
       " 575: ('Non-intervention', '43', 'Low', '70+'),\n",
       " 576: ('Non-intervention', '44', 'High', '0-4'),\n",
       " 577: ('Non-intervention', '44', 'High', '5-9'),\n",
       " 578: ('Non-intervention', '44', 'High', '10-19'),\n",
       " 579: ('Non-intervention', '44', 'High', '20-29'),\n",
       " 580: ('Non-intervention', '44', 'High', '30-39'),\n",
       " 581: ('Non-intervention', '44', 'High', '40-49'),\n",
       " 582: ('Non-intervention', '44', 'High', '50-59'),\n",
       " 583: ('Non-intervention', '44', 'High', '60-69'),\n",
       " 584: ('Non-intervention', '44', 'High', '70+'),\n",
       " 585: ('Non-intervention', '44', 'Low', '0-4'),\n",
       " 586: ('Non-intervention', '44', 'Low', '5-9'),\n",
       " 587: ('Non-intervention', '44', 'Low', '10-19'),\n",
       " 588: ('Non-intervention', '44', 'Low', '20-29'),\n",
       " 589: ('Non-intervention', '44', 'Low', '30-39'),\n",
       " 590: ('Non-intervention', '44', 'Low', '40-49'),\n",
       " 591: ('Non-intervention', '44', 'Low', '50-59'),\n",
       " 592: ('Non-intervention', '44', 'Low', '60-69'),\n",
       " 593: ('Non-intervention', '44', 'Low', '70+'),\n",
       " 594: ('Non-intervention', '51', 'High', '0-4'),\n",
       " 595: ('Non-intervention', '51', 'High', '5-9'),\n",
       " 596: ('Non-intervention', '51', 'High', '10-19'),\n",
       " 597: ('Non-intervention', '51', 'High', '20-29'),\n",
       " 598: ('Non-intervention', '51', 'High', '30-39'),\n",
       " 599: ('Non-intervention', '51', 'High', '40-49'),\n",
       " 600: ('Non-intervention', '51', 'High', '50-59'),\n",
       " 601: ('Non-intervention', '51', 'High', '60-69'),\n",
       " 602: ('Non-intervention', '51', 'High', '70+'),\n",
       " 603: ('Non-intervention', '51', 'Low', '0-4'),\n",
       " 604: ('Non-intervention', '51', 'Low', '5-9'),\n",
       " 605: ('Non-intervention', '51', 'Low', '10-19'),\n",
       " 606: ('Non-intervention', '51', 'Low', '20-29'),\n",
       " 607: ('Non-intervention', '51', 'Low', '30-39'),\n",
       " 608: ('Non-intervention', '51', 'Low', '40-49'),\n",
       " 609: ('Non-intervention', '51', 'Low', '50-59'),\n",
       " 610: ('Non-intervention', '51', 'Low', '60-69'),\n",
       " 611: ('Non-intervention', '51', 'Low', '70+'),\n",
       " 612: ('Non-intervention', '51_tlv', 'High', '0-4'),\n",
       " 613: ('Non-intervention', '51_tlv', 'High', '5-9'),\n",
       " 614: ('Non-intervention', '51_tlv', 'High', '10-19'),\n",
       " 615: ('Non-intervention', '51_tlv', 'High', '20-29'),\n",
       " 616: ('Non-intervention', '51_tlv', 'High', '30-39'),\n",
       " 617: ('Non-intervention', '51_tlv', 'High', '40-49'),\n",
       " 618: ('Non-intervention', '51_tlv', 'High', '50-59'),\n",
       " 619: ('Non-intervention', '51_tlv', 'High', '60-69'),\n",
       " 620: ('Non-intervention', '51_tlv', 'High', '70+'),\n",
       " 621: ('Non-intervention', '51_tlv', 'Low', '0-4'),\n",
       " 622: ('Non-intervention', '51_tlv', 'Low', '5-9'),\n",
       " 623: ('Non-intervention', '51_tlv', 'Low', '10-19'),\n",
       " 624: ('Non-intervention', '51_tlv', 'Low', '20-29'),\n",
       " 625: ('Non-intervention', '51_tlv', 'Low', '30-39'),\n",
       " 626: ('Non-intervention', '51_tlv', 'Low', '40-49'),\n",
       " 627: ('Non-intervention', '51_tlv', 'Low', '50-59'),\n",
       " 628: ('Non-intervention', '51_tlv', 'Low', '60-69'),\n",
       " 629: ('Non-intervention', '51_tlv', 'Low', '70+'),\n",
       " 630: ('Non-intervention', '51_bb', 'High', '0-4'),\n",
       " 631: ('Non-intervention', '51_bb', 'High', '5-9'),\n",
       " 632: ('Non-intervention', '51_bb', 'High', '10-19'),\n",
       " 633: ('Non-intervention', '51_bb', 'High', '20-29'),\n",
       " 634: ('Non-intervention', '51_bb', 'High', '30-39'),\n",
       " 635: ('Non-intervention', '51_bb', 'High', '40-49'),\n",
       " 636: ('Non-intervention', '51_bb', 'High', '50-59'),\n",
       " 637: ('Non-intervention', '51_bb', 'High', '60-69'),\n",
       " 638: ('Non-intervention', '51_bb', 'High', '70+'),\n",
       " 639: ('Non-intervention', '51_bb', 'Low', '0-4'),\n",
       " 640: ('Non-intervention', '51_bb', 'Low', '5-9'),\n",
       " 641: ('Non-intervention', '51_bb', 'Low', '10-19'),\n",
       " 642: ('Non-intervention', '51_bb', 'Low', '20-29'),\n",
       " 643: ('Non-intervention', '51_bb', 'Low', '30-39'),\n",
       " 644: ('Non-intervention', '51_bb', 'Low', '40-49'),\n",
       " 645: ('Non-intervention', '51_bb', 'Low', '50-59'),\n",
       " 646: ('Non-intervention', '51_bb', 'Low', '60-69'),\n",
       " 647: ('Non-intervention', '51_bb', 'Low', '70+'),\n",
       " 648: ('Non-intervention', '61', 'High', '0-4'),\n",
       " 649: ('Non-intervention', '61', 'High', '5-9'),\n",
       " 650: ('Non-intervention', '61', 'High', '10-19'),\n",
       " 651: ('Non-intervention', '61', 'High', '20-29'),\n",
       " 652: ('Non-intervention', '61', 'High', '30-39'),\n",
       " 653: ('Non-intervention', '61', 'High', '40-49'),\n",
       " 654: ('Non-intervention', '61', 'High', '50-59'),\n",
       " 655: ('Non-intervention', '61', 'High', '60-69'),\n",
       " 656: ('Non-intervention', '61', 'High', '70+'),\n",
       " 657: ('Non-intervention', '61', 'Low', '0-4'),\n",
       " 658: ('Non-intervention', '61', 'Low', '5-9'),\n",
       " 659: ('Non-intervention', '61', 'Low', '10-19'),\n",
       " 660: ('Non-intervention', '61', 'Low', '20-29'),\n",
       " 661: ('Non-intervention', '61', 'Low', '30-39'),\n",
       " 662: ('Non-intervention', '61', 'Low', '40-49'),\n",
       " 663: ('Non-intervention', '61', 'Low', '50-59'),\n",
       " 664: ('Non-intervention', '61', 'Low', '60-69'),\n",
       " 665: ('Non-intervention', '61', 'Low', '70+'),\n",
       " 666: ('Non-intervention', '62', 'High', '0-4'),\n",
       " 667: ('Non-intervention', '62', 'High', '5-9'),\n",
       " 668: ('Non-intervention', '62', 'High', '10-19'),\n",
       " 669: ('Non-intervention', '62', 'High', '20-29'),\n",
       " 670: ('Non-intervention', '62', 'High', '30-39'),\n",
       " 671: ('Non-intervention', '62', 'High', '40-49'),\n",
       " 672: ('Non-intervention', '62', 'High', '50-59'),\n",
       " 673: ('Non-intervention', '62', 'High', '60-69'),\n",
       " 674: ('Non-intervention', '62', 'High', '70+'),\n",
       " 675: ('Non-intervention', '62', 'Low', '0-4'),\n",
       " 676: ('Non-intervention', '62', 'Low', '5-9'),\n",
       " 677: ('Non-intervention', '62', 'Low', '10-19'),\n",
       " 678: ('Non-intervention', '62', 'Low', '20-29'),\n",
       " 679: ('Non-intervention', '62', 'Low', '30-39'),\n",
       " 680: ('Non-intervention', '62', 'Low', '40-49'),\n",
       " 681: ('Non-intervention', '62', 'Low', '50-59'),\n",
       " 682: ('Non-intervention', '62', 'Low', '60-69'),\n",
       " 683: ('Non-intervention', '62', 'Low', '70+'),\n",
       " 684: ('Non-intervention', '62_arab', 'High', '0-4'),\n",
       " 685: ('Non-intervention', '62_arab', 'High', '5-9'),\n",
       " 686: ('Non-intervention', '62_arab', 'High', '10-19'),\n",
       " 687: ('Non-intervention', '62_arab', 'High', '20-29'),\n",
       " 688: ('Non-intervention', '62_arab', 'High', '30-39'),\n",
       " 689: ('Non-intervention', '62_arab', 'High', '40-49'),\n",
       " 690: ('Non-intervention', '62_arab', 'High', '50-59'),\n",
       " 691: ('Non-intervention', '62_arab', 'High', '60-69'),\n",
       " 692: ('Non-intervention', '62_arab', 'High', '70+'),\n",
       " 693: ('Non-intervention', '62_arab', 'Low', '0-4'),\n",
       " 694: ('Non-intervention', '62_arab', 'Low', '5-9'),\n",
       " 695: ('Non-intervention', '62_arab', 'Low', '10-19'),\n",
       " 696: ('Non-intervention', '62_arab', 'Low', '20-29'),\n",
       " 697: ('Non-intervention', '62_arab', 'Low', '30-39'),\n",
       " 698: ('Non-intervention', '62_arab', 'Low', '40-49'),\n",
       " 699: ('Non-intervention', '62_arab', 'Low', '50-59'),\n",
       " 700: ('Non-intervention', '62_arab', 'Low', '60-69'),\n",
       " 701: ('Non-intervention', '62_arab', 'Low', '70+'),\n",
       " 702: ('Non-intervention', '71', 'High', '0-4'),\n",
       " 703: ('Non-intervention', '71', 'High', '5-9'),\n",
       " 704: ('Non-intervention', '71', 'High', '10-19'),\n",
       " 705: ('Non-intervention', '71', 'High', '20-29'),\n",
       " 706: ('Non-intervention', '71', 'High', '30-39'),\n",
       " 707: ('Non-intervention', '71', 'High', '40-49'),\n",
       " 708: ('Non-intervention', '71', 'High', '50-59'),\n",
       " 709: ('Non-intervention', '71', 'High', '60-69'),\n",
       " 710: ('Non-intervention', '71', 'High', '70+'),\n",
       " 711: ('Non-intervention', '71', 'Low', '0-4'),\n",
       " 712: ('Non-intervention', '71', 'Low', '5-9'),\n",
       " 713: ('Non-intervention', '71', 'Low', '10-19'),\n",
       " 714: ('Non-intervention', '71', 'Low', '20-29'),\n",
       " 715: ('Non-intervention', '71', 'Low', '30-39'),\n",
       " 716: ('Non-intervention', '71', 'Low', '40-49'),\n",
       " 717: ('Non-intervention', '71', 'Low', '50-59'),\n",
       " 718: ('Non-intervention', '71', 'Low', '60-69'),\n",
       " 719: ('Non-intervention', '71', 'Low', '70+')}"
      ]
     },
     "execution_count": 95,
     "metadata": {},
     "output_type": "execute_result"
    }
   ],
   "source": [
    "mdl.N"
   ]
  },
  {
   "cell_type": "markdown",
   "metadata": {},
   "source": [
    "# Asymptomatic"
   ]
  },
  {
   "cell_type": "code",
   "execution_count": 14,
   "metadata": {
    "ExecuteTime": {
     "end_time": "2020-04-06T18:45:26.433574Z",
     "start_time": "2020-04-06T18:45:26.406606Z"
    }
   },
   "outputs": [
    {
     "data": {
      "text/html": [
       "<div>\n",
       "<style scoped>\n",
       "    .dataframe tbody tr th:only-of-type {\n",
       "        vertical-align: middle;\n",
       "    }\n",
       "\n",
       "    .dataframe tbody tr th {\n",
       "        vertical-align: top;\n",
       "    }\n",
       "\n",
       "    .dataframe thead th {\n",
       "        text-align: right;\n",
       "    }\n",
       "</style>\n",
       "<table border=\"1\" class=\"dataframe\">\n",
       "  <thead>\n",
       "    <tr style=\"text-align: right;\">\n",
       "      <th></th>\n",
       "      <th>Scenario 1</th>\n",
       "      <th>Scenario 2</th>\n",
       "      <th>Scenario 3</th>\n",
       "      <th>Unnamed: 4</th>\n",
       "    </tr>\n",
       "    <tr>\n",
       "      <th>Age</th>\n",
       "      <th></th>\n",
       "      <th></th>\n",
       "      <th></th>\n",
       "      <th></th>\n",
       "    </tr>\n",
       "  </thead>\n",
       "  <tbody>\n",
       "    <tr>\n",
       "      <th>0-4</th>\n",
       "      <td>0.957467</td>\n",
       "      <td>0.765973</td>\n",
       "      <td>0.612779</td>\n",
       "      <td>NaN</td>\n",
       "    </tr>\n",
       "    <tr>\n",
       "      <th>5-9</th>\n",
       "      <td>0.957467</td>\n",
       "      <td>0.765973</td>\n",
       "      <td>0.612779</td>\n",
       "      <td>NaN</td>\n",
       "    </tr>\n",
       "    <tr>\n",
       "      <th>10-19</th>\n",
       "      <td>0.972167</td>\n",
       "      <td>0.777734</td>\n",
       "      <td>0.622187</td>\n",
       "      <td>NaN</td>\n",
       "    </tr>\n",
       "    <tr>\n",
       "      <th>20-29</th>\n",
       "      <td>0.921424</td>\n",
       "      <td>0.737139</td>\n",
       "      <td>0.589711</td>\n",
       "      <td>NaN</td>\n",
       "    </tr>\n",
       "    <tr>\n",
       "      <th>30-39</th>\n",
       "      <td>0.899804</td>\n",
       "      <td>0.719843</td>\n",
       "      <td>0.575874</td>\n",
       "      <td>NaN</td>\n",
       "    </tr>\n",
       "  </tbody>\n",
       "</table>\n",
       "</div>"
      ],
      "text/plain": [
       "       Scenario 1  Scenario 2  Scenario 3  Unnamed: 4\n",
       "Age                                                  \n",
       "0-4      0.957467    0.765973    0.612779         NaN\n",
       "5-9      0.957467    0.765973    0.612779         NaN\n",
       "10-19    0.972167    0.777734    0.622187         NaN\n",
       "20-29    0.921424    0.737139    0.589711         NaN\n",
       "30-39    0.899804    0.719843    0.575874         NaN"
      ]
     },
     "execution_count": 14,
     "metadata": {},
     "output_type": "execute_result"
    }
   ],
   "source": [
    "asymp = pd.read_csv('../Data/asymptomatic proportions.csv', index_col=0)\n",
    "asymp.head()"
   ]
  },
  {
   "cell_type": "code",
   "execution_count": 16,
   "metadata": {
    "ExecuteTime": {
     "end_time": "2020-04-06T18:45:53.117064Z",
     "start_time": "2020-04-06T18:45:53.109086Z"
    }
   },
   "outputs": [],
   "source": [
    "# asymptomatic with risk group, high risk with 0\n",
    "f_init = np.zeros(len(list(itertools.product(mdl.R.values(), mdl.A.values()))))\n",
    "f_init1 = f_init.copy()\n",
    "f_init1[9:] = asymp['Scenario 1'].values[:-1]\n",
    "\n",
    "f_init2 = f_init.copy()\n",
    "f_init2[9:] = asymp['Scenario 2'].values[:-1]\n",
    "\n",
    "f_init3 = f_init.copy()\n",
    "f_init3[9:] = asymp['Scenario 3'].values[:-1]"
   ]
  },
  {
   "cell_type": "code",
   "execution_count": 30,
   "metadata": {
    "ExecuteTime": {
     "end_time": "2020-04-04T17:37:59.797940Z",
     "start_time": "2020-04-04T17:37:59.791740Z"
    }
   },
   "outputs": [],
   "source": [
    "f0_full = {} # dict that contains the possible scenarios\n",
    "f_sce1 = expand_partial_array(risk_age, f_init1)\n",
    "f_sce2 = expand_partial_array(risk_age, f_init2)\n",
    "f_sce3 = expand_partial_array(risk_age, f_init3)"
   ]
  },
  {
   "cell_type": "code",
   "execution_count": 31,
   "metadata": {
    "ExecuteTime": {
     "end_time": "2020-04-04T17:38:02.732093Z",
     "start_time": "2020-04-04T17:38:02.727109Z"
    }
   },
   "outputs": [],
   "source": [
    "f0_full['Scenario1'] = f_sce1\n",
    "f0_full['Scenario2'] = f_sce2\n",
    "f0_full['Scenario3'] = f_sce3"
   ]
  },
  {
   "cell_type": "code",
   "execution_count": 34,
   "metadata": {
    "ExecuteTime": {
     "end_time": "2020-04-04T17:39:05.187079Z",
     "start_time": "2020-04-04T17:39:05.177107Z"
    }
   },
   "outputs": [],
   "source": [
    "# Save\n",
    "with open('../Data/parameters/f0_full.pickle', 'wb') as handle:\n",
    "    pickle.dump(f0_full, handle, protocol=pickle.HIGHEST_PROTOCOL)"
   ]
  },
  {
   "cell_type": "markdown",
   "metadata": {},
   "source": [
    "# Initial illness"
   ]
  },
  {
   "cell_type": "code",
   "execution_count": 137,
   "metadata": {
    "ExecuteTime": {
     "end_time": "2020-04-10T00:35:47.804065Z",
     "start_time": "2020-04-10T00:35:47.799069Z"
    },
    "run_control": {
     "marked": true
    }
   },
   "outputs": [],
   "source": [
    "# Age dist. positive specimens\n",
    "age_dist = {'0-4':0.02, '5-9':0.02, '10-19':0.11, '20-29':0.23, '30-39':0.15, '40-49':0.14, '50-59':0.14, '60-69':0.11,\n",
    "           '70+':0.08}"
   ]
  },
  {
   "cell_type": "code",
   "execution_count": 80,
   "metadata": {
    "ExecuteTime": {
     "end_time": "2020-04-09T23:42:58.619049Z",
     "start_time": "2020-04-09T23:42:58.593110Z"
    }
   },
   "outputs": [],
   "source": [
    "# Age distribution:\n",
    "with open('../Data/demograph/init_pop.pickle', 'rb') as f:\n",
    "    pop_dist = pickle.load(f)\n",
    "    \n",
    "# risk distribution by age:\n",
    "risk_dist = pd.read_csv('../Data/population size.csv')\n",
    "\n",
    "init_I_dis = pd.read_csv('../Data/init_i_italy.csv')['proportion'].values[:-1]\n",
    "\n",
    "eps_t = {}"
   ]
  },
  {
   "cell_type": "code",
   "execution_count": 5,
   "metadata": {
    "ExecuteTime": {
     "end_time": "2020-04-06T16:20:03.608275Z",
     "start_time": "2020-04-06T16:20:03.600558Z"
    },
    "run_control": {
     "marked": true
    }
   },
   "outputs": [
    {
     "data": {
      "text/plain": [
       "0.9999999999999999"
      ]
     },
     "execution_count": 5,
     "metadata": {},
     "output_type": "execute_result"
    }
   ],
   "source": [
    "init_I_dis.sum()"
   ]
  },
  {
   "cell_type": "code",
   "execution_count": 151,
   "metadata": {
    "ExecuteTime": {
     "end_time": "2020-04-10T00:39:04.617552Z",
     "start_time": "2020-04-10T00:39:04.608538Z"
    }
   },
   "outputs": [],
   "source": [
    "# Scenario 1\n",
    "init_I_IL1 = (491./(1-(f_init1 * risk_dist['pop size'].values).sum())) / 9136000.\n",
    "init_I_dis1 = init_I_dis * init_I_IL1\n",
    "\n",
    "# Scenario 2\n",
    "init_I_IL2 = (491./(1-(f_init2 * risk_dist['pop size'].values).sum())) / 9136000.\n",
    "init_I_dis2 = init_I_dis * init_I_IL2\n",
    "\n",
    "# Scenario 3\n",
    "init_I_IL3 = (491./(1-(f_init3 * risk_dist['pop size'].values).sum())) / 9136000.\n",
    "init_I_dis3 = init_I_dis * init_I_IL3"
   ]
  },
  {
   "cell_type": "code",
   "execution_count": 64,
   "metadata": {
    "ExecuteTime": {
     "end_time": "2020-04-06T22:23:59.583224Z",
     "start_time": "2020-04-06T22:23:59.563276Z"
    }
   },
   "outputs": [],
   "source": [
    "eps_sc1 = []\n",
    "for i in range(1000):\n",
    "    eps_sc1.append(init_I_dis1[i] * pop_dist if i < len(init_I_dis1) else 0)\n",
    "\n",
    "eps_sc2 = []\n",
    "for i in range(1000):\n",
    "    eps_sc2.append(init_I_dis2[i] * pop_dist if i < len(init_I_dis2) else 0)\n",
    "\n",
    "eps_sc3 = []\n",
    "for i in range(1000):\n",
    "    eps_sc3.append(init_I_dis3[i] * pop_dist if i < len(init_I_dis3) else 0)\n",
    "    \n",
    "    \n",
    "eps_t['Scenario1'] = eps_sc1\n",
    "eps_t['Scenario2'] = eps_sc2\n",
    "eps_t['Scenario3'] = eps_sc3"
   ]
  },
  {
   "cell_type": "code",
   "execution_count": 65,
   "metadata": {
    "ExecuteTime": {
     "end_time": "2020-04-06T22:24:01.533047Z",
     "start_time": "2020-04-06T22:24:01.525032Z"
    }
   },
   "outputs": [],
   "source": [
    "# Save\n",
    "with open('../Data/parameters/eps_dict.pickle', 'wb') as handle:\n",
    "    pickle.dump(eps_t, handle, protocol=pickle.HIGHEST_PROTOCOL)"
   ]
  },
  {
   "cell_type": "markdown",
   "metadata": {
    "ExecuteTime": {
     "end_time": "2020-04-06T22:09:06.738809Z",
     "start_time": "2020-04-06T22:09:06.521369Z"
    }
   },
   "source": [
    "## eps by region proportion"
   ]
  },
  {
   "cell_type": "code",
   "execution_count": 133,
   "metadata": {
    "ExecuteTime": {
     "end_time": "2020-04-10T00:32:02.406169Z",
     "start_time": "2020-04-10T00:32:02.388215Z"
    }
   },
   "outputs": [
    {
     "name": "stdout",
     "output_type": "stream",
     "text": [
      "sub_district_id\n",
      "11               0.137496\n",
      "11_betshemesh    0.012624\n",
      "21               0.010918\n",
      "22               0.006482\n",
      "23               0.037189\n",
      "Name: cases_prop, dtype: float64\n",
      "\n",
      "Age\n",
      "0-4      0.050\n",
      "5-9      0.106\n",
      "10-19    0.106\n",
      "20-29    0.149\n",
      "30-39    0.149\n",
      "Name: risk, dtype: float64\n"
     ]
    }
   ],
   "source": [
    "# Loading data\n",
    "region_prop = pd.read_csv('../Data/Israel/positive_prop_region_2703.csv', index_col=0)['cases_prop'].copy()\n",
    "risk_prop = pd.read_csv('../Data/demograph/risk_dist.csv', index_col=0)['risk'].copy()\n",
    "print(region_prop.head())\n",
    "print()\n",
    "print(risk_prop.head())"
   ]
  },
  {
   "cell_type": "code",
   "execution_count": 97,
   "metadata": {
    "ExecuteTime": {
     "end_time": "2020-04-10T00:04:37.579238Z",
     "start_time": "2020-04-10T00:04:37.575205Z"
    }
   },
   "outputs": [],
   "source": [
    "eps_t_region = {}"
   ]
  },
  {
   "cell_type": "code",
   "execution_count": 152,
   "metadata": {
    "ExecuteTime": {
     "end_time": "2020-04-10T00:39:15.396386Z",
     "start_time": "2020-04-10T00:39:14.649110Z"
    }
   },
   "outputs": [],
   "source": [
    "for sc,init_I in [('Scenario1',init_I_dis1),('Scenario2',init_I_dis2),('Scenario3',init_I_dis3)]:\n",
    "    eps_temp = []\n",
    "    for t in range(1000):\n",
    "        if t < len(init_I):\n",
    "            # empty array for day t\n",
    "            day_vec = np.zeros(len(mdl.N))\n",
    "            # fill in the array, zero for intervention groups\n",
    "            for key in mdl.N.keys():\n",
    "                if mdl.N[key][0] == 'Intervention':\n",
    "                    day_vec[key] = 0\n",
    "                else:\n",
    "                    day_vec[key] = init_I[t] * region_prop[mdl.N[key][1]] * age_dist[mdl.N[key][3]] * \\\n",
    "                    (risk_prop[mdl.N[key][3]]**(1 - (mdl.N[key][2] == 'Low'))) * \\\n",
    "                    ((1 - risk_prop[mdl.N[key][3]])**(mdl.N[key][2] == 'Low'))\n",
    "            eps_temp.append(day_vec)\n",
    "        else:\n",
    "             eps_temp.append(0.0)\n",
    "        \n",
    "        eps_t_region[sc] = eps_temp\n"
   ]
  },
  {
   "cell_type": "code",
   "execution_count": 168,
   "metadata": {
    "ExecuteTime": {
     "end_time": "2020-04-10T00:43:47.095510Z",
     "start_time": "2020-04-10T00:43:47.084447Z"
    }
   },
   "outputs": [],
   "source": [
    "# save eps:\n",
    "with open('Data/parameters/eps_by_region.pickle', 'wb') as handle:\n",
    "    pickle.dump(eps_t_region, handle, protocol=pickle.HIGHEST_PROTOCOL)  "
   ]
  },
  {
   "cell_type": "markdown",
   "metadata": {},
   "source": [
    "## Smoothed eps by region"
   ]
  },
  {
   "cell_type": "code",
   "execution_count": 13,
   "metadata": {
    "ExecuteTime": {
     "end_time": "2020-04-06T18:44:24.610353Z",
     "start_time": "2020-04-06T18:44:24.597423Z"
    }
   },
   "outputs": [
    {
     "data": {
      "text/plain": [
       "array([  0.78180071,   2.94105921,   5.84488904,   8.5253491 ,\n",
       "        12.02483762,  17.497441  ,  24.38473153,  33.09622265,\n",
       "        41.99385742,  39.83459892,  75.79742365,  93.14595037,\n",
       "       114.9991361 , 143.6279275 , 172.5917768 , 219.0158361 ,\n",
       "       274.5609032 , 341.4606921 ])"
      ]
     },
     "execution_count": 13,
     "metadata": {},
     "output_type": "execute_result"
    }
   ],
   "source": [
    "init_eps = pd.read_csv('../Data/Israel/IL_initial_eps.csv', header=None).values[:,0].copy()\n",
    "init_eps"
   ]
  },
  {
   "cell_type": "code",
   "execution_count": 51,
   "metadata": {
    "ExecuteTime": {
     "end_time": "2020-04-06T19:24:19.050266Z",
     "start_time": "2020-04-06T19:24:19.042325Z"
    }
   },
   "outputs": [],
   "source": [
    "# Scenario 1\n",
    "init_eps_asymp1 = (init_eps/(1-(f_init1 * risk_dist['pop size'].values).sum())) / 9136000.\n",
    "\n",
    "# Scenario 2\n",
    "init_eps_asymp2 = (init_eps/(1-(f_init2 * risk_dist['pop size'].values).sum())) / 9136000.\n",
    "\n",
    "\n",
    "# Scenario 3\n",
    "init_eps_asymp3 = (init_eps/(1-(f_init3 * risk_dist['pop size'].values).sum())) / 9136000.\n"
   ]
  },
  {
   "cell_type": "code",
   "execution_count": 26,
   "metadata": {
    "ExecuteTime": {
     "end_time": "2020-04-06T18:50:50.860873Z",
     "start_time": "2020-04-06T18:50:50.852892Z"
    }
   },
   "outputs": [
    {
     "data": {
      "text/plain": [
       "array([0.        , 0.        , 0.        , 0.        , 0.        ,\n",
       "       0.        , 0.        , 0.        , 0.        , 0.6127786 ,\n",
       "       0.6127786 , 0.62218712, 0.58971125, 0.57587446, 0.59021178,\n",
       "       0.56415614, 0.54046208, 0.14933333])"
      ]
     },
     "execution_count": 26,
     "metadata": {},
     "output_type": "execute_result"
    }
   ],
   "source": [
    "f_init3"
   ]
  },
  {
   "cell_type": "code",
   "execution_count": 53,
   "metadata": {
    "ExecuteTime": {
     "end_time": "2020-04-06T19:24:24.349691Z",
     "start_time": "2020-04-06T19:24:24.342677Z"
    }
   },
   "outputs": [
    {
     "data": {
      "text/plain": [
       "3003.15972721764"
      ]
     },
     "execution_count": 53,
     "metadata": {},
     "output_type": "execute_result"
    }
   ],
   "source": [
    "init_eps_asymp3.sum()*9136000"
   ]
  },
  {
   "cell_type": "code",
   "execution_count": 54,
   "metadata": {
    "ExecuteTime": {
     "end_time": "2020-04-06T19:37:28.390005Z",
     "start_time": "2020-04-06T19:37:28.384020Z"
    }
   },
   "outputs": [
    {
     "data": {
      "text/plain": [
       "{0: '11',\n",
       " 1: '11_betshemesh',\n",
       " 2: '21',\n",
       " 3: '22',\n",
       " 4: '23',\n",
       " 5: '24',\n",
       " 6: '29',\n",
       " 7: '31',\n",
       " 8: '32',\n",
       " 9: '41',\n",
       " 10: '42',\n",
       " 11: '43',\n",
       " 12: '44',\n",
       " 13: '51',\n",
       " 14: '51_tlv',\n",
       " 15: '51_bb',\n",
       " 16: '61',\n",
       " 17: '62',\n",
       " 18: '62_arab',\n",
       " 19: '71'}"
      ]
     },
     "execution_count": 54,
     "metadata": {},
     "output_type": "execute_result"
    }
   ],
   "source": [
    "def fill_eps_day(init_eps, dic=mdl.N, age_)"
   ]
  },
  {
   "cell_type": "code",
   "execution_count": null,
   "metadata": {},
   "outputs": [],
   "source": [
    "eps_reg = []\n"
   ]
  },
  {
   "cell_type": "markdown",
   "metadata": {},
   "source": [
    "# Hospitalizations"
   ]
  },
  {
   "cell_type": "code",
   "execution_count": 35,
   "metadata": {
    "ExecuteTime": {
     "end_time": "2020-04-04T17:41:32.067237Z",
     "start_time": "2020-04-04T17:41:32.048328Z"
    }
   },
   "outputs": [
    {
     "data": {
      "text/html": [
       "<div>\n",
       "<style scoped>\n",
       "    .dataframe tbody tr th:only-of-type {\n",
       "        vertical-align: middle;\n",
       "    }\n",
       "\n",
       "    .dataframe tbody tr th {\n",
       "        vertical-align: top;\n",
       "    }\n",
       "\n",
       "    .dataframe thead th {\n",
       "        text-align: right;\n",
       "    }\n",
       "</style>\n",
       "<table border=\"1\" class=\"dataframe\">\n",
       "  <thead>\n",
       "    <tr style=\"text-align: right;\">\n",
       "      <th></th>\n",
       "      <th>Age</th>\n",
       "      <th>risk</th>\n",
       "      <th>pr_hospital</th>\n",
       "    </tr>\n",
       "  </thead>\n",
       "  <tbody>\n",
       "    <tr>\n",
       "      <th>0</th>\n",
       "      <td>0-4</td>\n",
       "      <td>High</td>\n",
       "      <td>0.029022</td>\n",
       "    </tr>\n",
       "    <tr>\n",
       "      <th>1</th>\n",
       "      <td>5-9</td>\n",
       "      <td>High</td>\n",
       "      <td>0.025129</td>\n",
       "    </tr>\n",
       "    <tr>\n",
       "      <th>2</th>\n",
       "      <td>10-19</td>\n",
       "      <td>High</td>\n",
       "      <td>0.025129</td>\n",
       "    </tr>\n",
       "    <tr>\n",
       "      <th>3</th>\n",
       "      <td>20-29</td>\n",
       "      <td>High</td>\n",
       "      <td>0.045566</td>\n",
       "    </tr>\n",
       "    <tr>\n",
       "      <th>4</th>\n",
       "      <td>30-39</td>\n",
       "      <td>High</td>\n",
       "      <td>0.113915</td>\n",
       "    </tr>\n",
       "    <tr>\n",
       "      <th>5</th>\n",
       "      <td>40-49</td>\n",
       "      <td>High</td>\n",
       "      <td>0.136698</td>\n",
       "    </tr>\n",
       "    <tr>\n",
       "      <th>6</th>\n",
       "      <td>50-59</td>\n",
       "      <td>High</td>\n",
       "      <td>0.163551</td>\n",
       "    </tr>\n",
       "    <tr>\n",
       "      <th>7</th>\n",
       "      <td>60-69</td>\n",
       "      <td>High</td>\n",
       "      <td>0.207688</td>\n",
       "    </tr>\n",
       "    <tr>\n",
       "      <th>8</th>\n",
       "      <td>70+</td>\n",
       "      <td>High</td>\n",
       "      <td>0.184739</td>\n",
       "    </tr>\n",
       "    <tr>\n",
       "      <th>9</th>\n",
       "      <td>0-4</td>\n",
       "      <td>Low</td>\n",
       "      <td>0.006894</td>\n",
       "    </tr>\n",
       "    <tr>\n",
       "      <th>10</th>\n",
       "      <td>5-9</td>\n",
       "      <td>Low</td>\n",
       "      <td>0.005969</td>\n",
       "    </tr>\n",
       "    <tr>\n",
       "      <th>11</th>\n",
       "      <td>10-19</td>\n",
       "      <td>Low</td>\n",
       "      <td>0.005969</td>\n",
       "    </tr>\n",
       "    <tr>\n",
       "      <th>12</th>\n",
       "      <td>20-29</td>\n",
       "      <td>Low</td>\n",
       "      <td>0.010823</td>\n",
       "    </tr>\n",
       "    <tr>\n",
       "      <th>13</th>\n",
       "      <td>30-39</td>\n",
       "      <td>Low</td>\n",
       "      <td>0.027058</td>\n",
       "    </tr>\n",
       "    <tr>\n",
       "      <th>14</th>\n",
       "      <td>40-49</td>\n",
       "      <td>Low</td>\n",
       "      <td>0.032470</td>\n",
       "    </tr>\n",
       "    <tr>\n",
       "      <th>15</th>\n",
       "      <td>50-59</td>\n",
       "      <td>Low</td>\n",
       "      <td>0.038848</td>\n",
       "    </tr>\n",
       "    <tr>\n",
       "      <th>16</th>\n",
       "      <td>60-69</td>\n",
       "      <td>Low</td>\n",
       "      <td>0.049332</td>\n",
       "    </tr>\n",
       "    <tr>\n",
       "      <th>17</th>\n",
       "      <td>70+</td>\n",
       "      <td>Low</td>\n",
       "      <td>0.043881</td>\n",
       "    </tr>\n",
       "  </tbody>\n",
       "</table>\n",
       "</div>"
      ],
      "text/plain": [
       "      Age  risk  pr_hospital\n",
       "0     0-4  High     0.029022\n",
       "1     5-9  High     0.025129\n",
       "2   10-19  High     0.025129\n",
       "3   20-29  High     0.045566\n",
       "4   30-39  High     0.113915\n",
       "5   40-49  High     0.136698\n",
       "6   50-59  High     0.163551\n",
       "7   60-69  High     0.207688\n",
       "8     70+  High     0.184739\n",
       "9     0-4   Low     0.006894\n",
       "10    5-9   Low     0.005969\n",
       "11  10-19   Low     0.005969\n",
       "12  20-29   Low     0.010823\n",
       "13  30-39   Low     0.027058\n",
       "14  40-49   Low     0.032470\n",
       "15  50-59   Low     0.038848\n",
       "16  60-69   Low     0.049332\n",
       "17    70+   Low     0.043881"
      ]
     },
     "execution_count": 35,
     "metadata": {},
     "output_type": "execute_result"
    }
   ],
   "source": [
    "hosp_init = pd.read_csv('../Data/hospitalizations.csv')\n",
    "hosp_init"
   ]
  },
  {
   "cell_type": "code",
   "execution_count": 36,
   "metadata": {
    "ExecuteTime": {
     "end_time": "2020-04-04T17:42:18.540534Z",
     "start_time": "2020-04-04T17:42:18.533228Z"
    }
   },
   "outputs": [],
   "source": [
    "hosp = expand_partial_array(risk_age, hosp_init['pr_hospital'].values)"
   ]
  },
  {
   "cell_type": "code",
   "execution_count": 38,
   "metadata": {
    "ExecuteTime": {
     "end_time": "2020-04-04T17:43:04.731673Z",
     "start_time": "2020-04-04T17:43:04.723184Z"
    }
   },
   "outputs": [],
   "source": [
    "# Save\n",
    "with open('../Data/parameters/hospitalization.pickle', 'wb') as handle:\n",
    "    pickle.dump(hosp, handle, protocol=pickle.HIGHEST_PROTOCOL)"
   ]
  },
  {
   "cell_type": "markdown",
   "metadata": {},
   "source": [
    "# Calibration contact matrix"
   ]
  },
  {
   "cell_type": "code",
   "execution_count": 1,
   "metadata": {
    "ExecuteTime": {
     "end_time": "2020-04-12T07:55:36.969417Z",
     "start_time": "2020-04-12T07:55:33.841101Z"
    }
   },
   "outputs": [],
   "source": [
    "import SEIR_full as mdl"
   ]
  },
  {
   "cell_type": "code",
   "execution_count": 11,
   "metadata": {
    "ExecuteTime": {
     "end_time": "2020-04-12T08:01:50.340707Z",
     "start_time": "2020-04-12T08:01:50.333683Z"
    }
   },
   "outputs": [
    {
     "data": {
      "text/plain": [
       "array([[0.00000000e+00, 0.00000000e+00, 0.00000000e+00, ...,\n",
       "        0.00000000e+00, 0.00000000e+00, 0.00000000e+00],\n",
       "       [0.00000000e+00, 4.37346519e+00, 6.13787276e+00, ...,\n",
       "        3.74307514e-04, 2.80915810e-05, 2.85544705e-08],\n",
       "       [0.00000000e+00, 4.74965983e+00, 2.49011976e+01, ...,\n",
       "        1.98828583e-03, 2.00107399e-04, 1.09157596e-07],\n",
       "       ...,\n",
       "       [0.00000000e+00, 1.52767089e-04, 5.19119040e-04, ...,\n",
       "        1.27647753e+02, 8.53740114e+00, 4.88476496e-03],\n",
       "       [3.21804854e-09, 1.27495193e-05, 6.41211593e-05, ...,\n",
       "        1.51984520e+01, 1.18440308e+00, 8.16887248e-03],\n",
       "       [0.00000000e+00, 5.37320192e-09, 5.12545939e-08, ...,\n",
       "        3.64201110e-03, 3.65020647e-03, 3.91885098e-03]])"
      ]
     },
     "execution_count": 11,
     "metadata": {},
     "output_type": "execute_result"
    }
   ],
   "source": [
    "mdl.C_calibration['work_non'][-1]"
   ]
  },
  {
   "cell_type": "markdown",
   "metadata": {},
   "source": [
    "Important : here no intervention mean the course of interventions made by government"
   ]
  },
  {
   "cell_type": "code",
   "execution_count": 9,
   "metadata": {
    "ExecuteTime": {
     "end_time": "2020-04-12T08:01:31.781585Z",
     "start_time": "2020-04-12T08:01:31.512842Z"
    }
   },
   "outputs": [],
   "source": [
    "full_mtx_home = pd.read_csv('../Data/base_contact_mtx/full_home_mtx.csv', index_col=[0,1],header=[0, 1])\n",
    "full_mtx_work = {'routine':pd.read_csv('../Data/base_contact_mtx/full_work_mtx_routine.csv', index_col=[0,1],header=[0, 1]),\n",
    "                        'no_school':pd.read_csv('../Data/base_contact_mtx/full_work_mtx_no_school.csv', index_col=[0,1],header=[0, 1]),\n",
    "                        'no_work':pd.read_csv('../Data/base_contact_mtx/full_work_mtx_no_work.csv', index_col=[0,1],header=[0, 1])}\n",
    "\n",
    "full_mtx_leisure = {'routine':pd.read_csv('../Data/base_contact_mtx/full_leisure_mtx_routine.csv', index_col=[0,1],header=[0, 1]),\n",
    "                        'no_school':pd.read_csv('../Data/base_contact_mtx/full_leisure_mtx_no_school.csv', index_col=[0,1],header=[0, 1]),\n",
    "                        'no_work':pd.read_csv('../Data/base_contact_mtx/full_leisure_mtx_no_work.csv', index_col=[0,1],header=[0, 1])}"
   ]
  },
  {
   "cell_type": "code",
   "execution_count": 10,
   "metadata": {
    "ExecuteTime": {
     "end_time": "2020-04-12T08:01:36.989385Z",
     "start_time": "2020-04-12T08:01:36.934523Z"
    }
   },
   "outputs": [
    {
     "data": {
      "text/html": [
       "<div>\n",
       "<style scoped>\n",
       "    .dataframe tbody tr th:only-of-type {\n",
       "        vertical-align: middle;\n",
       "    }\n",
       "\n",
       "    .dataframe tbody tr th {\n",
       "        vertical-align: top;\n",
       "    }\n",
       "\n",
       "    .dataframe thead tr th {\n",
       "        text-align: left;\n",
       "    }\n",
       "\n",
       "    .dataframe thead tr:last-of-type th {\n",
       "        text-align: right;\n",
       "    }\n",
       "</style>\n",
       "<table border=\"1\" class=\"dataframe\">\n",
       "  <thead>\n",
       "    <tr>\n",
       "      <th></th>\n",
       "      <th></th>\n",
       "      <th colspan=\"9\" halign=\"left\">11</th>\n",
       "      <th>11_betshemesh</th>\n",
       "      <th>...</th>\n",
       "      <th>62_arab</th>\n",
       "      <th colspan=\"9\" halign=\"left\">71</th>\n",
       "    </tr>\n",
       "    <tr>\n",
       "      <th></th>\n",
       "      <th>age</th>\n",
       "      <th>0-4</th>\n",
       "      <th>10-19</th>\n",
       "      <th>20-29</th>\n",
       "      <th>30-39</th>\n",
       "      <th>40-49</th>\n",
       "      <th>5-9</th>\n",
       "      <th>50-59</th>\n",
       "      <th>60-69</th>\n",
       "      <th>70+</th>\n",
       "      <th>0-4</th>\n",
       "      <th>...</th>\n",
       "      <th>70+</th>\n",
       "      <th>0-4</th>\n",
       "      <th>10-19</th>\n",
       "      <th>20-29</th>\n",
       "      <th>30-39</th>\n",
       "      <th>40-49</th>\n",
       "      <th>5-9</th>\n",
       "      <th>50-59</th>\n",
       "      <th>60-69</th>\n",
       "      <th>70+</th>\n",
       "    </tr>\n",
       "    <tr>\n",
       "      <th>area</th>\n",
       "      <th>age</th>\n",
       "      <th></th>\n",
       "      <th></th>\n",
       "      <th></th>\n",
       "      <th></th>\n",
       "      <th></th>\n",
       "      <th></th>\n",
       "      <th></th>\n",
       "      <th></th>\n",
       "      <th></th>\n",
       "      <th></th>\n",
       "      <th></th>\n",
       "      <th></th>\n",
       "      <th></th>\n",
       "      <th></th>\n",
       "      <th></th>\n",
       "      <th></th>\n",
       "      <th></th>\n",
       "      <th></th>\n",
       "      <th></th>\n",
       "      <th></th>\n",
       "      <th></th>\n",
       "    </tr>\n",
       "  </thead>\n",
       "  <tbody>\n",
       "    <tr>\n",
       "      <th rowspan=\"5\" valign=\"top\">11</th>\n",
       "      <th>0-4</th>\n",
       "      <td>0.000000e+00</td>\n",
       "      <td>0.000000e+00</td>\n",
       "      <td>0.000000e+00</td>\n",
       "      <td>0.000000e+00</td>\n",
       "      <td>0.000000e+00</td>\n",
       "      <td>0.000000e+00</td>\n",
       "      <td>0.000000e+00</td>\n",
       "      <td>0.000000e+00</td>\n",
       "      <td>1.691741e-03</td>\n",
       "      <td>0.000000e+00</td>\n",
       "      <td>...</td>\n",
       "      <td>0.000000e+00</td>\n",
       "      <td>0.000000</td>\n",
       "      <td>0.000000</td>\n",
       "      <td>0.000000</td>\n",
       "      <td>0.000000</td>\n",
       "      <td>0.000000</td>\n",
       "      <td>0.000000</td>\n",
       "      <td>0.000000</td>\n",
       "      <td>0.000000</td>\n",
       "      <td>0.000000e+00</td>\n",
       "    </tr>\n",
       "    <tr>\n",
       "      <th>10-19</th>\n",
       "      <td>0.000000e+00</td>\n",
       "      <td>4.462206e+00</td>\n",
       "      <td>6.262414e+00</td>\n",
       "      <td>6.088536e+00</td>\n",
       "      <td>7.613842e+00</td>\n",
       "      <td>0.000000e+00</td>\n",
       "      <td>3.581205e+00</td>\n",
       "      <td>2.350574e-01</td>\n",
       "      <td>1.517325e-04</td>\n",
       "      <td>0.000000e+00</td>\n",
       "      <td>...</td>\n",
       "      <td>4.635329e-07</td>\n",
       "      <td>0.000000</td>\n",
       "      <td>0.000365</td>\n",
       "      <td>0.000618</td>\n",
       "      <td>0.000501</td>\n",
       "      <td>0.000674</td>\n",
       "      <td>0.000000</td>\n",
       "      <td>0.000382</td>\n",
       "      <td>0.000029</td>\n",
       "      <td>2.913386e-08</td>\n",
       "    </tr>\n",
       "    <tr>\n",
       "      <th>20-29</th>\n",
       "      <td>0.000000e+00</td>\n",
       "      <td>4.846033e+00</td>\n",
       "      <td>2.540646e+01</td>\n",
       "      <td>3.027929e+01</td>\n",
       "      <td>2.878416e+01</td>\n",
       "      <td>0.000000e+00</td>\n",
       "      <td>1.902302e+01</td>\n",
       "      <td>1.674407e+00</td>\n",
       "      <td>5.800408e-04</td>\n",
       "      <td>0.000000e+00</td>\n",
       "      <td>...</td>\n",
       "      <td>1.771986e-06</td>\n",
       "      <td>0.000000</td>\n",
       "      <td>0.000397</td>\n",
       "      <td>0.002508</td>\n",
       "      <td>0.002493</td>\n",
       "      <td>0.002546</td>\n",
       "      <td>0.000000</td>\n",
       "      <td>0.002029</td>\n",
       "      <td>0.000204</td>\n",
       "      <td>1.113725e-07</td>\n",
       "    </tr>\n",
       "    <tr>\n",
       "      <th>30-39</th>\n",
       "      <td>0.000000e+00</td>\n",
       "      <td>3.863133e+00</td>\n",
       "      <td>1.904872e+01</td>\n",
       "      <td>4.112174e+01</td>\n",
       "      <td>4.454208e+01</td>\n",
       "      <td>0.000000e+00</td>\n",
       "      <td>2.510209e+01</td>\n",
       "      <td>1.563414e+00</td>\n",
       "      <td>4.340703e-04</td>\n",
       "      <td>0.000000e+00</td>\n",
       "      <td>...</td>\n",
       "      <td>1.326056e-06</td>\n",
       "      <td>0.000000</td>\n",
       "      <td>0.000316</td>\n",
       "      <td>0.001881</td>\n",
       "      <td>0.003385</td>\n",
       "      <td>0.003940</td>\n",
       "      <td>0.000000</td>\n",
       "      <td>0.002677</td>\n",
       "      <td>0.000191</td>\n",
       "      <td>8.334496e-08</td>\n",
       "    </tr>\n",
       "    <tr>\n",
       "      <th>40-49</th>\n",
       "      <td>0.000000e+00</td>\n",
       "      <td>3.597359e+00</td>\n",
       "      <td>1.633521e+01</td>\n",
       "      <td>3.492237e+01</td>\n",
       "      <td>4.928711e+01</td>\n",
       "      <td>0.000000e+00</td>\n",
       "      <td>2.960897e+01</td>\n",
       "      <td>1.691857e+00</td>\n",
       "      <td>7.797899e-04</td>\n",
       "      <td>0.000000e+00</td>\n",
       "      <td>...</td>\n",
       "      <td>2.382207e-06</td>\n",
       "      <td>0.000000</td>\n",
       "      <td>0.000295</td>\n",
       "      <td>0.001613</td>\n",
       "      <td>0.002875</td>\n",
       "      <td>0.004360</td>\n",
       "      <td>0.000000</td>\n",
       "      <td>0.003158</td>\n",
       "      <td>0.000206</td>\n",
       "      <td>1.497259e-07</td>\n",
       "    </tr>\n",
       "    <tr>\n",
       "      <th>...</th>\n",
       "      <th>...</th>\n",
       "      <td>...</td>\n",
       "      <td>...</td>\n",
       "      <td>...</td>\n",
       "      <td>...</td>\n",
       "      <td>...</td>\n",
       "      <td>...</td>\n",
       "      <td>...</td>\n",
       "      <td>...</td>\n",
       "      <td>...</td>\n",
       "      <td>...</td>\n",
       "      <td>...</td>\n",
       "      <td>...</td>\n",
       "      <td>...</td>\n",
       "      <td>...</td>\n",
       "      <td>...</td>\n",
       "      <td>...</td>\n",
       "      <td>...</td>\n",
       "      <td>...</td>\n",
       "      <td>...</td>\n",
       "      <td>...</td>\n",
       "      <td>...</td>\n",
       "    </tr>\n",
       "    <tr>\n",
       "      <th rowspan=\"5\" valign=\"top\">71</th>\n",
       "      <th>40-49</th>\n",
       "      <td>0.000000e+00</td>\n",
       "      <td>1.158186e-04</td>\n",
       "      <td>5.259196e-04</td>\n",
       "      <td>1.124342e-03</td>\n",
       "      <td>1.586821e-03</td>\n",
       "      <td>0.000000e+00</td>\n",
       "      <td>9.532742e-04</td>\n",
       "      <td>5.447010e-05</td>\n",
       "      <td>2.510569e-08</td>\n",
       "      <td>0.000000e+00</td>\n",
       "      <td>...</td>\n",
       "      <td>2.229551e-06</td>\n",
       "      <td>0.000000</td>\n",
       "      <td>7.663010</td>\n",
       "      <td>41.946648</td>\n",
       "      <td>74.776829</td>\n",
       "      <td>113.402041</td>\n",
       "      <td>0.000000</td>\n",
       "      <td>82.126915</td>\n",
       "      <td>5.365729</td>\n",
       "      <td>3.894359e-03</td>\n",
       "    </tr>\n",
       "    <tr>\n",
       "      <th>5-9</th>\n",
       "      <td>0.000000e+00</td>\n",
       "      <td>0.000000e+00</td>\n",
       "      <td>0.000000e+00</td>\n",
       "      <td>0.000000e+00</td>\n",
       "      <td>0.000000e+00</td>\n",
       "      <td>0.000000e+00</td>\n",
       "      <td>0.000000e+00</td>\n",
       "      <td>0.000000e+00</td>\n",
       "      <td>0.000000e+00</td>\n",
       "      <td>0.000000e+00</td>\n",
       "      <td>...</td>\n",
       "      <td>0.000000e+00</td>\n",
       "      <td>0.000000</td>\n",
       "      <td>0.000000</td>\n",
       "      <td>0.000000</td>\n",
       "      <td>0.000000</td>\n",
       "      <td>0.000000</td>\n",
       "      <td>0.000000</td>\n",
       "      <td>0.000000</td>\n",
       "      <td>0.006650</td>\n",
       "      <td>0.000000e+00</td>\n",
       "    </tr>\n",
       "    <tr>\n",
       "      <th>50-59</th>\n",
       "      <td>0.000000e+00</td>\n",
       "      <td>1.061938e-04</td>\n",
       "      <td>3.608581e-04</td>\n",
       "      <td>8.149323e-04</td>\n",
       "      <td>1.298508e-03</td>\n",
       "      <td>0.000000e+00</td>\n",
       "      <td>1.029947e-03</td>\n",
       "      <td>6.024550e-05</td>\n",
       "      <td>2.189018e-08</td>\n",
       "      <td>0.000000e+00</td>\n",
       "      <td>...</td>\n",
       "      <td>1.943993e-06</td>\n",
       "      <td>0.000000</td>\n",
       "      <td>7.026200</td>\n",
       "      <td>28.781569</td>\n",
       "      <td>54.198883</td>\n",
       "      <td>92.797777</td>\n",
       "      <td>0.000000</td>\n",
       "      <td>88.732503</td>\n",
       "      <td>5.934652</td>\n",
       "      <td>3.395574e-03</td>\n",
       "    </tr>\n",
       "    <tr>\n",
       "      <th>60-69</th>\n",
       "      <td>2.236980e-09</td>\n",
       "      <td>8.862645e-06</td>\n",
       "      <td>4.457290e-05</td>\n",
       "      <td>9.314097e-05</td>\n",
       "      <td>1.368005e-04</td>\n",
       "      <td>1.094925e-09</td>\n",
       "      <td>1.226313e-04</td>\n",
       "      <td>8.357925e-06</td>\n",
       "      <td>3.660731e-08</td>\n",
       "      <td>4.289181e-08</td>\n",
       "      <td>...</td>\n",
       "      <td>3.250972e-06</td>\n",
       "      <td>0.000122</td>\n",
       "      <td>0.586387</td>\n",
       "      <td>3.555076</td>\n",
       "      <td>6.194547</td>\n",
       "      <td>9.776440</td>\n",
       "      <td>0.000058</td>\n",
       "      <td>10.564986</td>\n",
       "      <td>0.823321</td>\n",
       "      <td>5.678474e-03</td>\n",
       "    </tr>\n",
       "    <tr>\n",
       "      <th>70+</th>\n",
       "      <td>0.000000e+00</td>\n",
       "      <td>3.735104e-09</td>\n",
       "      <td>3.562890e-08</td>\n",
       "      <td>7.189281e-08</td>\n",
       "      <td>3.898215e-08</td>\n",
       "      <td>0.000000e+00</td>\n",
       "      <td>2.938618e-08</td>\n",
       "      <td>2.575825e-08</td>\n",
       "      <td>1.756162e-08</td>\n",
       "      <td>0.000000e+00</td>\n",
       "      <td>...</td>\n",
       "      <td>1.559588e-06</td>\n",
       "      <td>0.000000</td>\n",
       "      <td>0.000247</td>\n",
       "      <td>0.002842</td>\n",
       "      <td>0.004781</td>\n",
       "      <td>0.002786</td>\n",
       "      <td>0.000000</td>\n",
       "      <td>0.002532</td>\n",
       "      <td>0.002537</td>\n",
       "      <td>2.724133e-03</td>\n",
       "    </tr>\n",
       "  </tbody>\n",
       "</table>\n",
       "<p>180 rows × 180 columns</p>\n",
       "</div>"
      ],
      "text/plain": [
       "                      11                                            \\\n",
       "age                  0-4         10-19         20-29         30-39   \n",
       "area age                                                             \n",
       "11   0-4    0.000000e+00  0.000000e+00  0.000000e+00  0.000000e+00   \n",
       "     10-19  0.000000e+00  4.462206e+00  6.262414e+00  6.088536e+00   \n",
       "     20-29  0.000000e+00  4.846033e+00  2.540646e+01  3.027929e+01   \n",
       "     30-39  0.000000e+00  3.863133e+00  1.904872e+01  4.112174e+01   \n",
       "     40-49  0.000000e+00  3.597359e+00  1.633521e+01  3.492237e+01   \n",
       "...                  ...           ...           ...           ...   \n",
       "71   40-49  0.000000e+00  1.158186e-04  5.259196e-04  1.124342e-03   \n",
       "     5-9    0.000000e+00  0.000000e+00  0.000000e+00  0.000000e+00   \n",
       "     50-59  0.000000e+00  1.061938e-04  3.608581e-04  8.149323e-04   \n",
       "     60-69  2.236980e-09  8.862645e-06  4.457290e-05  9.314097e-05   \n",
       "     70+    0.000000e+00  3.735104e-09  3.562890e-08  7.189281e-08   \n",
       "\n",
       "                                                                    \\\n",
       "age                40-49           5-9         50-59         60-69   \n",
       "area age                                                             \n",
       "11   0-4    0.000000e+00  0.000000e+00  0.000000e+00  0.000000e+00   \n",
       "     10-19  7.613842e+00  0.000000e+00  3.581205e+00  2.350574e-01   \n",
       "     20-29  2.878416e+01  0.000000e+00  1.902302e+01  1.674407e+00   \n",
       "     30-39  4.454208e+01  0.000000e+00  2.510209e+01  1.563414e+00   \n",
       "     40-49  4.928711e+01  0.000000e+00  2.960897e+01  1.691857e+00   \n",
       "...                  ...           ...           ...           ...   \n",
       "71   40-49  1.586821e-03  0.000000e+00  9.532742e-04  5.447010e-05   \n",
       "     5-9    0.000000e+00  0.000000e+00  0.000000e+00  0.000000e+00   \n",
       "     50-59  1.298508e-03  0.000000e+00  1.029947e-03  6.024550e-05   \n",
       "     60-69  1.368005e-04  1.094925e-09  1.226313e-04  8.357925e-06   \n",
       "     70+    3.898215e-08  0.000000e+00  2.938618e-08  2.575825e-08   \n",
       "\n",
       "                         11_betshemesh  ...       62_arab        71            \\\n",
       "age                  70+           0-4  ...           70+       0-4     10-19   \n",
       "area age                                ...                                     \n",
       "11   0-4    1.691741e-03  0.000000e+00  ...  0.000000e+00  0.000000  0.000000   \n",
       "     10-19  1.517325e-04  0.000000e+00  ...  4.635329e-07  0.000000  0.000365   \n",
       "     20-29  5.800408e-04  0.000000e+00  ...  1.771986e-06  0.000000  0.000397   \n",
       "     30-39  4.340703e-04  0.000000e+00  ...  1.326056e-06  0.000000  0.000316   \n",
       "     40-49  7.797899e-04  0.000000e+00  ...  2.382207e-06  0.000000  0.000295   \n",
       "...                  ...           ...  ...           ...       ...       ...   \n",
       "71   40-49  2.510569e-08  0.000000e+00  ...  2.229551e-06  0.000000  7.663010   \n",
       "     5-9    0.000000e+00  0.000000e+00  ...  0.000000e+00  0.000000  0.000000   \n",
       "     50-59  2.189018e-08  0.000000e+00  ...  1.943993e-06  0.000000  7.026200   \n",
       "     60-69  3.660731e-08  4.289181e-08  ...  3.250972e-06  0.000122  0.586387   \n",
       "     70+    1.756162e-08  0.000000e+00  ...  1.559588e-06  0.000000  0.000247   \n",
       "\n",
       "                                                                             \\\n",
       "age             20-29      30-39       40-49       5-9      50-59     60-69   \n",
       "area age                                                                      \n",
       "11   0-4     0.000000   0.000000    0.000000  0.000000   0.000000  0.000000   \n",
       "     10-19   0.000618   0.000501    0.000674  0.000000   0.000382  0.000029   \n",
       "     20-29   0.002508   0.002493    0.002546  0.000000   0.002029  0.000204   \n",
       "     30-39   0.001881   0.003385    0.003940  0.000000   0.002677  0.000191   \n",
       "     40-49   0.001613   0.002875    0.004360  0.000000   0.003158  0.000206   \n",
       "...               ...        ...         ...       ...        ...       ...   \n",
       "71   40-49  41.946648  74.776829  113.402041  0.000000  82.126915  5.365729   \n",
       "     5-9     0.000000   0.000000    0.000000  0.000000   0.000000  0.006650   \n",
       "     50-59  28.781569  54.198883   92.797777  0.000000  88.732503  5.934652   \n",
       "     60-69   3.555076   6.194547    9.776440  0.000058  10.564986  0.823321   \n",
       "     70+     0.002842   0.004781    0.002786  0.000000   0.002532  0.002537   \n",
       "\n",
       "                          \n",
       "age                  70+  \n",
       "area age                  \n",
       "11   0-4    0.000000e+00  \n",
       "     10-19  2.913386e-08  \n",
       "     20-29  1.113725e-07  \n",
       "     30-39  8.334496e-08  \n",
       "     40-49  1.497259e-07  \n",
       "...                  ...  \n",
       "71   40-49  3.894359e-03  \n",
       "     5-9    0.000000e+00  \n",
       "     50-59  3.395574e-03  \n",
       "     60-69  5.678474e-03  \n",
       "     70+    2.724133e-03  \n",
       "\n",
       "[180 rows x 180 columns]"
      ]
     },
     "execution_count": 10,
     "metadata": {},
     "output_type": "execute_result"
    }
   ],
   "source": [
    "full_mtx_work['no_work']"
   ]
  },
  {
   "cell_type": "code",
   "execution_count": 12,
   "metadata": {
    "ExecuteTime": {
     "end_time": "2020-04-12T08:03:44.030097Z",
     "start_time": "2020-04-12T08:03:44.025734Z"
    }
   },
   "outputs": [],
   "source": [
    "C_calibration = {}"
   ]
  },
  {
   "cell_type": "code",
   "execution_count": 13,
   "metadata": {
    "ExecuteTime": {
     "end_time": "2020-04-12T08:03:44.898451Z",
     "start_time": "2020-04-12T08:03:44.893002Z"
    }
   },
   "outputs": [],
   "source": [
    "home_no_inter = []\n",
    "work_no_inter = []\n",
    "leis_no_inter = []\n",
    "\n",
    "home_inter = []\n",
    "work_inter = []\n",
    "leis_inter = []"
   ]
  },
  {
   "cell_type": "code",
   "execution_count": 14,
   "metadata": {
    "ExecuteTime": {
     "end_time": "2020-04-12T08:03:47.131820Z",
     "start_time": "2020-04-12T08:03:46.657916Z"
    }
   },
   "outputs": [],
   "source": [
    "# no intervation are null groups\n",
    "for i in range(1000):\n",
    "    home_no_inter.append(np.zeros((180,180)))\n",
    "    work_no_inter.append(np.zeros((180,180)))\n",
    "    leis_no_inter.append(np.zeros((180,180)))"
   ]
  },
  {
   "cell_type": "code",
   "execution_count": 15,
   "metadata": {
    "ExecuteTime": {
     "end_time": "2020-04-12T08:03:53.716431Z",
     "start_time": "2020-04-12T08:03:53.659626Z"
    }
   },
   "outputs": [],
   "source": [
    "# Intervantion\n",
    "# first days of routine from feb 21st\n",
    "for i in range(9+14):\n",
    "    home_inter.append(full_mtx_home.values)\n",
    "    work_inter.append(full_mtx_work['routine'].values)\n",
    "    leis_inter.append(full_mtx_leisure['routine'].values)    \n",
    "\n",
    "# first days of no school from march 14th\n",
    "for i in range(2):\n",
    "    home_inter.append(full_mtx_home.values)\n",
    "    work_inter.append(full_mtx_work['no_school'].values)\n",
    "    leis_inter.append(full_mtx_leisure['no_school'].values)   \n",
    "\n",
    "# without school and work\n",
    "for i in range(1000-2-9-14):\n",
    "    home_inter.append(full_mtx_home.values)\n",
    "    work_inter.append(full_mtx_work['no_work'].values)\n",
    "    leis_inter.append(full_mtx_leisure['no_work'].values) "
   ]
  },
  {
   "cell_type": "code",
   "execution_count": 16,
   "metadata": {
    "ExecuteTime": {
     "end_time": "2020-04-12T08:04:08.654414Z",
     "start_time": "2020-04-12T08:04:08.648431Z"
    }
   },
   "outputs": [],
   "source": [
    "C_calibration['home_inter'] = home_no_inter\n",
    "C_calibration['work_inter'] = work_no_inter\n",
    "C_calibration['leisure_inter'] = leis_no_inter\n",
    "C_calibration['home_non'] = home_inter\n",
    "C_calibration['work_non'] = work_inter\n",
    "C_calibration['leisure_non'] = leis_inter"
   ]
  },
  {
   "cell_type": "code",
   "execution_count": 17,
   "metadata": {
    "ExecuteTime": {
     "end_time": "2020-04-12T08:04:41.627305Z",
     "start_time": "2020-04-12T08:04:34.935335Z"
    },
    "run_control": {
     "marked": true
    }
   },
   "outputs": [],
   "source": [
    "# Save\n",
    "with open('../Data/parameters/C_calibration.pickle', 'wb') as handle:\n",
    "    pickle.dump(C_calibration, handle, protocol=pickle.HIGHEST_PROTOCOL)"
   ]
  },
  {
   "cell_type": "markdown",
   "metadata": {},
   "source": [
    "# Haredi vector"
   ]
  },
  {
   "cell_type": "code",
   "execution_count": 2,
   "metadata": {
    "ExecuteTime": {
     "end_time": "2020-04-10T05:57:29.084625Z",
     "start_time": "2020-04-10T05:57:29.040975Z"
    }
   },
   "outputs": [
    {
     "data": {
      "text/plain": [
       "sub_district_id\n",
       "11               0.22320\n",
       "11_betshemesh    0.50000\n",
       "21               0.13410\n",
       "22               0.05632\n",
       "23               0.00000\n",
       "Name: haredi, dtype: float64"
      ]
     },
     "execution_count": 2,
     "metadata": {},
     "output_type": "execute_result"
    }
   ],
   "source": [
    "# Loading raw data\n",
    "hared_dis = pd.read_csv('../Data/demograph/religion_dis.csv', index_col=0)['haredi'].copy()\n",
    "hared_dis.head()"
   ]
  },
  {
   "cell_type": "code",
   "execution_count": 5,
   "metadata": {
    "ExecuteTime": {
     "end_time": "2020-04-10T05:57:41.030296Z",
     "start_time": "2020-04-10T05:57:41.012754Z"
    },
    "run_control": {
     "marked": true
    }
   },
   "outputs": [],
   "source": [
    "# Creating model orthodox dist. and save it as pickle\n",
    "model_orthodox_dis = np.zeros(len(mdl.GA))\n",
    "for i in mdl.GA.keys():\n",
    "    model_orthodox_dis[i] = hared_dis[mdl.GA[i][0]]\n",
    "    \n",
    "with open('Data/parameters/orthodox_dist.pickle', 'wb') as handle:\n",
    "    pickle.dump(model_orthodox_dis, handle, protocol=pickle.HIGHEST_PROTOCOL)  "
   ]
  },
  {
   "cell_type": "code",
   "execution_count": null,
   "metadata": {},
   "outputs": [],
   "source": []
  }
 ],
 "metadata": {
  "kernelspec": {
   "display_name": "Python 3",
   "language": "python",
   "name": "python3"
  },
  "language_info": {
   "codemirror_mode": {
    "name": "ipython",
    "version": 3
   },
   "file_extension": ".py",
   "mimetype": "text/x-python",
   "name": "python",
   "nbconvert_exporter": "python",
   "pygments_lexer": "ipython3",
   "version": "3.7.3"
  },
  "toc": {
   "base_numbering": 1,
   "nav_menu": {},
   "number_sections": true,
   "sideBar": true,
   "skip_h1_title": false,
   "title_cell": "Table of Contents",
   "title_sidebar": "Contents",
   "toc_cell": false,
   "toc_position": {
    "height": "calc(100% - 180px)",
    "left": "10px",
    "top": "150px",
    "width": "426.667px"
   },
   "toc_section_display": true,
   "toc_window_display": true
  },
  "varInspector": {
   "cols": {
    "lenName": 16,
    "lenType": 16,
    "lenVar": 40
   },
   "kernels_config": {
    "python": {
     "delete_cmd_postfix": "",
     "delete_cmd_prefix": "del ",
     "library": "var_list.py",
     "varRefreshCmd": "print(var_dic_list())"
    },
    "r": {
     "delete_cmd_postfix": ") ",
     "delete_cmd_prefix": "rm(",
     "library": "var_list.r",
     "varRefreshCmd": "cat(var_dic_list()) "
    }
   },
   "types_to_exclude": [
    "module",
    "function",
    "builtin_function_or_method",
    "instance",
    "_Feature"
   ],
   "window_display": false
  }
 },
 "nbformat": 4,
 "nbformat_minor": 2
}

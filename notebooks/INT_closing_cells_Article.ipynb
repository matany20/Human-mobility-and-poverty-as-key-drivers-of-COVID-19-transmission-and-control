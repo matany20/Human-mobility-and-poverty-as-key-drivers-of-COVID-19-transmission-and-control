{
 "cells": [
  {
   "cell_type": "code",
   "execution_count": 1,
   "metadata": {
    "ExecuteTime": {
     "end_time": "2020-05-11T21:23:25.359946Z",
     "start_time": "2020-05-11T21:23:20.421664Z"
    }
   },
   "outputs": [],
   "source": [
    "import numpy as np\n",
    "import pandas as pd\n",
    "import itertools\n",
    "import pickle\n",
    "from matplotlib import pyplot as plt\n",
    "import datetime\n",
    "from scipy import optimize\n",
    "import sys\n",
    "sys.path.append('../SEIR_full/')\n",
    "sys.path.append('..')\n",
    "import SEIR_full as mdl\n",
    "import SEIR_full.model_class as mdl\n",
    "from PolicyOptimization import EvaluatePolicy as pol\n",
    "import datetime as dt\n",
    "from scipy.stats import poisson\n",
    "from scipy.stats import binom\n",
    "import copy\n",
    "import os\n",
    "import time"
   ]
  },
  {
   "cell_type": "code",
   "execution_count": 2,
   "metadata": {
    "ExecuteTime": {
     "end_time": "2020-05-11T21:23:25.443951Z",
     "start_time": "2020-05-11T21:23:25.362947Z"
    }
   },
   "outputs": [],
   "source": [
    "with (open('../Data/parameters/indices.pickle', 'rb')) as openfile:\n",
    "    ind = pickle.load(openfile)"
   ]
  },
  {
   "cell_type": "markdown",
   "metadata": {},
   "source": [
    "# reconstructing sergey old opt"
   ]
  },
  {
   "cell_type": "code",
   "execution_count": 18,
   "metadata": {
    "ExecuteTime": {
     "end_time": "2020-05-12T11:10:53.491796Z",
     "start_time": "2020-05-12T11:10:53.484796Z"
    }
   },
   "outputs": [],
   "source": [
    "parameters_list = [\n",
    "#     '70%',\n",
    "#     '75%',\n",
    "#     '80%',\n",
    "#     'ub',\n",
    "    'base',\n",
    "#     'lb',\n",
    "]"
   ]
  },
  {
   "cell_type": "code",
   "execution_count": 25,
   "metadata": {
    "ExecuteTime": {
     "end_time": "2020-05-12T16:28:04.466306Z",
     "start_time": "2020-05-12T16:28:04.452305Z"
    }
   },
   "outputs": [],
   "source": [
    "policy_params = {\n",
    "    'policy_period': 7,\n",
    "    'stop_inter': mdl.inter2name(ind, 10),\n",
    "    'free_inter': mdl.inter2name(ind, 100, no_risk=False),\n",
    "    'deg_param': None,\n",
    "    'global_decision': True,\n",
    "    'max_duration': 2,\n",
    "    'threshold': 5e2,\n",
    "}\n",
    "# [Is, new_Is, H, Vent]\n",
    "policy_params['weight_matrix'] = np.zeros([4,9])\n",
    "policy_params['weight_matrix'][3][5:] = 0.25*10\n",
    "\n",
    "policy_params_list = [policy_params.copy()]\n",
    "policy_params['global_decision'] = False\n",
    "policy_params['policy_period'] = 1\n",
    "policy_params['max_duration'] = 14\n",
    "policy_params['num_of_regions'] = 40\n",
    "policy_params_list.append(policy_params)"
   ]
  },
  {
   "cell_type": "code",
   "execution_count": 26,
   "metadata": {
    "ExecuteTime": {
     "end_time": "2020-05-12T16:28:04.971334Z",
     "start_time": "2020-05-12T16:28:04.951333Z"
    }
   },
   "outputs": [
    {
     "data": {
      "text/plain": [
       "[{'policy_period': 7,\n",
       "  'stop_inter': '250@10',\n",
       "  'free_inter': '250@100_kid019',\n",
       "  'deg_param': None,\n",
       "  'global_decision': True,\n",
       "  'max_duration': 2,\n",
       "  'threshold': 500.0,\n",
       "  'weight_matrix': array([[0. , 0. , 0. , 0. , 0. , 0. , 0. , 0. , 0. ],\n",
       "         [0. , 0. , 0. , 0. , 0. , 0. , 0. , 0. , 0. ],\n",
       "         [0. , 0. , 0. , 0. , 0. , 0. , 0. , 0. , 0. ],\n",
       "         [0. , 0. , 0. , 0. , 0. , 2.5, 2.5, 2.5, 2.5]])},\n",
       " {'policy_period': 1,\n",
       "  'stop_inter': '250@10',\n",
       "  'free_inter': '250@100_kid019',\n",
       "  'deg_param': None,\n",
       "  'global_decision': False,\n",
       "  'max_duration': 14,\n",
       "  'threshold': 500.0,\n",
       "  'weight_matrix': array([[0. , 0. , 0. , 0. , 0. , 0. , 0. , 0. , 0. ],\n",
       "         [0. , 0. , 0. , 0. , 0. , 0. , 0. , 0. , 0. ],\n",
       "         [0. , 0. , 0. , 0. , 0. , 0. , 0. , 0. , 0. ],\n",
       "         [0. , 0. , 0. , 0. , 0. , 2.5, 2.5, 2.5, 2.5]]),\n",
       "  'num_of_regions': 40}]"
      ]
     },
     "execution_count": 26,
     "metadata": {},
     "output_type": "execute_result"
    }
   ],
   "source": [
    "policy_params_list"
   ]
  },
  {
   "cell_type": "code",
   "execution_count": null,
   "metadata": {
    "ExecuteTime": {
     "start_time": "2020-05-12T16:28:05.497Z"
    }
   },
   "outputs": [],
   "source": [
    "scen = 'Scenario2'\n",
    "start_inter = pd.Timestamp('2020-05-03')\n",
    "beginning = pd.Timestamp('2020-02-20')\n",
    "\n",
    "cal_parameters = pd.read_pickle('../Data/calibration/calibrattion_dict.pickle')\n",
    "cal_parameters = {key : cal_parameters[ind.cell_name][key] for key in parameters_list}\n",
    "res_mdl_glob = []\n",
    "pol_states = []\n",
    "for key in cal_parameters.keys():\n",
    "    model = mdl.Model_behave(\n",
    "        ind=ind, \n",
    "        beta_j=cal_parameters[key]['beta_j'],\n",
    "        theta=cal_parameters[key]['theta'],\n",
    "        beta_behave=cal_parameters[key]['beta_behave'],\n",
    "        eps=mdl.eps_sector[scen],\n",
    "        f=mdl.f0_full[scen],\n",
    "    )\n",
    "\n",
    "    model.predict(\n",
    "        C=mdl.C_calibration,\n",
    "        days_in_season=(start_inter-beginning).days,\n",
    "        stay_home_idx=mdl.stay_home_idx,\n",
    "        not_routine=mdl.not_routine,\n",
    "    )\n",
    "\n",
    "    _, model = mdl.multi_inter_by_name(\n",
    "            ind, \n",
    "            model, \n",
    "            mdl.pop_israel, \n",
    "            [mdl.inter2name(ind, 30, no_risk=False,no_kid=False,)],\n",
    "            sim_length=7, \n",
    "            fix_vents=False,\n",
    "    )\n",
    "    for policy_params in policy_params_list:\n",
    "        res_mdl_glob_i, pol_states_i = pol.run_global_policy(\n",
    "            ind, \n",
    "            model, \n",
    "            policy_params, \n",
    "            1200 - 7 - (start_inter-beginning).days, \n",
    "            mdl.pop_israel,\n",
    "        )\n",
    "        res_mdl_glob.append(res_mdl_glob_i)\n",
    "        pol_states.append(pol_states_i)"
   ]
  },
  {
   "cell_type": "code",
   "execution_count": null,
   "metadata": {
    "ExecuteTime": {
     "start_time": "2020-05-12T16:28:06.596Z"
    }
   },
   "outputs": [],
   "source": [
    "for key in cal_parameters.keys():\n",
    "    for i in range(len(policy_params_list)):\n",
    "#         print(policy_params_list[i])\n",
    "        print('Recovered cases max: ', mdl.make_recoveries(res_mdl_glob[i], -1))\n",
    "        print('total casulties: ', mdl.make_casulties(res_mdl_glob[i], -1, mdl.pop_israel, model.mu))\n",
    "\n",
    "fig, ax = plt.subplots(figsize=(15, 10))\n",
    "ax.set_position([0, 0.5, 1, 0.5])\n",
    "for key in cal_parameters.keys():\n",
    "    for i in range(len(policy_params_list)):\n",
    "        ax.plot(((res_mdl_glob[i]['Vents']).sum(axis=1))[(start_inter-beginning).days+7:]*mdl.pop_israel, label=('global: '+ str(policy_params_list[i]['global_decision'])))\n",
    "ax.set_ylabel('Resipratory cases [#]', fontsize=35)\n",
    "ax.set_title('Respiratory Cases Global', fontsize=50)\n",
    "ax.set_xlabel('Time [d]', fontsize=35)\n",
    "# ax.axvline(x=(start_inter-beginning).days+7, c='k', linewidth=2, linestyle='--')\n",
    "ax.legend(fontsize = 20)\n",
    "plt.setp(ax.get_xticklabels(), fontsize=20)    \n",
    "plt.setp(ax.get_yticklabels(), fontsize=20) \n",
    "plt.show()\n",
    "\n",
    "fig, ax = plt.subplots(figsize=(15, 10))\n",
    "ax.set_position([0, 0.5, 1, 0.5])\n",
    "for key in cal_parameters.keys():\n",
    "    for i in range(len(policy_params_list)):\n",
    "        ax.plot(((res_mdl_glob[i]['Is']).sum(axis=1))[(start_inter-beginning).days+7:]*mdl.pop_israel, label=('global: '+ str(policy_params_list[i]['global_decision'])))\n",
    "ax.set_ylabel('Is cases [#]', fontsize=35)\n",
    "ax.set_title('Sick Simptotic Cases Global', fontsize=50)\n",
    "ax.set_xlabel('Time [d]', fontsize=35)\n",
    "# ax.axvline(x=(start_inter-beginning).days+7, c='k', linewidth=2, linestyle='--')\n",
    "ax.legend(fontsize = 20)\n",
    "plt.setp(ax.get_xticklabels(), fontsize=20)    \n",
    "plt.setp(ax.get_yticklabels(), fontsize=20) \n",
    "plt.show()\n",
    "\n",
    "fig, ax = plt.subplots(figsize=(15, 10))\n",
    "ax.set_position([0, 0.5, 1, 0.5])\n",
    "for i in range(len(policy_params_list)):\n",
    "    pol_pct = [100*sum(list(x.values()))/len(x) for x in pol_states[i]]\n",
    "    ax.plot(pol_pct,linewidth=5, label=('global: '+ str(policy_params_list[i]['global_decision'])))\n",
    "ax.set_ylabel('Percent zones under lockdown', fontsize=35)\n",
    "ax.set_xlabel('Time [d]', fontsize=35)\n",
    "ax.grid('on')\n",
    "ax.legend(fontsize = 20)\n",
    "plt.setp(ax.get_xticklabels(), fontsize=20)    \n",
    "plt.setp(ax.get_yticklabels(), fontsize=20) \n",
    "plt.show()"
   ]
  },
  {
   "cell_type": "code",
   "execution_count": null,
   "metadata": {},
   "outputs": [],
   "source": []
  }
 ],
 "metadata": {
  "kernelspec": {
   "display_name": "Python 3",
   "language": "python",
   "name": "python3"
  },
  "language_info": {
   "codemirror_mode": {
    "name": "ipython",
    "version": 3
   },
   "file_extension": ".py",
   "mimetype": "text/x-python",
   "name": "python",
   "nbconvert_exporter": "python",
   "pygments_lexer": "ipython3",
   "version": "3.7.3"
  }
 },
 "nbformat": 4,
 "nbformat_minor": 4
}

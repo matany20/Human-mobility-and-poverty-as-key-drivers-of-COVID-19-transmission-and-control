{
 "cells": [
  {
   "cell_type": "code",
   "execution_count": 3,
   "metadata": {
    "ExecuteTime": {
     "end_time": "2020-04-21T08:00:10.453288Z",
     "start_time": "2020-04-21T08:00:08.558849Z"
    }
   },
   "outputs": [],
   "source": [
    "import numpy as np\n",
    "import pandas as pd\n",
    "from matplotlib.patches import Patch\n",
    "import itertools\n",
    "import pickle\n",
    "from matplotlib import pyplot as plt\n",
    "import datetime\n",
    "from scipy import optimize\n",
    "import sys\n",
    "sys.path.append('../SEIR_full/')\n",
    "sys.path.append('..')\n",
    "import SEIR_full as mdl\n",
    "import SEIR_full.model_class as mdl\n",
    "import datetime as dt"
   ]
  },
  {
   "cell_type": "code",
   "execution_count": 4,
   "metadata": {
    "ExecuteTime": {
     "end_time": "2020-04-21T08:00:21.614095Z",
     "start_time": "2020-04-21T08:00:21.588417Z"
    }
   },
   "outputs": [],
   "source": [
    "plt.style.use('dean_style.conf')"
   ]
  },
  {
   "cell_type": "code",
   "execution_count": 115,
   "metadata": {
    "ExecuteTime": {
     "end_time": "2020-04-21T13:06:31.597944Z",
     "start_time": "2020-04-21T13:06:31.593134Z"
    }
   },
   "outputs": [],
   "source": [
    "IL_pop = 9136000"
   ]
  },
  {
   "cell_type": "markdown",
   "metadata": {},
   "source": [
    "# Imports model's predictions"
   ]
  },
  {
   "cell_type": "code",
   "execution_count": 6,
   "metadata": {
    "ExecuteTime": {
     "end_time": "2020-04-21T10:28:38.850854Z",
     "start_time": "2020-04-21T10:28:38.754082Z"
    }
   },
   "outputs": [],
   "source": [
    "with open('../Data/results/23_4_20_12_36.pickle','rb') as pickle_file:\n",
    "    inter_data = pickle.load(pickle_file)"
   ]
  },
  {
   "cell_type": "code",
   "execution_count": 16,
   "metadata": {
    "ExecuteTime": {
     "end_time": "2020-04-21T11:52:59.359610Z",
     "start_time": "2020-04-21T11:52:59.351629Z"
    }
   },
   "outputs": [
    {
     "data": {
      "text/plain": [
       "dict_keys([('50_no_60+risk_no_school_nokid_inter', 'ub'), ('50_no_60+risk_no_school_kid06_inter', 'ub'), ('100_no_60+risk_inter', 'ub'), ('50_no_60+risk_no_school_nokid_inter', 'base'), ('50_no_60+risk_no_school_kid06_inter', 'base'), ('100_no_60+risk_inter', 'base'), ('50_no_60+risk_no_school_nokid_inter', 'lb'), ('50_no_60+risk_no_school_kid06_inter', 'lb'), ('100_no_60+risk_inter', 'lb')])"
      ]
     },
     "execution_count": 16,
     "metadata": {},
     "output_type": "execute_result"
    }
   ],
   "source": [
    "inter_data.keys()"
   ]
  },
  {
   "cell_type": "code",
   "execution_count": 78,
   "metadata": {
    "ExecuteTime": {
     "end_time": "2020-04-21T12:31:53.198879Z",
     "start_time": "2020-04-21T12:31:53.130819Z"
    }
   },
   "outputs": [],
   "source": [
    "region_age_ga_dict = mdl.get_opposite_dict(mdl.GA,list(itertools.product(mdl.G.values(),mdl.A.values())))\n",
    "region_index = {v:k for k,v in mdl.G.items()}\n",
    "init_region_pop = mdl.shrink_array_sum(mapping_dic=mdl.region_dict,array_to_shrink=mdl.population_size)\n",
    "init_region_age_pop = mdl.shrink_array_sum(mapping_dic=mdl.region_age_dict,array_to_shrink=mdl.population_size)"
   ]
  },
  {
   "cell_type": "code",
   "execution_count": 114,
   "metadata": {
    "ExecuteTime": {
     "end_time": "2020-04-21T13:02:58.400344Z",
     "start_time": "2020-04-21T13:02:58.393362Z"
    }
   },
   "outputs": [
    {
     "data": {
      "text/plain": [
       "1.0"
      ]
     },
     "execution_count": 114,
     "metadata": {},
     "output_type": "execute_result"
    }
   ],
   "source": [
    "init_region_age_pop.sum()"
   ]
  },
  {
   "cell_type": "markdown",
   "metadata": {},
   "source": [
    "# Map dashboard"
   ]
  },
  {
   "cell_type": "code",
   "execution_count": 171,
   "metadata": {
    "ExecuteTime": {
     "end_time": "2020-04-21T15:16:11.273886Z",
     "start_time": "2020-04-21T15:16:11.249954Z"
    }
   },
   "outputs": [],
   "source": [
    "def map_table(res_mdl, inter_code, col_name='mean', start_day='2020-02-20'):\n",
    "    \n",
    "    tot_I = res_mdl['Is'] + res_mdl['Ia'] + res_mdl['Ie']\n",
    "    date_range = pd.date_range(start_day, periods = tot_I.shape[0], freq='d')\n",
    "    \n",
    "    # Creating table for map, by region:\n",
    "    table = pd.DataFrame(index = pd.MultiIndex.from_tuples(itertools.product(date_range, mdl.G.values(),list(mdl.A.values()) + ['total']),\n",
    "                                                           names=['date','region','age']), \n",
    "                                     columns=[col_name])\n",
    "    # filling df, cases per 1K\n",
    "    for index in list(table.index):\n",
    "#         print(index)\n",
    "#         print(type(tot_I[int(np.where(date_range == index[0])[0]),mdl.region_dict[index[1]]].sum()))\n",
    "#         print([int(np.where(date_range == index[0])[0]),mdl.region_dict[index[1]]])\n",
    "        \n",
    "        # if total area value needed\n",
    "        if index[2] == 'total':\n",
    "            table.loc[index] = (tot_I[int(np.where(date_range == index[0])[0]),mdl.region_dict[index[1]]].sum()\n",
    "                                / init_region_pop[region_index[index[1]]]) * 1000\n",
    "        else:\n",
    "            table.loc[index] = (tot_I[int(np.where(date_range == index[0])[0]),mdl.region_age_dict[index[1],index[2]]].sum()\n",
    "                                / init_region_age_pop[region_age_ga_dict[index[1], index[2]]]) * 1000\n",
    "    \n",
    "    # calculate weekly cases\n",
    "    # 'daysoffset' will container the weekday, as integers\n",
    "    table['daysoffset'] = table.apply(lambda x: x.name[0].weekday(),axis=1)\n",
    "    # We apply, row by row (axis=1) a timedelta operation\n",
    "    table['week_start'] = table.apply(lambda x: x.name[0] - dt.timedelta(days=x['daysoffset']), axis=1)\n",
    "    \n",
    "    table.reset_index(inplace=True)\n",
    "    table_groupped = table.groupby(['week_start','region','age'])[col_name]\n",
    "    table_groupped = table_groupped.apply(lambda x: (x.max() + x.min())/2)\n",
    "    table_groupped =  table_groupped.to_frame()\n",
    "    table_groupped['scenario_idx'] = inter_code\n",
    "    \n",
    "    return(table_groupped[pd.to_datetime('today'):])"
   ]
  },
  {
   "cell_type": "code",
   "execution_count": 188,
   "metadata": {
    "ExecuteTime": {
     "end_time": "2020-04-21T15:20:22.642512Z",
     "start_time": "2020-04-21T15:20:22.636525Z"
    }
   },
   "outputs": [],
   "source": [
    "# scenario_name = '50_no_60+risk_no_school_nokid_inter'\n",
    "# scenario_name = '50_no_60+risk_no_school_kid06_inter'\n",
    "scenario_name = '100_no_60+risk_inter'\n",
    "model_sets = ['base']"
   ]
  },
  {
   "cell_type": "code",
   "execution_count": 184,
   "metadata": {
    "ExecuteTime": {
     "end_time": "2020-04-21T15:19:46.517054Z",
     "start_time": "2020-04-21T15:19:46.512032Z"
    }
   },
   "outputs": [],
   "source": [
    "inter_dict_map = {}"
   ]
  },
  {
   "cell_type": "code",
   "execution_count": 189,
   "metadata": {
    "ExecuteTime": {
     "end_time": "2020-04-21T15:20:40.332757Z",
     "start_time": "2020-04-21T15:20:24.167281Z"
    }
   },
   "outputs": [],
   "source": [
    "for s in model_sets:\n",
    "    inter_dict_map[scenario_name] = map_table(inter_data[scenario_name,s], \n",
    "                                     scenario_name, col_name=s, start_day='2020-02-20').reset_index()\n",
    "    "
   ]
  },
  {
   "cell_type": "code",
   "execution_count": 190,
   "metadata": {
    "ExecuteTime": {
     "end_time": "2020-04-21T15:20:43.584099Z",
     "start_time": "2020-04-21T15:20:43.571134Z"
    }
   },
   "outputs": [],
   "source": [
    "inter_df_list = [v for v in inter_dict_map.values()]\n",
    "inter_df_concat = pd.concat(inter_df_list)"
   ]
  },
  {
   "cell_type": "code",
   "execution_count": 192,
   "metadata": {
    "ExecuteTime": {
     "end_time": "2020-04-21T15:22:25.593476Z",
     "start_time": "2020-04-21T15:22:25.435632Z"
    }
   },
   "outputs": [],
   "source": [
    "# Save\n",
    "inter_df_concat.to_csv('../Data/results/map_data_upload_230420.csv')"
   ]
  },
  {
   "cell_type": "markdown",
   "metadata": {},
   "source": [
    "# Age distribution"
   ]
  },
  {
   "cell_type": "code",
   "execution_count": 118,
   "metadata": {
    "ExecuteTime": {
     "end_time": "2020-04-21T13:11:28.549415Z",
     "start_time": "2020-04-21T13:11:28.530464Z"
    }
   },
   "outputs": [],
   "source": [
    "def age_distribution_table(res_mdl, inter_code, col_name='mean', start_day='2020-02-20'):\n",
    "    \n",
    "    tot_I = res_mdl['Is'] + res_mdl['Ia'] + res_mdl['Ie']\n",
    "    date_range = pd.date_range(start_day, periods = tot_I.shape[0], freq='d')\n",
    "    \n",
    "    # Creating table for map, by region:\n",
    "    table = pd.DataFrame(index = pd.MultiIndex.from_tuples(itertools.product(date_range,list(mdl.A.values())),\n",
    "                                                           names=['date','age']), \n",
    "                                     columns=[col_name])\n",
    "\n",
    "    for index in list(table.index):\n",
    "#         print(index)\n",
    "#         print(type(tot_I[int(np.where(date_range == index[0])[0]),mdl.region_dict[index[1]]].sum()))\n",
    "#         print([int(np.where(date_range == index[0])[0]),mdl.region_dict[index[1]]])\n",
    "        \n",
    "        table.loc[index] = (tot_I[int(np.where(date_range == index[0])[0]),mdl.age_dict[index[1]]].sum())*IL_pop\n",
    "    \n",
    "    # calculate weekly cases\n",
    "    # 'daysoffset' will container the weekday, as integers\n",
    "    table['daysoffset'] = table.apply(lambda x: x.name[0].weekday(),axis=1)\n",
    "    # We apply, row by row (axis=1) a timedelta operation\n",
    "    table['week_start'] = table.apply(lambda x: x.name[0] - dt.timedelta(days=x['daysoffset']), axis=1)\n",
    "    \n",
    "    table.reset_index(inplace=True)\n",
    "    table_groupped = table.groupby(['week_start','age'])[col_name]\n",
    "    table_groupped = table_groupped.apply(lambda x: np.ceil((x.max() + x.min())/2))\n",
    "    table_groupped =  table_groupped.to_frame()\n",
    "    table_groupped['scenario_idx'] = inter_code\n",
    "    \n",
    "    return(table_groupped[pd.to_datetime('today'):])"
   ]
  },
  {
   "cell_type": "code",
   "execution_count": 244,
   "metadata": {
    "ExecuteTime": {
     "end_time": "2020-04-21T15:45:15.742397Z",
     "start_time": "2020-04-21T15:45:15.727438Z"
    }
   },
   "outputs": [],
   "source": [
    "def combine_ub_lb_ml(ub_df, lb_df, ml_df, col_list=['ub','lb','ml']):\n",
    "    \n",
    "    combined_df = ml_df.copy()\n",
    "    combined_df = combined_df.merge(ub_df, left_index=True, right_index=True)\n",
    "    combined_df = combined_df.merge(lb_df, left_index=True, right_index=True)\n",
    "#     print(combined_df)\n",
    "    # fixing LB/Mean/UB\n",
    "    combined_df['new_lb'] = combined_df[col_list].apply(lambda x: x.min(), axis=1)\n",
    "    combined_df['new_ub'] = combined_df[col_list].apply(lambda x: x.max(), axis=1)\n",
    "    combined_df['new_ml'] = combined_df[col_list].apply(lambda x: sorted([x[0],x[1],x[2]])[1], axis=1)\n",
    "    \n",
    "    return combined_df[['new_lb','new_ub','new_ml','scenario_idx']]\n",
    "    "
   ]
  },
  {
   "cell_type": "code",
   "execution_count": 250,
   "metadata": {
    "ExecuteTime": {
     "end_time": "2020-04-21T15:45:32.777564Z",
     "start_time": "2020-04-21T15:45:32.772579Z"
    }
   },
   "outputs": [],
   "source": [
    "# scenario_name = '50_no_60+risk_no_school_nokid_inter'\n",
    "# scenario_name = '50_no_60+risk_no_school_kid06_inter'\n",
    "scenario_name = '100_no_60+risk_inter'\n",
    "model_sets = ['base','ub','lb']"
   ]
  },
  {
   "cell_type": "code",
   "execution_count": 246,
   "metadata": {
    "ExecuteTime": {
     "end_time": "2020-04-21T15:45:17.891658Z",
     "start_time": "2020-04-21T15:45:17.886673Z"
    }
   },
   "outputs": [],
   "source": [
    "inter_dict_age_dis = {}"
   ]
  },
  {
   "cell_type": "code",
   "execution_count": 251,
   "metadata": {
    "ExecuteTime": {
     "end_time": "2020-04-21T15:45:41.144046Z",
     "start_time": "2020-04-21T15:45:38.825457Z"
    }
   },
   "outputs": [],
   "source": [
    "curr_inter_dict = {}\n",
    "for s in model_sets:\n",
    "    curr_inter_dict[s] = age_distribution_table(inter_data[scenario_name,s], \n",
    "                                     scenario_name, col_name=s, start_day='2020-02-20')\n",
    "\n",
    "    \n",
    "# combining ub,lb,ml to one DF:\n",
    "\n",
    "inter_dict_age_dis[scenario_name] = combine_ub_lb_ml(curr_inter_dict['ub'],curr_inter_dict['lb'],curr_inter_dict['base'],\n",
    "                                                col_list=model_sets).reset_index()"
   ]
  },
  {
   "cell_type": "code",
   "execution_count": 252,
   "metadata": {
    "ExecuteTime": {
     "end_time": "2020-04-21T15:45:42.886876Z",
     "start_time": "2020-04-21T15:45:42.875878Z"
    }
   },
   "outputs": [],
   "source": [
    "inter_df_list_age_dis = [v for v in inter_dict_age_dis.values()]\n",
    "inter_df_age_dis = pd.concat(inter_df_list_age_dis)"
   ]
  },
  {
   "cell_type": "code",
   "execution_count": 253,
   "metadata": {
    "ExecuteTime": {
     "end_time": "2020-04-21T15:45:43.794426Z",
     "start_time": "2020-04-21T15:45:43.762552Z"
    }
   },
   "outputs": [
    {
     "data": {
      "text/html": [
       "<div>\n",
       "<style scoped>\n",
       "    .dataframe tbody tr th:only-of-type {\n",
       "        vertical-align: middle;\n",
       "    }\n",
       "\n",
       "    .dataframe tbody tr th {\n",
       "        vertical-align: top;\n",
       "    }\n",
       "\n",
       "    .dataframe thead th {\n",
       "        text-align: right;\n",
       "    }\n",
       "</style>\n",
       "<table border=\"1\" class=\"dataframe\">\n",
       "  <thead>\n",
       "    <tr style=\"text-align: right;\">\n",
       "      <th></th>\n",
       "      <th>week_start</th>\n",
       "      <th>age</th>\n",
       "      <th>new_lb</th>\n",
       "      <th>new_ub</th>\n",
       "      <th>new_ml</th>\n",
       "      <th>scenario_idx</th>\n",
       "    </tr>\n",
       "  </thead>\n",
       "  <tbody>\n",
       "    <tr>\n",
       "      <th>0</th>\n",
       "      <td>2020-04-27</td>\n",
       "      <td>0-4</td>\n",
       "      <td>121.0</td>\n",
       "      <td>798.0</td>\n",
       "      <td>283.0</td>\n",
       "      <td>50_no_60+risk_no_school_nokid_inter</td>\n",
       "    </tr>\n",
       "    <tr>\n",
       "      <th>1</th>\n",
       "      <td>2020-04-27</td>\n",
       "      <td>10-19</td>\n",
       "      <td>396.0</td>\n",
       "      <td>2717.0</td>\n",
       "      <td>1054.0</td>\n",
       "      <td>50_no_60+risk_no_school_nokid_inter</td>\n",
       "    </tr>\n",
       "    <tr>\n",
       "      <th>2</th>\n",
       "      <td>2020-04-27</td>\n",
       "      <td>20-29</td>\n",
       "      <td>170.0</td>\n",
       "      <td>1467.0</td>\n",
       "      <td>509.0</td>\n",
       "      <td>50_no_60+risk_no_school_nokid_inter</td>\n",
       "    </tr>\n",
       "    <tr>\n",
       "      <th>3</th>\n",
       "      <td>2020-04-27</td>\n",
       "      <td>30-39</td>\n",
       "      <td>155.0</td>\n",
       "      <td>1279.0</td>\n",
       "      <td>457.0</td>\n",
       "      <td>50_no_60+risk_no_school_nokid_inter</td>\n",
       "    </tr>\n",
       "    <tr>\n",
       "      <th>4</th>\n",
       "      <td>2020-04-27</td>\n",
       "      <td>40-49</td>\n",
       "      <td>78.0</td>\n",
       "      <td>1212.0</td>\n",
       "      <td>228.0</td>\n",
       "      <td>50_no_60+risk_no_school_nokid_inter</td>\n",
       "    </tr>\n",
       "    <tr>\n",
       "      <th>...</th>\n",
       "      <td>...</td>\n",
       "      <td>...</td>\n",
       "      <td>...</td>\n",
       "      <td>...</td>\n",
       "      <td>...</td>\n",
       "      <td>...</td>\n",
       "    </tr>\n",
       "    <tr>\n",
       "      <th>103</th>\n",
       "      <td>2020-07-13</td>\n",
       "      <td>40-49</td>\n",
       "      <td>18855.0</td>\n",
       "      <td>122354.0</td>\n",
       "      <td>29959.0</td>\n",
       "      <td>100_no_60+risk_inter</td>\n",
       "    </tr>\n",
       "    <tr>\n",
       "      <th>104</th>\n",
       "      <td>2020-07-13</td>\n",
       "      <td>5-9</td>\n",
       "      <td>33718.0</td>\n",
       "      <td>89557.0</td>\n",
       "      <td>41667.0</td>\n",
       "      <td>100_no_60+risk_inter</td>\n",
       "    </tr>\n",
       "    <tr>\n",
       "      <th>105</th>\n",
       "      <td>2020-07-13</td>\n",
       "      <td>50-59</td>\n",
       "      <td>13036.0</td>\n",
       "      <td>73995.0</td>\n",
       "      <td>21117.0</td>\n",
       "      <td>100_no_60+risk_inter</td>\n",
       "    </tr>\n",
       "    <tr>\n",
       "      <th>106</th>\n",
       "      <td>2020-07-13</td>\n",
       "      <td>60-69</td>\n",
       "      <td>17333.0</td>\n",
       "      <td>81036.0</td>\n",
       "      <td>25722.0</td>\n",
       "      <td>100_no_60+risk_inter</td>\n",
       "    </tr>\n",
       "    <tr>\n",
       "      <th>107</th>\n",
       "      <td>2020-07-13</td>\n",
       "      <td>70+</td>\n",
       "      <td>8693.0</td>\n",
       "      <td>46345.0</td>\n",
       "      <td>12692.0</td>\n",
       "      <td>100_no_60+risk_inter</td>\n",
       "    </tr>\n",
       "  </tbody>\n",
       "</table>\n",
       "<p>324 rows × 6 columns</p>\n",
       "</div>"
      ],
      "text/plain": [
       "    week_start    age   new_lb    new_ub   new_ml  \\\n",
       "0   2020-04-27    0-4    121.0     798.0    283.0   \n",
       "1   2020-04-27  10-19    396.0    2717.0   1054.0   \n",
       "2   2020-04-27  20-29    170.0    1467.0    509.0   \n",
       "3   2020-04-27  30-39    155.0    1279.0    457.0   \n",
       "4   2020-04-27  40-49     78.0    1212.0    228.0   \n",
       "..         ...    ...      ...       ...      ...   \n",
       "103 2020-07-13  40-49  18855.0  122354.0  29959.0   \n",
       "104 2020-07-13    5-9  33718.0   89557.0  41667.0   \n",
       "105 2020-07-13  50-59  13036.0   73995.0  21117.0   \n",
       "106 2020-07-13  60-69  17333.0   81036.0  25722.0   \n",
       "107 2020-07-13    70+   8693.0   46345.0  12692.0   \n",
       "\n",
       "                            scenario_idx  \n",
       "0    50_no_60+risk_no_school_nokid_inter  \n",
       "1    50_no_60+risk_no_school_nokid_inter  \n",
       "2    50_no_60+risk_no_school_nokid_inter  \n",
       "3    50_no_60+risk_no_school_nokid_inter  \n",
       "4    50_no_60+risk_no_school_nokid_inter  \n",
       "..                                   ...  \n",
       "103                 100_no_60+risk_inter  \n",
       "104                 100_no_60+risk_inter  \n",
       "105                 100_no_60+risk_inter  \n",
       "106                 100_no_60+risk_inter  \n",
       "107                 100_no_60+risk_inter  \n",
       "\n",
       "[324 rows x 6 columns]"
      ]
     },
     "execution_count": 253,
     "metadata": {},
     "output_type": "execute_result"
    }
   ],
   "source": [
    "inter_df_age_dis"
   ]
  },
  {
   "cell_type": "code",
   "execution_count": 254,
   "metadata": {
    "ExecuteTime": {
     "end_time": "2020-04-21T15:46:03.414884Z",
     "start_time": "2020-04-21T15:46:03.389947Z"
    }
   },
   "outputs": [],
   "source": [
    "# Save\n",
    "inter_df_age_dis.to_csv('../Data/results/age_data_upload_230420.csv')"
   ]
  },
  {
   "cell_type": "markdown",
   "metadata": {},
   "source": [
    "# Ventilators graph"
   ]
  },
  {
   "cell_type": "code",
   "execution_count": 255,
   "metadata": {
    "ExecuteTime": {
     "end_time": "2020-04-21T15:46:50.968723Z",
     "start_time": "2020-04-21T15:46:50.944786Z"
    }
   },
   "outputs": [],
   "source": [
    "def vents_graph(res_mdl, inter_code, tracking='Vents' ,col_name='mean', curr_vents=None, start_day='2020-02-20', \n",
    "                inter_start_date='2020-04-20', fix_vents=False):\n",
    "    \n",
    "    tot_vents = np.ceil(res_mdl[tracking].sum(axis=1) * IL_pop) \n",
    "    date_range = pd.date_range(start_day, periods = tot_vents.shape[0], freq='d')\n",
    "    # fixing patients no.\n",
    "    if fix_vents:\n",
    "        model_vents_proj = tot_vents[int(np.where(date_range == inter_start_date)[0])]\n",
    "        tot_vents += max(curr_vents - model_vents_proj, 0)\n",
    "\n",
    "    \n",
    "    # creates DF with results\n",
    "    vents_dict = {}\n",
    "    vents_dict['date'] = date_range\n",
    "    vents_dict[col_name] = tot_vents\n",
    "    vents_df = pd.DataFrame.from_dict(vents_dict)\n",
    "    \n",
    "    # 'daysoffset' will container the weekday, as integers\n",
    "    vents_df['daysoffset'] = vents_df['date'].apply(lambda x: x.weekday())\n",
    "    # We apply, row by row (axis=1) a timedelta operation\n",
    "    vents_df['week_start'] = vents_df.apply(lambda x: x['date'] - dt.timedelta(days=x['daysoffset']), axis=1)\n",
    "    \n",
    "    vents_df_grop = vents_df.groupby('week_start')[col_name]\n",
    "    vents_df_grop = vents_df_grop.max().to_frame()\n",
    "    vents_df_grop['scenario_idx'] = inter_code\n",
    "    return (vents_df_grop[pd.to_datetime('today'):])"
   ]
  },
  {
   "cell_type": "code",
   "execution_count": 261,
   "metadata": {
    "ExecuteTime": {
     "end_time": "2020-04-21T15:47:11.008380Z",
     "start_time": "2020-04-21T15:47:11.002362Z"
    }
   },
   "outputs": [],
   "source": [
    "# scenario_name = '50_no_60+risk_no_school_nokid_inter'\n",
    "# scenario_name = '50_no_60+risk_no_school_kid06_inter'\n",
    "scenario_name = '100_no_60+risk_inter'\n",
    "model_sets = ['base','ub','lb']"
   ]
  },
  {
   "cell_type": "code",
   "execution_count": 257,
   "metadata": {
    "ExecuteTime": {
     "end_time": "2020-04-21T15:46:53.748693Z",
     "start_time": "2020-04-21T15:46:53.744673Z"
    }
   },
   "outputs": [],
   "source": [
    "inter_dict_vents_dict = {}"
   ]
  },
  {
   "cell_type": "code",
   "execution_count": 262,
   "metadata": {
    "ExecuteTime": {
     "end_time": "2020-04-21T15:47:12.643619Z",
     "start_time": "2020-04-21T15:47:12.551399Z"
    }
   },
   "outputs": [],
   "source": [
    "curr_inter_dict = {}\n",
    "for s in model_sets:\n",
    "    curr_inter_dict[s] = vents_graph(inter_data[scenario_name,s], \n",
    "                                     scenario_name, col_name=s, curr_vents=113, start_day='2020-02-20', fix_vents=True)\n",
    "\n",
    "    \n",
    "# combining ub,lb,ml to one DF:\n",
    "\n",
    "inter_dict_vents_dict[scenario_name] = combine_ub_lb_ml(curr_inter_dict['ub'],curr_inter_dict['lb'],curr_inter_dict['base'],\n",
    "                                                col_list=model_sets).reset_index()"
   ]
  },
  {
   "cell_type": "code",
   "execution_count": 263,
   "metadata": {
    "ExecuteTime": {
     "end_time": "2020-04-21T15:47:13.952350Z",
     "start_time": "2020-04-21T15:47:13.940381Z"
    }
   },
   "outputs": [],
   "source": [
    "inter_df_list_vents_dis = [v for v in inter_dict_vents_dict.values()]\n",
    "inter_df_vents_dis = pd.concat(inter_df_list_vents_dis)"
   ]
  },
  {
   "cell_type": "code",
   "execution_count": 264,
   "metadata": {
    "ExecuteTime": {
     "end_time": "2020-04-21T15:47:14.942155Z",
     "start_time": "2020-04-21T15:47:14.911239Z"
    },
    "scrolled": true
   },
   "outputs": [
    {
     "data": {
      "text/html": [
       "<div>\n",
       "<style scoped>\n",
       "    .dataframe tbody tr th:only-of-type {\n",
       "        vertical-align: middle;\n",
       "    }\n",
       "\n",
       "    .dataframe tbody tr th {\n",
       "        vertical-align: top;\n",
       "    }\n",
       "\n",
       "    .dataframe thead th {\n",
       "        text-align: right;\n",
       "    }\n",
       "</style>\n",
       "<table border=\"1\" class=\"dataframe\">\n",
       "  <thead>\n",
       "    <tr style=\"text-align: right;\">\n",
       "      <th></th>\n",
       "      <th>week_start</th>\n",
       "      <th>new_lb</th>\n",
       "      <th>new_ub</th>\n",
       "      <th>new_ml</th>\n",
       "      <th>scenario_idx</th>\n",
       "    </tr>\n",
       "  </thead>\n",
       "  <tbody>\n",
       "    <tr>\n",
       "      <th>0</th>\n",
       "      <td>2020-04-27</td>\n",
       "      <td>104.0</td>\n",
       "      <td>175.0</td>\n",
       "      <td>110.0</td>\n",
       "      <td>50_no_60+risk_no_school_nokid_inter</td>\n",
       "    </tr>\n",
       "    <tr>\n",
       "      <th>1</th>\n",
       "      <td>2020-05-04</td>\n",
       "      <td>96.0</td>\n",
       "      <td>165.0</td>\n",
       "      <td>107.0</td>\n",
       "      <td>50_no_60+risk_no_school_nokid_inter</td>\n",
       "    </tr>\n",
       "    <tr>\n",
       "      <th>2</th>\n",
       "      <td>2020-05-11</td>\n",
       "      <td>90.0</td>\n",
       "      <td>160.0</td>\n",
       "      <td>105.0</td>\n",
       "      <td>50_no_60+risk_no_school_nokid_inter</td>\n",
       "    </tr>\n",
       "    <tr>\n",
       "      <th>3</th>\n",
       "      <td>2020-05-18</td>\n",
       "      <td>85.0</td>\n",
       "      <td>160.0</td>\n",
       "      <td>103.0</td>\n",
       "      <td>50_no_60+risk_no_school_nokid_inter</td>\n",
       "    </tr>\n",
       "    <tr>\n",
       "      <th>4</th>\n",
       "      <td>2020-05-25</td>\n",
       "      <td>82.0</td>\n",
       "      <td>164.0</td>\n",
       "      <td>102.0</td>\n",
       "      <td>50_no_60+risk_no_school_nokid_inter</td>\n",
       "    </tr>\n",
       "    <tr>\n",
       "      <th>5</th>\n",
       "      <td>2020-06-01</td>\n",
       "      <td>79.0</td>\n",
       "      <td>169.0</td>\n",
       "      <td>102.0</td>\n",
       "      <td>50_no_60+risk_no_school_nokid_inter</td>\n",
       "    </tr>\n",
       "    <tr>\n",
       "      <th>6</th>\n",
       "      <td>2020-06-08</td>\n",
       "      <td>77.0</td>\n",
       "      <td>174.0</td>\n",
       "      <td>102.0</td>\n",
       "      <td>50_no_60+risk_no_school_nokid_inter</td>\n",
       "    </tr>\n",
       "    <tr>\n",
       "      <th>7</th>\n",
       "      <td>2020-06-15</td>\n",
       "      <td>76.0</td>\n",
       "      <td>180.0</td>\n",
       "      <td>102.0</td>\n",
       "      <td>50_no_60+risk_no_school_nokid_inter</td>\n",
       "    </tr>\n",
       "    <tr>\n",
       "      <th>8</th>\n",
       "      <td>2020-06-22</td>\n",
       "      <td>74.0</td>\n",
       "      <td>187.0</td>\n",
       "      <td>102.0</td>\n",
       "      <td>50_no_60+risk_no_school_nokid_inter</td>\n",
       "    </tr>\n",
       "    <tr>\n",
       "      <th>9</th>\n",
       "      <td>2020-06-29</td>\n",
       "      <td>73.0</td>\n",
       "      <td>194.0</td>\n",
       "      <td>102.0</td>\n",
       "      <td>50_no_60+risk_no_school_nokid_inter</td>\n",
       "    </tr>\n",
       "    <tr>\n",
       "      <th>10</th>\n",
       "      <td>2020-07-06</td>\n",
       "      <td>72.0</td>\n",
       "      <td>201.0</td>\n",
       "      <td>102.0</td>\n",
       "      <td>50_no_60+risk_no_school_nokid_inter</td>\n",
       "    </tr>\n",
       "    <tr>\n",
       "      <th>11</th>\n",
       "      <td>2020-07-13</td>\n",
       "      <td>71.0</td>\n",
       "      <td>208.0</td>\n",
       "      <td>103.0</td>\n",
       "      <td>50_no_60+risk_no_school_nokid_inter</td>\n",
       "    </tr>\n",
       "    <tr>\n",
       "      <th>0</th>\n",
       "      <td>2020-04-27</td>\n",
       "      <td>104.0</td>\n",
       "      <td>175.0</td>\n",
       "      <td>110.0</td>\n",
       "      <td>50_no_60+risk_no_school_kid06_inter</td>\n",
       "    </tr>\n",
       "    <tr>\n",
       "      <th>1</th>\n",
       "      <td>2020-05-04</td>\n",
       "      <td>96.0</td>\n",
       "      <td>165.0</td>\n",
       "      <td>107.0</td>\n",
       "      <td>50_no_60+risk_no_school_kid06_inter</td>\n",
       "    </tr>\n",
       "    <tr>\n",
       "      <th>2</th>\n",
       "      <td>2020-05-11</td>\n",
       "      <td>90.0</td>\n",
       "      <td>162.0</td>\n",
       "      <td>105.0</td>\n",
       "      <td>50_no_60+risk_no_school_kid06_inter</td>\n",
       "    </tr>\n",
       "    <tr>\n",
       "      <th>3</th>\n",
       "      <td>2020-05-18</td>\n",
       "      <td>86.0</td>\n",
       "      <td>169.0</td>\n",
       "      <td>104.0</td>\n",
       "      <td>50_no_60+risk_no_school_kid06_inter</td>\n",
       "    </tr>\n",
       "    <tr>\n",
       "      <th>4</th>\n",
       "      <td>2020-05-25</td>\n",
       "      <td>84.0</td>\n",
       "      <td>181.0</td>\n",
       "      <td>104.0</td>\n",
       "      <td>50_no_60+risk_no_school_kid06_inter</td>\n",
       "    </tr>\n",
       "    <tr>\n",
       "      <th>5</th>\n",
       "      <td>2020-06-01</td>\n",
       "      <td>84.0</td>\n",
       "      <td>197.0</td>\n",
       "      <td>104.0</td>\n",
       "      <td>50_no_60+risk_no_school_kid06_inter</td>\n",
       "    </tr>\n",
       "    <tr>\n",
       "      <th>6</th>\n",
       "      <td>2020-06-08</td>\n",
       "      <td>84.0</td>\n",
       "      <td>217.0</td>\n",
       "      <td>105.0</td>\n",
       "      <td>50_no_60+risk_no_school_kid06_inter</td>\n",
       "    </tr>\n",
       "    <tr>\n",
       "      <th>7</th>\n",
       "      <td>2020-06-15</td>\n",
       "      <td>86.0</td>\n",
       "      <td>241.0</td>\n",
       "      <td>107.0</td>\n",
       "      <td>50_no_60+risk_no_school_kid06_inter</td>\n",
       "    </tr>\n",
       "    <tr>\n",
       "      <th>8</th>\n",
       "      <td>2020-06-22</td>\n",
       "      <td>88.0</td>\n",
       "      <td>269.0</td>\n",
       "      <td>109.0</td>\n",
       "      <td>50_no_60+risk_no_school_kid06_inter</td>\n",
       "    </tr>\n",
       "    <tr>\n",
       "      <th>9</th>\n",
       "      <td>2020-06-29</td>\n",
       "      <td>90.0</td>\n",
       "      <td>300.0</td>\n",
       "      <td>112.0</td>\n",
       "      <td>50_no_60+risk_no_school_kid06_inter</td>\n",
       "    </tr>\n",
       "    <tr>\n",
       "      <th>10</th>\n",
       "      <td>2020-07-06</td>\n",
       "      <td>93.0</td>\n",
       "      <td>334.0</td>\n",
       "      <td>115.0</td>\n",
       "      <td>50_no_60+risk_no_school_kid06_inter</td>\n",
       "    </tr>\n",
       "    <tr>\n",
       "      <th>11</th>\n",
       "      <td>2020-07-13</td>\n",
       "      <td>97.0</td>\n",
       "      <td>372.0</td>\n",
       "      <td>119.0</td>\n",
       "      <td>50_no_60+risk_no_school_kid06_inter</td>\n",
       "    </tr>\n",
       "    <tr>\n",
       "      <th>0</th>\n",
       "      <td>2020-04-27</td>\n",
       "      <td>104.0</td>\n",
       "      <td>178.0</td>\n",
       "      <td>110.0</td>\n",
       "      <td>100_no_60+risk_inter</td>\n",
       "    </tr>\n",
       "    <tr>\n",
       "      <th>1</th>\n",
       "      <td>2020-05-04</td>\n",
       "      <td>107.0</td>\n",
       "      <td>224.0</td>\n",
       "      <td>111.0</td>\n",
       "      <td>100_no_60+risk_inter</td>\n",
       "    </tr>\n",
       "    <tr>\n",
       "      <th>2</th>\n",
       "      <td>2020-05-11</td>\n",
       "      <td>120.0</td>\n",
       "      <td>344.0</td>\n",
       "      <td>130.0</td>\n",
       "      <td>100_no_60+risk_inter</td>\n",
       "    </tr>\n",
       "    <tr>\n",
       "      <th>3</th>\n",
       "      <td>2020-05-18</td>\n",
       "      <td>140.0</td>\n",
       "      <td>586.0</td>\n",
       "      <td>178.0</td>\n",
       "      <td>100_no_60+risk_inter</td>\n",
       "    </tr>\n",
       "    <tr>\n",
       "      <th>4</th>\n",
       "      <td>2020-05-25</td>\n",
       "      <td>179.0</td>\n",
       "      <td>1025.0</td>\n",
       "      <td>265.0</td>\n",
       "      <td>100_no_60+risk_inter</td>\n",
       "    </tr>\n",
       "    <tr>\n",
       "      <th>5</th>\n",
       "      <td>2020-06-01</td>\n",
       "      <td>252.0</td>\n",
       "      <td>1763.0</td>\n",
       "      <td>411.0</td>\n",
       "      <td>100_no_60+risk_inter</td>\n",
       "    </tr>\n",
       "    <tr>\n",
       "      <th>6</th>\n",
       "      <td>2020-06-08</td>\n",
       "      <td>376.0</td>\n",
       "      <td>2896.0</td>\n",
       "      <td>637.0</td>\n",
       "      <td>100_no_60+risk_inter</td>\n",
       "    </tr>\n",
       "    <tr>\n",
       "      <th>7</th>\n",
       "      <td>2020-06-15</td>\n",
       "      <td>565.0</td>\n",
       "      <td>4474.0</td>\n",
       "      <td>960.0</td>\n",
       "      <td>100_no_60+risk_inter</td>\n",
       "    </tr>\n",
       "    <tr>\n",
       "      <th>8</th>\n",
       "      <td>2020-06-22</td>\n",
       "      <td>826.0</td>\n",
       "      <td>6460.0</td>\n",
       "      <td>1382.0</td>\n",
       "      <td>100_no_60+risk_inter</td>\n",
       "    </tr>\n",
       "    <tr>\n",
       "      <th>9</th>\n",
       "      <td>2020-06-29</td>\n",
       "      <td>1162.0</td>\n",
       "      <td>8703.0</td>\n",
       "      <td>1894.0</td>\n",
       "      <td>100_no_60+risk_inter</td>\n",
       "    </tr>\n",
       "    <tr>\n",
       "      <th>10</th>\n",
       "      <td>2020-07-06</td>\n",
       "      <td>1569.0</td>\n",
       "      <td>10930.0</td>\n",
       "      <td>2474.0</td>\n",
       "      <td>100_no_60+risk_inter</td>\n",
       "    </tr>\n",
       "    <tr>\n",
       "      <th>11</th>\n",
       "      <td>2020-07-13</td>\n",
       "      <td>2026.0</td>\n",
       "      <td>12801.0</td>\n",
       "      <td>3093.0</td>\n",
       "      <td>100_no_60+risk_inter</td>\n",
       "    </tr>\n",
       "  </tbody>\n",
       "</table>\n",
       "</div>"
      ],
      "text/plain": [
       "   week_start  new_lb   new_ub  new_ml                         scenario_idx\n",
       "0  2020-04-27   104.0    175.0   110.0  50_no_60+risk_no_school_nokid_inter\n",
       "1  2020-05-04    96.0    165.0   107.0  50_no_60+risk_no_school_nokid_inter\n",
       "2  2020-05-11    90.0    160.0   105.0  50_no_60+risk_no_school_nokid_inter\n",
       "3  2020-05-18    85.0    160.0   103.0  50_no_60+risk_no_school_nokid_inter\n",
       "4  2020-05-25    82.0    164.0   102.0  50_no_60+risk_no_school_nokid_inter\n",
       "5  2020-06-01    79.0    169.0   102.0  50_no_60+risk_no_school_nokid_inter\n",
       "6  2020-06-08    77.0    174.0   102.0  50_no_60+risk_no_school_nokid_inter\n",
       "7  2020-06-15    76.0    180.0   102.0  50_no_60+risk_no_school_nokid_inter\n",
       "8  2020-06-22    74.0    187.0   102.0  50_no_60+risk_no_school_nokid_inter\n",
       "9  2020-06-29    73.0    194.0   102.0  50_no_60+risk_no_school_nokid_inter\n",
       "10 2020-07-06    72.0    201.0   102.0  50_no_60+risk_no_school_nokid_inter\n",
       "11 2020-07-13    71.0    208.0   103.0  50_no_60+risk_no_school_nokid_inter\n",
       "0  2020-04-27   104.0    175.0   110.0  50_no_60+risk_no_school_kid06_inter\n",
       "1  2020-05-04    96.0    165.0   107.0  50_no_60+risk_no_school_kid06_inter\n",
       "2  2020-05-11    90.0    162.0   105.0  50_no_60+risk_no_school_kid06_inter\n",
       "3  2020-05-18    86.0    169.0   104.0  50_no_60+risk_no_school_kid06_inter\n",
       "4  2020-05-25    84.0    181.0   104.0  50_no_60+risk_no_school_kid06_inter\n",
       "5  2020-06-01    84.0    197.0   104.0  50_no_60+risk_no_school_kid06_inter\n",
       "6  2020-06-08    84.0    217.0   105.0  50_no_60+risk_no_school_kid06_inter\n",
       "7  2020-06-15    86.0    241.0   107.0  50_no_60+risk_no_school_kid06_inter\n",
       "8  2020-06-22    88.0    269.0   109.0  50_no_60+risk_no_school_kid06_inter\n",
       "9  2020-06-29    90.0    300.0   112.0  50_no_60+risk_no_school_kid06_inter\n",
       "10 2020-07-06    93.0    334.0   115.0  50_no_60+risk_no_school_kid06_inter\n",
       "11 2020-07-13    97.0    372.0   119.0  50_no_60+risk_no_school_kid06_inter\n",
       "0  2020-04-27   104.0    178.0   110.0                 100_no_60+risk_inter\n",
       "1  2020-05-04   107.0    224.0   111.0                 100_no_60+risk_inter\n",
       "2  2020-05-11   120.0    344.0   130.0                 100_no_60+risk_inter\n",
       "3  2020-05-18   140.0    586.0   178.0                 100_no_60+risk_inter\n",
       "4  2020-05-25   179.0   1025.0   265.0                 100_no_60+risk_inter\n",
       "5  2020-06-01   252.0   1763.0   411.0                 100_no_60+risk_inter\n",
       "6  2020-06-08   376.0   2896.0   637.0                 100_no_60+risk_inter\n",
       "7  2020-06-15   565.0   4474.0   960.0                 100_no_60+risk_inter\n",
       "8  2020-06-22   826.0   6460.0  1382.0                 100_no_60+risk_inter\n",
       "9  2020-06-29  1162.0   8703.0  1894.0                 100_no_60+risk_inter\n",
       "10 2020-07-06  1569.0  10930.0  2474.0                 100_no_60+risk_inter\n",
       "11 2020-07-13  2026.0  12801.0  3093.0                 100_no_60+risk_inter"
      ]
     },
     "execution_count": 79,
     "metadata": {},
     "output_type": "execute_result"
    }
   ],
   "source": [
    "inter_df_vents_dis"
   ]
  },
  {
   "cell_type": "code",
   "execution_count": 81,
   "metadata": {
    "ExecuteTime": {
     "end_time": "2020-04-23T10:51:42.912816Z",
     "start_time": "2020-04-23T10:51:42.896815Z"
    }
   },
   "outputs": [],
   "source": [
    "# Save\n",
    "inter_df_vents_dis.to_csv('../Data/results/vents_data_upload_230420.csv')"
   ]
  },
  {
   "cell_type": "markdown",
   "metadata": {},
   "source": [
    "# Hospitalization graph"
   ]
  },
  {
   "cell_type": "code",
   "execution_count": 87,
   "metadata": {
    "ExecuteTime": {
     "end_time": "2020-04-23T10:56:19.659645Z",
     "start_time": "2020-04-23T10:56:19.652644Z"
    }
   },
   "outputs": [],
   "source": [
    "# scenario_name = '50_no_60+risk_no_school_nokid_inter'\n",
    "# scenario_name = '50_no_60+risk_no_school_kid06_inter'\n",
    "scenario_name = '100_no_60+risk_inter'\n",
    "model_sets = ['base','ub','lb']"
   ]
  },
  {
   "cell_type": "code",
   "execution_count": 83,
   "metadata": {
    "ExecuteTime": {
     "end_time": "2020-04-23T10:55:45.909714Z",
     "start_time": "2020-04-23T10:55:45.903714Z"
    }
   },
   "outputs": [],
   "source": [
    "inter_dict_vents_dict = {}"
   ]
  },
  {
   "cell_type": "code",
   "execution_count": 88,
   "metadata": {
    "ExecuteTime": {
     "end_time": "2020-04-23T10:56:20.785709Z",
     "start_time": "2020-04-23T10:56:20.693704Z"
    }
   },
   "outputs": [],
   "source": [
    "curr_inter_dict = {}\n",
    "for s in model_sets:\n",
    "    curr_inter_dict[s] = vents_graph(inter_data[scenario_name,s], \n",
    "                                     scenario_name, tracking='H', col_name=s, curr_vents=113, start_day='2020-02-20', fix_vents=True)\n",
    "\n",
    "    \n",
    "# combining ub,lb,ml to one DF:\n",
    "\n",
    "inter_dict_vents_dict[scenario_name] = combine_ub_lb_ml(curr_inter_dict['ub'],curr_inter_dict['lb'],curr_inter_dict['base'],\n",
    "                                                col_list=model_sets).reset_index()"
   ]
  },
  {
   "cell_type": "code",
   "execution_count": 89,
   "metadata": {
    "ExecuteTime": {
     "end_time": "2020-04-23T10:56:28.775166Z",
     "start_time": "2020-04-23T10:56:28.767166Z"
    }
   },
   "outputs": [],
   "source": [
    "inter_df_list_vents_dis = [v for v in inter_dict_vents_dict.values()]\n",
    "inter_df_vents_dis = pd.concat(inter_df_list_vents_dis)"
   ]
  },
  {
   "cell_type": "code",
   "execution_count": 90,
   "metadata": {
    "ExecuteTime": {
     "end_time": "2020-04-23T10:56:30.004237Z",
     "start_time": "2020-04-23T10:56:29.973235Z"
    }
   },
   "outputs": [
    {
     "data": {
      "text/html": [
       "<div>\n",
       "<style scoped>\n",
       "    .dataframe tbody tr th:only-of-type {\n",
       "        vertical-align: middle;\n",
       "    }\n",
       "\n",
       "    .dataframe tbody tr th {\n",
       "        vertical-align: top;\n",
       "    }\n",
       "\n",
       "    .dataframe thead th {\n",
       "        text-align: right;\n",
       "    }\n",
       "</style>\n",
       "<table border=\"1\" class=\"dataframe\">\n",
       "  <thead>\n",
       "    <tr style=\"text-align: right;\">\n",
       "      <th></th>\n",
       "      <th>week_start</th>\n",
       "      <th>new_lb</th>\n",
       "      <th>new_ub</th>\n",
       "      <th>new_ml</th>\n",
       "      <th>scenario_idx</th>\n",
       "    </tr>\n",
       "  </thead>\n",
       "  <tbody>\n",
       "    <tr>\n",
       "      <th>0</th>\n",
       "      <td>2020-04-27</td>\n",
       "      <td>154.0</td>\n",
       "      <td>1271.0</td>\n",
       "      <td>468.0</td>\n",
       "      <td>50_no_60+risk_no_school_nokid_inter</td>\n",
       "    </tr>\n",
       "    <tr>\n",
       "      <th>1</th>\n",
       "      <td>2020-05-04</td>\n",
       "      <td>135.0</td>\n",
       "      <td>1210.0</td>\n",
       "      <td>410.0</td>\n",
       "      <td>50_no_60+risk_no_school_nokid_inter</td>\n",
       "    </tr>\n",
       "    <tr>\n",
       "      <th>2</th>\n",
       "      <td>2020-05-11</td>\n",
       "      <td>123.0</td>\n",
       "      <td>1199.0</td>\n",
       "      <td>370.0</td>\n",
       "      <td>50_no_60+risk_no_school_nokid_inter</td>\n",
       "    </tr>\n",
       "    <tr>\n",
       "      <th>3</th>\n",
       "      <td>2020-05-18</td>\n",
       "      <td>115.0</td>\n",
       "      <td>1223.0</td>\n",
       "      <td>341.0</td>\n",
       "      <td>50_no_60+risk_no_school_nokid_inter</td>\n",
       "    </tr>\n",
       "    <tr>\n",
       "      <th>4</th>\n",
       "      <td>2020-05-25</td>\n",
       "      <td>110.0</td>\n",
       "      <td>1257.0</td>\n",
       "      <td>319.0</td>\n",
       "      <td>50_no_60+risk_no_school_nokid_inter</td>\n",
       "    </tr>\n",
       "    <tr>\n",
       "      <th>5</th>\n",
       "      <td>2020-06-01</td>\n",
       "      <td>108.0</td>\n",
       "      <td>1299.0</td>\n",
       "      <td>302.0</td>\n",
       "      <td>50_no_60+risk_no_school_nokid_inter</td>\n",
       "    </tr>\n",
       "    <tr>\n",
       "      <th>6</th>\n",
       "      <td>2020-06-08</td>\n",
       "      <td>107.0</td>\n",
       "      <td>1344.0</td>\n",
       "      <td>287.0</td>\n",
       "      <td>50_no_60+risk_no_school_nokid_inter</td>\n",
       "    </tr>\n",
       "    <tr>\n",
       "      <th>7</th>\n",
       "      <td>2020-06-15</td>\n",
       "      <td>108.0</td>\n",
       "      <td>1392.0</td>\n",
       "      <td>275.0</td>\n",
       "      <td>50_no_60+risk_no_school_nokid_inter</td>\n",
       "    </tr>\n",
       "    <tr>\n",
       "      <th>8</th>\n",
       "      <td>2020-06-22</td>\n",
       "      <td>110.0</td>\n",
       "      <td>1443.0</td>\n",
       "      <td>264.0</td>\n",
       "      <td>50_no_60+risk_no_school_nokid_inter</td>\n",
       "    </tr>\n",
       "    <tr>\n",
       "      <th>9</th>\n",
       "      <td>2020-06-29</td>\n",
       "      <td>113.0</td>\n",
       "      <td>1495.0</td>\n",
       "      <td>255.0</td>\n",
       "      <td>50_no_60+risk_no_school_nokid_inter</td>\n",
       "    </tr>\n",
       "    <tr>\n",
       "      <th>10</th>\n",
       "      <td>2020-07-06</td>\n",
       "      <td>117.0</td>\n",
       "      <td>1549.0</td>\n",
       "      <td>247.0</td>\n",
       "      <td>50_no_60+risk_no_school_nokid_inter</td>\n",
       "    </tr>\n",
       "    <tr>\n",
       "      <th>11</th>\n",
       "      <td>2020-07-13</td>\n",
       "      <td>123.0</td>\n",
       "      <td>1603.0</td>\n",
       "      <td>240.0</td>\n",
       "      <td>50_no_60+risk_no_school_nokid_inter</td>\n",
       "    </tr>\n",
       "    <tr>\n",
       "      <th>0</th>\n",
       "      <td>2020-04-27</td>\n",
       "      <td>154.0</td>\n",
       "      <td>1272.0</td>\n",
       "      <td>468.0</td>\n",
       "      <td>50_no_60+risk_no_school_kid06_inter</td>\n",
       "    </tr>\n",
       "    <tr>\n",
       "      <th>1</th>\n",
       "      <td>2020-05-04</td>\n",
       "      <td>136.0</td>\n",
       "      <td>1215.0</td>\n",
       "      <td>412.0</td>\n",
       "      <td>50_no_60+risk_no_school_kid06_inter</td>\n",
       "    </tr>\n",
       "    <tr>\n",
       "      <th>2</th>\n",
       "      <td>2020-05-11</td>\n",
       "      <td>125.0</td>\n",
       "      <td>1250.0</td>\n",
       "      <td>376.0</td>\n",
       "      <td>50_no_60+risk_no_school_kid06_inter</td>\n",
       "    </tr>\n",
       "    <tr>\n",
       "      <th>3</th>\n",
       "      <td>2020-05-18</td>\n",
       "      <td>122.0</td>\n",
       "      <td>1329.0</td>\n",
       "      <td>357.0</td>\n",
       "      <td>50_no_60+risk_no_school_kid06_inter</td>\n",
       "    </tr>\n",
       "    <tr>\n",
       "      <th>4</th>\n",
       "      <td>2020-05-25</td>\n",
       "      <td>127.0</td>\n",
       "      <td>1440.0</td>\n",
       "      <td>348.0</td>\n",
       "      <td>50_no_60+risk_no_school_kid06_inter</td>\n",
       "    </tr>\n",
       "    <tr>\n",
       "      <th>5</th>\n",
       "      <td>2020-06-01</td>\n",
       "      <td>135.0</td>\n",
       "      <td>1580.0</td>\n",
       "      <td>352.0</td>\n",
       "      <td>50_no_60+risk_no_school_kid06_inter</td>\n",
       "    </tr>\n",
       "    <tr>\n",
       "      <th>6</th>\n",
       "      <td>2020-06-08</td>\n",
       "      <td>147.0</td>\n",
       "      <td>1749.0</td>\n",
       "      <td>363.0</td>\n",
       "      <td>50_no_60+risk_no_school_kid06_inter</td>\n",
       "    </tr>\n",
       "    <tr>\n",
       "      <th>7</th>\n",
       "      <td>2020-06-15</td>\n",
       "      <td>163.0</td>\n",
       "      <td>1944.0</td>\n",
       "      <td>378.0</td>\n",
       "      <td>50_no_60+risk_no_school_kid06_inter</td>\n",
       "    </tr>\n",
       "    <tr>\n",
       "      <th>8</th>\n",
       "      <td>2020-06-22</td>\n",
       "      <td>184.0</td>\n",
       "      <td>2167.0</td>\n",
       "      <td>396.0</td>\n",
       "      <td>50_no_60+risk_no_school_kid06_inter</td>\n",
       "    </tr>\n",
       "    <tr>\n",
       "      <th>9</th>\n",
       "      <td>2020-06-29</td>\n",
       "      <td>209.0</td>\n",
       "      <td>2416.0</td>\n",
       "      <td>419.0</td>\n",
       "      <td>50_no_60+risk_no_school_kid06_inter</td>\n",
       "    </tr>\n",
       "    <tr>\n",
       "      <th>10</th>\n",
       "      <td>2020-07-06</td>\n",
       "      <td>240.0</td>\n",
       "      <td>2691.0</td>\n",
       "      <td>445.0</td>\n",
       "      <td>50_no_60+risk_no_school_kid06_inter</td>\n",
       "    </tr>\n",
       "    <tr>\n",
       "      <th>11</th>\n",
       "      <td>2020-07-13</td>\n",
       "      <td>277.0</td>\n",
       "      <td>2989.0</td>\n",
       "      <td>474.0</td>\n",
       "      <td>50_no_60+risk_no_school_kid06_inter</td>\n",
       "    </tr>\n",
       "    <tr>\n",
       "      <th>0</th>\n",
       "      <td>2020-04-27</td>\n",
       "      <td>156.0</td>\n",
       "      <td>1407.0</td>\n",
       "      <td>472.0</td>\n",
       "      <td>100_no_60+risk_inter</td>\n",
       "    </tr>\n",
       "    <tr>\n",
       "      <th>1</th>\n",
       "      <td>2020-05-04</td>\n",
       "      <td>198.0</td>\n",
       "      <td>1979.0</td>\n",
       "      <td>582.0</td>\n",
       "      <td>100_no_60+risk_inter</td>\n",
       "    </tr>\n",
       "    <tr>\n",
       "      <th>2</th>\n",
       "      <td>2020-05-11</td>\n",
       "      <td>307.0</td>\n",
       "      <td>3259.0</td>\n",
       "      <td>855.0</td>\n",
       "      <td>100_no_60+risk_inter</td>\n",
       "    </tr>\n",
       "    <tr>\n",
       "      <th>3</th>\n",
       "      <td>2020-05-18</td>\n",
       "      <td>531.0</td>\n",
       "      <td>5701.0</td>\n",
       "      <td>1373.0</td>\n",
       "      <td>100_no_60+risk_inter</td>\n",
       "    </tr>\n",
       "    <tr>\n",
       "      <th>4</th>\n",
       "      <td>2020-05-25</td>\n",
       "      <td>959.0</td>\n",
       "      <td>9999.0</td>\n",
       "      <td>2275.0</td>\n",
       "      <td>100_no_60+risk_inter</td>\n",
       "    </tr>\n",
       "    <tr>\n",
       "      <th>5</th>\n",
       "      <td>2020-06-01</td>\n",
       "      <td>1735.0</td>\n",
       "      <td>16973.0</td>\n",
       "      <td>3745.0</td>\n",
       "      <td>100_no_60+risk_inter</td>\n",
       "    </tr>\n",
       "    <tr>\n",
       "      <th>6</th>\n",
       "      <td>2020-06-08</td>\n",
       "      <td>3010.0</td>\n",
       "      <td>27223.0</td>\n",
       "      <td>5952.0</td>\n",
       "      <td>100_no_60+risk_inter</td>\n",
       "    </tr>\n",
       "    <tr>\n",
       "      <th>7</th>\n",
       "      <td>2020-06-15</td>\n",
       "      <td>4859.0</td>\n",
       "      <td>40734.0</td>\n",
       "      <td>8967.0</td>\n",
       "      <td>100_no_60+risk_inter</td>\n",
       "    </tr>\n",
       "    <tr>\n",
       "      <th>8</th>\n",
       "      <td>2020-06-22</td>\n",
       "      <td>7295.0</td>\n",
       "      <td>56646.0</td>\n",
       "      <td>12743.0</td>\n",
       "      <td>100_no_60+risk_inter</td>\n",
       "    </tr>\n",
       "    <tr>\n",
       "      <th>9</th>\n",
       "      <td>2020-06-29</td>\n",
       "      <td>10320.0</td>\n",
       "      <td>73183.0</td>\n",
       "      <td>17123.0</td>\n",
       "      <td>100_no_60+risk_inter</td>\n",
       "    </tr>\n",
       "    <tr>\n",
       "      <th>10</th>\n",
       "      <td>2020-07-06</td>\n",
       "      <td>13826.0</td>\n",
       "      <td>87904.0</td>\n",
       "      <td>21849.0</td>\n",
       "      <td>100_no_60+risk_inter</td>\n",
       "    </tr>\n",
       "    <tr>\n",
       "      <th>11</th>\n",
       "      <td>2020-07-13</td>\n",
       "      <td>17524.0</td>\n",
       "      <td>98407.0</td>\n",
       "      <td>26612.0</td>\n",
       "      <td>100_no_60+risk_inter</td>\n",
       "    </tr>\n",
       "  </tbody>\n",
       "</table>\n",
       "</div>"
      ],
      "text/plain": [
       "   week_start   new_lb   new_ub   new_ml                         scenario_idx\n",
       "0  2020-04-27    154.0   1271.0    468.0  50_no_60+risk_no_school_nokid_inter\n",
       "1  2020-05-04    135.0   1210.0    410.0  50_no_60+risk_no_school_nokid_inter\n",
       "2  2020-05-11    123.0   1199.0    370.0  50_no_60+risk_no_school_nokid_inter\n",
       "3  2020-05-18    115.0   1223.0    341.0  50_no_60+risk_no_school_nokid_inter\n",
       "4  2020-05-25    110.0   1257.0    319.0  50_no_60+risk_no_school_nokid_inter\n",
       "5  2020-06-01    108.0   1299.0    302.0  50_no_60+risk_no_school_nokid_inter\n",
       "6  2020-06-08    107.0   1344.0    287.0  50_no_60+risk_no_school_nokid_inter\n",
       "7  2020-06-15    108.0   1392.0    275.0  50_no_60+risk_no_school_nokid_inter\n",
       "8  2020-06-22    110.0   1443.0    264.0  50_no_60+risk_no_school_nokid_inter\n",
       "9  2020-06-29    113.0   1495.0    255.0  50_no_60+risk_no_school_nokid_inter\n",
       "10 2020-07-06    117.0   1549.0    247.0  50_no_60+risk_no_school_nokid_inter\n",
       "11 2020-07-13    123.0   1603.0    240.0  50_no_60+risk_no_school_nokid_inter\n",
       "0  2020-04-27    154.0   1272.0    468.0  50_no_60+risk_no_school_kid06_inter\n",
       "1  2020-05-04    136.0   1215.0    412.0  50_no_60+risk_no_school_kid06_inter\n",
       "2  2020-05-11    125.0   1250.0    376.0  50_no_60+risk_no_school_kid06_inter\n",
       "3  2020-05-18    122.0   1329.0    357.0  50_no_60+risk_no_school_kid06_inter\n",
       "4  2020-05-25    127.0   1440.0    348.0  50_no_60+risk_no_school_kid06_inter\n",
       "5  2020-06-01    135.0   1580.0    352.0  50_no_60+risk_no_school_kid06_inter\n",
       "6  2020-06-08    147.0   1749.0    363.0  50_no_60+risk_no_school_kid06_inter\n",
       "7  2020-06-15    163.0   1944.0    378.0  50_no_60+risk_no_school_kid06_inter\n",
       "8  2020-06-22    184.0   2167.0    396.0  50_no_60+risk_no_school_kid06_inter\n",
       "9  2020-06-29    209.0   2416.0    419.0  50_no_60+risk_no_school_kid06_inter\n",
       "10 2020-07-06    240.0   2691.0    445.0  50_no_60+risk_no_school_kid06_inter\n",
       "11 2020-07-13    277.0   2989.0    474.0  50_no_60+risk_no_school_kid06_inter\n",
       "0  2020-04-27    156.0   1407.0    472.0                 100_no_60+risk_inter\n",
       "1  2020-05-04    198.0   1979.0    582.0                 100_no_60+risk_inter\n",
       "2  2020-05-11    307.0   3259.0    855.0                 100_no_60+risk_inter\n",
       "3  2020-05-18    531.0   5701.0   1373.0                 100_no_60+risk_inter\n",
       "4  2020-05-25    959.0   9999.0   2275.0                 100_no_60+risk_inter\n",
       "5  2020-06-01   1735.0  16973.0   3745.0                 100_no_60+risk_inter\n",
       "6  2020-06-08   3010.0  27223.0   5952.0                 100_no_60+risk_inter\n",
       "7  2020-06-15   4859.0  40734.0   8967.0                 100_no_60+risk_inter\n",
       "8  2020-06-22   7295.0  56646.0  12743.0                 100_no_60+risk_inter\n",
       "9  2020-06-29  10320.0  73183.0  17123.0                 100_no_60+risk_inter\n",
       "10 2020-07-06  13826.0  87904.0  21849.0                 100_no_60+risk_inter\n",
       "11 2020-07-13  17524.0  98407.0  26612.0                 100_no_60+risk_inter"
      ]
     },
     "execution_count": 264,
     "metadata": {},
     "output_type": "execute_result"
    }
   ],
   "source": [
    "inter_df_vents_dis"
   ]
  },
  {
   "cell_type": "code",
   "execution_count": 265,
   "metadata": {
    "ExecuteTime": {
     "end_time": "2020-04-21T15:47:40.703829Z",
     "start_time": "2020-04-21T15:47:40.691826Z"
    }
   },
   "outputs": [],
   "source": [
    "# Save\n",
    "inter_df_vents_dis.to_csv('../Data/results/hospitalization_data_upload_230420.csv')"
   ]
  },
  {
   "cell_type": "markdown",
   "metadata": {},
   "source": [
    "# County id -> name mapper"
   ]
  },
  {
   "cell_type": "code",
   "execution_count": 268,
   "metadata": {
    "ExecuteTime": {
     "end_time": "2020-04-21T15:54:54.491899Z",
     "start_time": "2020-04-21T15:54:54.484327Z"
    }
   },
   "outputs": [],
   "source": [
    "region_name = {'11':'Jerusalem and sub.', '11_betshemesh':'Bet Shemesh', '21':'Zefat', '22':'Kinneret',\n",
    "               '23':'Jezreel Valley', '24':'Akko', '29':'Ramat Hagolan', '31':'Haifa', '32':'Hadera',\n",
    "               '41': 'Sharon', '42':'Petah Tiqwa', '43':'Ramla', '44':'Rehovot', '51_tlv':'Tel Aviv - Yafo',\n",
    "               '51_bb': 'Bnei Brak', '51':'TLV suburbs', '61':'Ashqelon', '62':'Beer Sheva Jewish',\n",
    "               '62_arab':'Beer Sheva Arabs','71': 'Judea and Samaria'}\n"
   ]
  },
  {
   "cell_type": "code",
   "execution_count": 269,
   "metadata": {
    "ExecuteTime": {
     "end_time": "2020-04-21T15:54:55.147631Z",
     "start_time": "2020-04-21T15:54:55.141607Z"
    }
   },
   "outputs": [],
   "source": [
    "region_name_df = pd.DataFrame.from_dict(region_name,orient='index')"
   ]
  },
  {
   "cell_type": "code",
   "execution_count": 271,
   "metadata": {
    "ExecuteTime": {
     "end_time": "2020-04-21T15:55:53.776807Z",
     "start_time": "2020-04-21T15:55:53.763751Z"
    }
   },
   "outputs": [],
   "source": [
    "region_name_df.to_csv('../Data/dashboard/region_name_mapper_county.csv')"
   ]
  },
  {
   "cell_type": "code",
   "execution_count": null,
   "metadata": {},
   "outputs": [],
   "source": []
  }
 ],
 "metadata": {
  "kernelspec": {
   "display_name": "Python 3",
   "language": "python",
   "name": "python3"
  },
  "language_info": {
   "codemirror_mode": {
    "name": "ipython",
    "version": 3
   },
   "file_extension": ".py",
   "mimetype": "text/x-python",
   "name": "python",
   "nbconvert_exporter": "python",
   "pygments_lexer": "ipython3",
   "version": "3.7.7"
  },
  "latex_envs": {
   "LaTeX_envs_menu_present": true,
   "autoclose": false,
   "autocomplete": true,
   "bibliofile": "biblio.bib",
   "cite_by": "apalike",
   "current_citInitial": 1,
   "eqLabelWithNumbers": true,
   "eqNumInitial": 1,
   "hotkeys": {
    "equation": "Ctrl-E",
    "itemize": "Ctrl-I"
   },
   "labels_anchors": false,
   "latex_user_defs": false,
   "report_style_numbering": false,
   "user_envs_cfg": false
  },
  "toc": {
   "base_numbering": 1,
   "nav_menu": {},
   "number_sections": true,
   "sideBar": true,
   "skip_h1_title": false,
   "title_cell": "Table of Contents",
   "title_sidebar": "Contents",
   "toc_cell": false,
   "toc_position": {},
   "toc_section_display": true,
   "toc_window_display": true
  },
  "varInspector": {
   "cols": {
    "lenName": 16,
    "lenType": 16,
    "lenVar": 40
   },
   "kernels_config": {
    "python": {
     "delete_cmd_postfix": "",
     "delete_cmd_prefix": "del ",
     "library": "var_list.py",
     "varRefreshCmd": "print(var_dic_list())"
    },
    "r": {
     "delete_cmd_postfix": ") ",
     "delete_cmd_prefix": "rm(",
     "library": "var_list.r",
     "varRefreshCmd": "cat(var_dic_list()) "
    }
   },
   "types_to_exclude": [
    "module",
    "function",
    "builtin_function_or_method",
    "instance",
    "_Feature"
   ],
   "window_display": false
  }
 },
 "nbformat": 4,
 "nbformat_minor": 4
}

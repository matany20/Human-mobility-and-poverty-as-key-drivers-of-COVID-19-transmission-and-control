{
 "cells": [
  {
   "cell_type": "code",
   "execution_count": 3,
   "metadata": {
    "ExecuteTime": {
     "end_time": "2020-04-21T08:00:10.453288Z",
     "start_time": "2020-04-21T08:00:08.558849Z"
    }
   },
   "outputs": [],
   "source": [
    "import numpy as np\n",
    "import pandas as pd\n",
    "from matplotlib.patches import Patch\n",
    "import itertools\n",
    "import pickle\n",
    "from matplotlib import pyplot as plt\n",
    "import datetime\n",
    "from scipy import optimize\n",
    "import sys\n",
    "sys.path.append('../SEIR_full/')\n",
    "sys.path.append('..')\n",
    "import SEIR_full as mdl\n",
    "import datetime as dt"
   ]
  },
  {
   "cell_type": "code",
   "execution_count": 4,
   "metadata": {
    "ExecuteTime": {
     "end_time": "2020-04-21T08:00:21.614095Z",
     "start_time": "2020-04-21T08:00:21.588417Z"
    }
   },
   "outputs": [],
   "source": [
    "plt.style.use('dean_style.conf')"
   ]
  },
  {
   "cell_type": "code",
   "execution_count": 115,
   "metadata": {
    "ExecuteTime": {
     "end_time": "2020-04-21T13:06:31.597944Z",
     "start_time": "2020-04-21T13:06:31.593134Z"
    }
   },
   "outputs": [],
   "source": [
    "IL_pop = 9136000"
   ]
  },
  {
   "cell_type": "markdown",
   "metadata": {},
   "source": [
    "# Imports model's predictions"
   ]
  },
  {
   "cell_type": "code",
   "execution_count": 6,
   "metadata": {
    "ExecuteTime": {
     "end_time": "2020-04-21T10:28:38.850854Z",
     "start_time": "2020-04-21T10:28:38.754082Z"
    }
   },
   "outputs": [],
   "source": [
    "with open('../Data/dashboard/21_4_20_12_54.pickle','rb') as pickle_file:\n",
    "    inter_data = pickle.load(pickle_file)"
   ]
  },
  {
   "cell_type": "code",
   "execution_count": 16,
   "metadata": {
    "ExecuteTime": {
     "end_time": "2020-04-21T11:52:59.359610Z",
     "start_time": "2020-04-21T11:52:59.351629Z"
    }
   },
   "outputs": [
    {
     "data": {
      "text/plain": [
       "dict_keys([('50_no_70+risk_no_school_nokid_inter', 'ub'), ('50_no_70+risk_no_school_kid06_inter', 'ub'), ('100_no_70+risk_inter', 'ub'), ('50_no_70+risk_no_school_nokid_inter', 'ml'), ('50_no_70+risk_no_school_kid06_inter', 'ml'), ('100_no_70+risk_inter', 'ml'), ('50_no_70+risk_no_school_nokid_inter', 'lb'), ('50_no_70+risk_no_school_kid06_inter', 'lb'), ('100_no_70+risk_inter', 'lb')])"
      ]
     },
     "execution_count": 16,
     "metadata": {},
     "output_type": "execute_result"
    }
   ],
   "source": [
    "inter_data.keys()"
   ]
  },
  {
   "cell_type": "code",
   "execution_count": 78,
   "metadata": {
    "ExecuteTime": {
     "end_time": "2020-04-21T12:31:53.198879Z",
     "start_time": "2020-04-21T12:31:53.130819Z"
    }
   },
   "outputs": [],
   "source": [
    "region_age_ga_dict = mdl.get_opposite_dict(mdl.GA,list(itertools.product(mdl.G.values(),mdl.A.values())))\n",
    "region_index = {v:k for k,v in mdl.G.items()}\n",
    "init_region_pop = mdl.shrink_array_sum(mapping_dic=mdl.region_dict,array_to_shrink=mdl.population_size)\n",
    "init_region_age_pop = mdl.shrink_array_sum(mapping_dic=mdl.region_age_dict,array_to_shrink=mdl.population_size)"
   ]
  },
  {
   "cell_type": "code",
   "execution_count": 114,
   "metadata": {
    "ExecuteTime": {
     "end_time": "2020-04-21T13:02:58.400344Z",
     "start_time": "2020-04-21T13:02:58.393362Z"
    }
   },
   "outputs": [
    {
     "data": {
      "text/plain": [
       "1.0"
      ]
     },
     "execution_count": 114,
     "metadata": {},
     "output_type": "execute_result"
    }
   ],
   "source": [
    "init_region_age_pop.sum()"
   ]
  },
  {
   "cell_type": "markdown",
   "metadata": {},
   "source": [
    "# Map dashboard"
   ]
  },
  {
   "cell_type": "code",
   "execution_count": 171,
   "metadata": {
    "ExecuteTime": {
     "end_time": "2020-04-21T15:16:11.273886Z",
     "start_time": "2020-04-21T15:16:11.249954Z"
    }
   },
   "outputs": [],
   "source": [
    "def map_table(res_mdl, inter_code, col_name='mean', start_day='2020-02-20'):\n",
    "    \n",
    "    tot_I = res_mdl['Is'] + res_mdl['Ia'] + res_mdl['Ie']\n",
    "    date_range = pd.date_range(start_day, periods = tot_I.shape[0], freq='d')\n",
    "    \n",
    "    # Creating table for map, by region:\n",
    "    table = pd.DataFrame(index = pd.MultiIndex.from_tuples(itertools.product(date_range, mdl.G.values(),list(mdl.A.values()) + ['total']),\n",
    "                                                           names=['date','region','age']), \n",
    "                                     columns=[col_name])\n",
    "    # filling df, cases per 1K\n",
    "    for index in list(table.index):\n",
    "#         print(index)\n",
    "#         print(type(tot_I[int(np.where(date_range == index[0])[0]),mdl.region_dict[index[1]]].sum()))\n",
    "#         print([int(np.where(date_range == index[0])[0]),mdl.region_dict[index[1]]])\n",
    "        \n",
    "        # if total area value needed\n",
    "        if index[2] == 'total':\n",
    "            table.loc[index] = (tot_I[int(np.where(date_range == index[0])[0]),mdl.region_dict[index[1]]].sum()\n",
    "                                / init_region_pop[region_index[index[1]]]) * 1000\n",
    "        else:\n",
    "            table.loc[index] = (tot_I[int(np.where(date_range == index[0])[0]),mdl.region_age_dict[index[1],index[2]]].sum()\n",
    "                                / init_region_age_pop[region_age_ga_dict[index[1], index[2]]]) * 1000\n",
    "    \n",
    "    # calculate weekly cases\n",
    "    # 'daysoffset' will container the weekday, as integers\n",
    "    table['daysoffset'] = table.apply(lambda x: x.name[0].weekday(),axis=1)\n",
    "    # We apply, row by row (axis=1) a timedelta operation\n",
    "    table['week_start'] = table.apply(lambda x: x.name[0] - dt.timedelta(days=x['daysoffset']), axis=1)\n",
    "    \n",
    "    table.reset_index(inplace=True)\n",
    "    table_groupped = table.groupby(['week_start','region','age'])[col_name]\n",
    "    table_groupped = table_groupped.apply(lambda x: (x.max() + x.min())/2)\n",
    "    table_groupped =  table_groupped.to_frame()\n",
    "    table_groupped['scenario_idx'] = inter_code\n",
    "    \n",
    "    return(table_groupped[pd.to_datetime('today'):])"
   ]
  },
  {
   "cell_type": "code",
   "execution_count": 188,
   "metadata": {
    "ExecuteTime": {
     "end_time": "2020-04-21T15:20:22.642512Z",
     "start_time": "2020-04-21T15:20:22.636525Z"
    }
   },
   "outputs": [],
   "source": [
    "# scenario_name = '50_no_70+risk_no_school_nokid_inter'\n",
    "# scenario_name = '50_no_70+risk_no_school_kid06_inter'\n",
    "scenario_name = '100_no_70+risk_inter'\n",
    "model_sets = ['ml']"
   ]
  },
  {
   "cell_type": "code",
   "execution_count": 184,
   "metadata": {
    "ExecuteTime": {
     "end_time": "2020-04-21T15:19:46.517054Z",
     "start_time": "2020-04-21T15:19:46.512032Z"
    }
   },
   "outputs": [],
   "source": [
    "inter_dict_map = {}"
   ]
  },
  {
   "cell_type": "code",
   "execution_count": 189,
   "metadata": {
    "ExecuteTime": {
     "end_time": "2020-04-21T15:20:40.332757Z",
     "start_time": "2020-04-21T15:20:24.167281Z"
    }
   },
   "outputs": [],
   "source": [
    "for s in model_sets:\n",
    "    inter_dict_map[scenario_name] = map_table(inter_data[scenario_name,s], \n",
    "                                     scenario_name, col_name=s, start_day='2020-02-20').reset_index()\n",
    "    "
   ]
  },
  {
   "cell_type": "code",
   "execution_count": 190,
   "metadata": {
    "ExecuteTime": {
     "end_time": "2020-04-21T15:20:43.584099Z",
     "start_time": "2020-04-21T15:20:43.571134Z"
    }
   },
   "outputs": [],
   "source": [
    "inter_df_list = [v for v in inter_dict_map.values()]\n",
    "inter_df_concat = pd.concat(inter_df_list)"
   ]
  },
  {
   "cell_type": "code",
   "execution_count": 192,
   "metadata": {
    "ExecuteTime": {
     "end_time": "2020-04-21T15:22:25.593476Z",
     "start_time": "2020-04-21T15:22:25.435632Z"
    }
   },
   "outputs": [],
   "source": [
    "# Save\n",
    "inter_df_concat.to_csv('../Data/dashboard/map_data_upload_210420.csv')"
   ]
  },
  {
   "cell_type": "markdown",
   "metadata": {},
   "source": [
    "# Age distribution"
   ]
  },
  {
   "cell_type": "code",
   "execution_count": 118,
   "metadata": {
    "ExecuteTime": {
     "end_time": "2020-04-21T13:11:28.549415Z",
     "start_time": "2020-04-21T13:11:28.530464Z"
    }
   },
   "outputs": [],
   "source": [
    "def age_distribution_table(res_mdl, inter_code, col_name='mean', start_day='2020-02-20'):\n",
    "    \n",
    "    tot_I = res_mdl['Is'] + res_mdl['Ia'] + res_mdl['Ie']\n",
    "    date_range = pd.date_range(start_day, periods = tot_I.shape[0], freq='d')\n",
    "    \n",
    "    # Creating table for map, by region:\n",
    "    table = pd.DataFrame(index = pd.MultiIndex.from_tuples(itertools.product(date_range,list(mdl.A.values())),\n",
    "                                                           names=['date','age']), \n",
    "                                     columns=[col_name])\n",
    "\n",
    "    for index in list(table.index):\n",
    "#         print(index)\n",
    "#         print(type(tot_I[int(np.where(date_range == index[0])[0]),mdl.region_dict[index[1]]].sum()))\n",
    "#         print([int(np.where(date_range == index[0])[0]),mdl.region_dict[index[1]]])\n",
    "        \n",
    "        table.loc[index] = (tot_I[int(np.where(date_range == index[0])[0]),mdl.age_dict[index[1]]].sum())*IL_pop\n",
    "    \n",
    "    # calculate weekly cases\n",
    "    # 'daysoffset' will container the weekday, as integers\n",
    "    table['daysoffset'] = table.apply(lambda x: x.name[0].weekday(),axis=1)\n",
    "    # We apply, row by row (axis=1) a timedelta operation\n",
    "    table['week_start'] = table.apply(lambda x: x.name[0] - dt.timedelta(days=x['daysoffset']), axis=1)\n",
    "    \n",
    "    table.reset_index(inplace=True)\n",
    "    table_groupped = table.groupby(['week_start','age'])[col_name]\n",
    "    table_groupped = table_groupped.apply(lambda x: np.ceil((x.max() + x.min())/2))\n",
    "    table_groupped =  table_groupped.to_frame()\n",
    "    table_groupped['scenario_idx'] = inter_code\n",
    "    \n",
    "    return(table_groupped[pd.to_datetime('today'):])"
   ]
  },
  {
   "cell_type": "code",
   "execution_count": 244,
   "metadata": {
    "ExecuteTime": {
     "end_time": "2020-04-21T15:45:15.742397Z",
     "start_time": "2020-04-21T15:45:15.727438Z"
    }
   },
   "outputs": [],
   "source": [
    "def combine_ub_lb_ml(ub_df, lb_df, ml_df, col_list=['ub','lb','ml']):\n",
    "    \n",
    "    combined_df = ml_df.copy()\n",
    "    combined_df = combined_df.merge(ub_df, left_index=True, right_index=True)\n",
    "    combined_df = combined_df.merge(lb_df, left_index=True, right_index=True)\n",
    "#     print(combined_df)\n",
    "    # fixing LB/Mean/UB\n",
    "    combined_df['new_lb'] = combined_df[col_list].apply(lambda x: x.min(), axis=1)\n",
    "    combined_df['new_ub'] = combined_df[col_list].apply(lambda x: x.max(), axis=1)\n",
    "    combined_df['new_ml'] = combined_df[col_list].apply(lambda x: sorted([x[0],x[1],x[2]])[1], axis=1)\n",
    "    \n",
    "    return combined_df[['new_lb','new_ub','new_ml','scenario_idx']]\n",
    "    "
   ]
  },
  {
   "cell_type": "code",
   "execution_count": 250,
   "metadata": {
    "ExecuteTime": {
     "end_time": "2020-04-21T15:45:32.777564Z",
     "start_time": "2020-04-21T15:45:32.772579Z"
    }
   },
   "outputs": [],
   "source": [
    "# scenario_name = '50_no_70+risk_no_school_nokid_inter'\n",
    "# scenario_name = '50_no_70+risk_no_school_kid06_inter'\n",
    "scenario_name = '100_no_70+risk_inter'\n",
    "model_sets = ['ml','ub','lb']"
   ]
  },
  {
   "cell_type": "code",
   "execution_count": 246,
   "metadata": {
    "ExecuteTime": {
     "end_time": "2020-04-21T15:45:17.891658Z",
     "start_time": "2020-04-21T15:45:17.886673Z"
    }
   },
   "outputs": [],
   "source": [
    "inter_dict_age_dis = {}"
   ]
  },
  {
   "cell_type": "code",
   "execution_count": 251,
   "metadata": {
    "ExecuteTime": {
     "end_time": "2020-04-21T15:45:41.144046Z",
     "start_time": "2020-04-21T15:45:38.825457Z"
    }
   },
   "outputs": [],
   "source": [
    "curr_inter_dict = {}\n",
    "for s in model_sets:\n",
    "    curr_inter_dict[s] = age_distribution_table(inter_data[scenario_name,s], \n",
    "                                     scenario_name, col_name=s, start_day='2020-02-20')\n",
    "\n",
    "    \n",
    "# combining ub,lb,ml to one DF:\n",
    "\n",
    "inter_dict_age_dis[scenario_name] = combine_ub_lb_ml(curr_inter_dict['ub'],curr_inter_dict['lb'],curr_inter_dict['ml'],\n",
    "                                                col_list=model_sets).reset_index()"
   ]
  },
  {
   "cell_type": "code",
   "execution_count": 252,
   "metadata": {
    "ExecuteTime": {
     "end_time": "2020-04-21T15:45:42.886876Z",
     "start_time": "2020-04-21T15:45:42.875878Z"
    }
   },
   "outputs": [],
   "source": [
    "inter_df_list_age_dis = [v for v in inter_dict_age_dis.values()]\n",
    "inter_df_age_dis = pd.concat(inter_df_list_age_dis)"
   ]
  },
  {
   "cell_type": "code",
   "execution_count": 253,
   "metadata": {
    "ExecuteTime": {
     "end_time": "2020-04-21T15:45:43.794426Z",
     "start_time": "2020-04-21T15:45:43.762552Z"
    }
   },
   "outputs": [
    {
     "data": {
      "text/html": [
       "<div>\n",
       "<style scoped>\n",
       "    .dataframe tbody tr th:only-of-type {\n",
       "        vertical-align: middle;\n",
       "    }\n",
       "\n",
       "    .dataframe tbody tr th {\n",
       "        vertical-align: top;\n",
       "    }\n",
       "\n",
       "    .dataframe thead th {\n",
       "        text-align: right;\n",
       "    }\n",
       "</style>\n",
       "<table border=\"1\" class=\"dataframe\">\n",
       "  <thead>\n",
       "    <tr style=\"text-align: right;\">\n",
       "      <th></th>\n",
       "      <th>week_start</th>\n",
       "      <th>age</th>\n",
       "      <th>new_lb</th>\n",
       "      <th>new_ub</th>\n",
       "      <th>new_ml</th>\n",
       "      <th>scenario_idx</th>\n",
       "    </tr>\n",
       "  </thead>\n",
       "  <tbody>\n",
       "    <tr>\n",
       "      <th>0</th>\n",
       "      <td>2020-04-27</td>\n",
       "      <td>0-4</td>\n",
       "      <td>187.0</td>\n",
       "      <td>1261.0</td>\n",
       "      <td>435.0</td>\n",
       "      <td>50_no_70+risk_no_school_kid06_inter</td>\n",
       "    </tr>\n",
       "    <tr>\n",
       "      <th>1</th>\n",
       "      <td>2020-04-27</td>\n",
       "      <td>10-19</td>\n",
       "      <td>516.0</td>\n",
       "      <td>3578.0</td>\n",
       "      <td>1362.0</td>\n",
       "      <td>50_no_70+risk_no_school_kid06_inter</td>\n",
       "    </tr>\n",
       "    <tr>\n",
       "      <th>2</th>\n",
       "      <td>2020-04-27</td>\n",
       "      <td>20-29</td>\n",
       "      <td>206.0</td>\n",
       "      <td>1789.0</td>\n",
       "      <td>611.0</td>\n",
       "      <td>50_no_70+risk_no_school_kid06_inter</td>\n",
       "    </tr>\n",
       "    <tr>\n",
       "      <th>3</th>\n",
       "      <td>2020-04-27</td>\n",
       "      <td>30-39</td>\n",
       "      <td>187.0</td>\n",
       "      <td>1554.0</td>\n",
       "      <td>548.0</td>\n",
       "      <td>50_no_70+risk_no_school_kid06_inter</td>\n",
       "    </tr>\n",
       "    <tr>\n",
       "      <th>4</th>\n",
       "      <td>2020-04-27</td>\n",
       "      <td>40-49</td>\n",
       "      <td>94.0</td>\n",
       "      <td>1477.0</td>\n",
       "      <td>275.0</td>\n",
       "      <td>50_no_70+risk_no_school_kid06_inter</td>\n",
       "    </tr>\n",
       "    <tr>\n",
       "      <th>...</th>\n",
       "      <td>...</td>\n",
       "      <td>...</td>\n",
       "      <td>...</td>\n",
       "      <td>...</td>\n",
       "      <td>...</td>\n",
       "      <td>...</td>\n",
       "    </tr>\n",
       "    <tr>\n",
       "      <th>103</th>\n",
       "      <td>2020-07-13</td>\n",
       "      <td>40-49</td>\n",
       "      <td>19358.0</td>\n",
       "      <td>123370.0</td>\n",
       "      <td>30942.0</td>\n",
       "      <td>100_no_70+risk_inter</td>\n",
       "    </tr>\n",
       "    <tr>\n",
       "      <th>104</th>\n",
       "      <td>2020-07-13</td>\n",
       "      <td>5-9</td>\n",
       "      <td>34386.0</td>\n",
       "      <td>90313.0</td>\n",
       "      <td>42707.0</td>\n",
       "      <td>100_no_70+risk_inter</td>\n",
       "    </tr>\n",
       "    <tr>\n",
       "      <th>105</th>\n",
       "      <td>2020-07-13</td>\n",
       "      <td>50-59</td>\n",
       "      <td>13646.0</td>\n",
       "      <td>76449.0</td>\n",
       "      <td>22146.0</td>\n",
       "      <td>100_no_70+risk_inter</td>\n",
       "    </tr>\n",
       "    <tr>\n",
       "      <th>106</th>\n",
       "      <td>2020-07-13</td>\n",
       "      <td>60-69</td>\n",
       "      <td>18540.0</td>\n",
       "      <td>84260.0</td>\n",
       "      <td>27698.0</td>\n",
       "      <td>100_no_70+risk_inter</td>\n",
       "    </tr>\n",
       "    <tr>\n",
       "      <th>107</th>\n",
       "      <td>2020-07-13</td>\n",
       "      <td>70+</td>\n",
       "      <td>9364.0</td>\n",
       "      <td>49757.0</td>\n",
       "      <td>13799.0</td>\n",
       "      <td>100_no_70+risk_inter</td>\n",
       "    </tr>\n",
       "  </tbody>\n",
       "</table>\n",
       "<p>324 rows × 6 columns</p>\n",
       "</div>"
      ],
      "text/plain": [
       "    week_start    age   new_lb    new_ub   new_ml  \\\n",
       "0   2020-04-27    0-4    187.0    1261.0    435.0   \n",
       "1   2020-04-27  10-19    516.0    3578.0   1362.0   \n",
       "2   2020-04-27  20-29    206.0    1789.0    611.0   \n",
       "3   2020-04-27  30-39    187.0    1554.0    548.0   \n",
       "4   2020-04-27  40-49     94.0    1477.0    275.0   \n",
       "..         ...    ...      ...       ...      ...   \n",
       "103 2020-07-13  40-49  19358.0  123370.0  30942.0   \n",
       "104 2020-07-13    5-9  34386.0   90313.0  42707.0   \n",
       "105 2020-07-13  50-59  13646.0   76449.0  22146.0   \n",
       "106 2020-07-13  60-69  18540.0   84260.0  27698.0   \n",
       "107 2020-07-13    70+   9364.0   49757.0  13799.0   \n",
       "\n",
       "                            scenario_idx  \n",
       "0    50_no_70+risk_no_school_kid06_inter  \n",
       "1    50_no_70+risk_no_school_kid06_inter  \n",
       "2    50_no_70+risk_no_school_kid06_inter  \n",
       "3    50_no_70+risk_no_school_kid06_inter  \n",
       "4    50_no_70+risk_no_school_kid06_inter  \n",
       "..                                   ...  \n",
       "103                 100_no_70+risk_inter  \n",
       "104                 100_no_70+risk_inter  \n",
       "105                 100_no_70+risk_inter  \n",
       "106                 100_no_70+risk_inter  \n",
       "107                 100_no_70+risk_inter  \n",
       "\n",
       "[324 rows x 6 columns]"
      ]
     },
     "execution_count": 253,
     "metadata": {},
     "output_type": "execute_result"
    }
   ],
   "source": [
    "inter_df_age_dis"
   ]
  },
  {
   "cell_type": "code",
   "execution_count": 254,
   "metadata": {
    "ExecuteTime": {
     "end_time": "2020-04-21T15:46:03.414884Z",
     "start_time": "2020-04-21T15:46:03.389947Z"
    }
   },
   "outputs": [],
   "source": [
    "# Save\n",
    "inter_df_age_dis.to_csv('../Data/dashboard/age_data_upload_210420.csv')"
   ]
  },
  {
   "cell_type": "markdown",
   "metadata": {},
   "source": [
    "# Ventilators graph"
   ]
  },
  {
   "cell_type": "code",
   "execution_count": 255,
   "metadata": {
    "ExecuteTime": {
     "end_time": "2020-04-21T15:46:50.968723Z",
     "start_time": "2020-04-21T15:46:50.944786Z"
    }
   },
   "outputs": [],
   "source": [
    "def vents_graph(res_mdl, inter_code, tracking='Vents' ,col_name='mean', curr_vents=None, start_day='2020-02-20', \n",
    "                inter_start_date='2020-04-20', fix_vents=False):\n",
    "    \n",
    "    tot_vents = np.ceil(res_mdl[tracking].sum(axis=1) * IL_pop) \n",
    "    date_range = pd.date_range(start_day, periods = tot_I.shape[0], freq='d')\n",
    "    # fixing patients no.\n",
    "    if fix_vents:\n",
    "        model_vents_proj = tot_vents[int(np.where(date_range == inter_start_date)[0])]\n",
    "        tot_vents += max(curr_vents - model_vents_proj, 0)\n",
    "\n",
    "    \n",
    "    # creates DF with results\n",
    "    vents_dict = {}\n",
    "    vents_dict['date'] = date_range\n",
    "    vents_dict[col_name] = tot_vents\n",
    "    vents_df = pd.DataFrame.from_dict(vents_dict)\n",
    "    \n",
    "    # 'daysoffset' will container the weekday, as integers\n",
    "    vents_df['daysoffset'] = vents_df['date'].apply(lambda x: x.weekday())\n",
    "    # We apply, row by row (axis=1) a timedelta operation\n",
    "    vents_df['week_start'] = vents_df.apply(lambda x: x['date'] - dt.timedelta(days=x['daysoffset']), axis=1)\n",
    "    \n",
    "    vents_df_grop = vents_df.groupby('week_start')[col_name]\n",
    "    vents_df_grop = vents_df_grop.max().to_frame()\n",
    "    vents_df_grop['scenario_idx'] = inter_code\n",
    "    return (vents_df_grop[pd.to_datetime('today'):])"
   ]
  },
  {
   "cell_type": "code",
   "execution_count": 261,
   "metadata": {
    "ExecuteTime": {
     "end_time": "2020-04-21T15:47:11.008380Z",
     "start_time": "2020-04-21T15:47:11.002362Z"
    }
   },
   "outputs": [],
   "source": [
    "# scenario_name = '50_no_70+risk_no_school_nokid_inter'\n",
    "scenario_name = '50_no_70+risk_no_school_kid06_inter'\n",
    "# scenario_name = '100_no_70+risk_inter'\n",
    "model_sets = ['ml','ub','lb']"
   ]
  },
  {
   "cell_type": "code",
   "execution_count": 257,
   "metadata": {
    "ExecuteTime": {
     "end_time": "2020-04-21T15:46:53.748693Z",
     "start_time": "2020-04-21T15:46:53.744673Z"
    }
   },
   "outputs": [],
   "source": [
    "inter_dict_vents_dict = {}"
   ]
  },
  {
   "cell_type": "code",
   "execution_count": 262,
   "metadata": {
    "ExecuteTime": {
     "end_time": "2020-04-21T15:47:12.643619Z",
     "start_time": "2020-04-21T15:47:12.551399Z"
    }
   },
   "outputs": [],
   "source": [
    "curr_inter_dict = {}\n",
    "for s in model_sets:\n",
    "    curr_inter_dict[s] = vents_graph(inter_data[scenario_name,s], \n",
    "                                     scenario_name, col_name=s, curr_vents=113, start_day='2020-02-20', fix_vents=True)\n",
    "\n",
    "    \n",
    "# combining ub,lb,ml to one DF:\n",
    "\n",
    "inter_dict_vents_dict[scenario_name] = combine_ub_lb_ml(curr_inter_dict['ub'],curr_inter_dict['lb'],curr_inter_dict['ml'],\n",
    "                                                col_list=model_sets).reset_index()"
   ]
  },
  {
   "cell_type": "code",
   "execution_count": 263,
   "metadata": {
    "ExecuteTime": {
     "end_time": "2020-04-21T15:47:13.952350Z",
     "start_time": "2020-04-21T15:47:13.940381Z"
    }
   },
   "outputs": [],
   "source": [
    "inter_df_list_vents_dis = [v for v in inter_dict_vents_dict.values()]\n",
    "inter_df_vents_dis = pd.concat(inter_df_list_vents_dis)"
   ]
  },
  {
   "cell_type": "code",
   "execution_count": 264,
   "metadata": {
    "ExecuteTime": {
     "end_time": "2020-04-21T15:47:14.942155Z",
     "start_time": "2020-04-21T15:47:14.911239Z"
    },
    "scrolled": true
   },
   "outputs": [
    {
     "data": {
      "text/html": [
       "<div>\n",
       "<style scoped>\n",
       "    .dataframe tbody tr th:only-of-type {\n",
       "        vertical-align: middle;\n",
       "    }\n",
       "\n",
       "    .dataframe tbody tr th {\n",
       "        vertical-align: top;\n",
       "    }\n",
       "\n",
       "    .dataframe thead th {\n",
       "        text-align: right;\n",
       "    }\n",
       "</style>\n",
       "<table border=\"1\" class=\"dataframe\">\n",
       "  <thead>\n",
       "    <tr style=\"text-align: right;\">\n",
       "      <th></th>\n",
       "      <th>week_start</th>\n",
       "      <th>new_lb</th>\n",
       "      <th>new_ub</th>\n",
       "      <th>new_ml</th>\n",
       "      <th>scenario_idx</th>\n",
       "    </tr>\n",
       "  </thead>\n",
       "  <tbody>\n",
       "    <tr>\n",
       "      <th>0</th>\n",
       "      <td>2020-04-27</td>\n",
       "      <td>109.0</td>\n",
       "      <td>146.0</td>\n",
       "      <td>112.0</td>\n",
       "      <td>100_no_70+risk_inter</td>\n",
       "    </tr>\n",
       "    <tr>\n",
       "      <th>1</th>\n",
       "      <td>2020-05-04</td>\n",
       "      <td>118.0</td>\n",
       "      <td>228.0</td>\n",
       "      <td>125.0</td>\n",
       "      <td>100_no_70+risk_inter</td>\n",
       "    </tr>\n",
       "    <tr>\n",
       "      <th>2</th>\n",
       "      <td>2020-05-11</td>\n",
       "      <td>131.0</td>\n",
       "      <td>400.0</td>\n",
       "      <td>160.0</td>\n",
       "      <td>100_no_70+risk_inter</td>\n",
       "    </tr>\n",
       "    <tr>\n",
       "      <th>3</th>\n",
       "      <td>2020-05-18</td>\n",
       "      <td>158.0</td>\n",
       "      <td>717.0</td>\n",
       "      <td>222.0</td>\n",
       "      <td>100_no_70+risk_inter</td>\n",
       "    </tr>\n",
       "    <tr>\n",
       "      <th>4</th>\n",
       "      <td>2020-05-25</td>\n",
       "      <td>209.0</td>\n",
       "      <td>1266.0</td>\n",
       "      <td>329.0</td>\n",
       "      <td>100_no_70+risk_inter</td>\n",
       "    </tr>\n",
       "    <tr>\n",
       "      <th>5</th>\n",
       "      <td>2020-06-01</td>\n",
       "      <td>299.0</td>\n",
       "      <td>2138.0</td>\n",
       "      <td>501.0</td>\n",
       "      <td>100_no_70+risk_inter</td>\n",
       "    </tr>\n",
       "    <tr>\n",
       "      <th>6</th>\n",
       "      <td>2020-06-08</td>\n",
       "      <td>443.0</td>\n",
       "      <td>3387.0</td>\n",
       "      <td>752.0</td>\n",
       "      <td>100_no_70+risk_inter</td>\n",
       "    </tr>\n",
       "    <tr>\n",
       "      <th>7</th>\n",
       "      <td>2020-06-15</td>\n",
       "      <td>646.0</td>\n",
       "      <td>4996.0</td>\n",
       "      <td>1087.0</td>\n",
       "      <td>100_no_70+risk_inter</td>\n",
       "    </tr>\n",
       "    <tr>\n",
       "      <th>8</th>\n",
       "      <td>2020-06-22</td>\n",
       "      <td>910.0</td>\n",
       "      <td>6845.0</td>\n",
       "      <td>1498.0</td>\n",
       "      <td>100_no_70+risk_inter</td>\n",
       "    </tr>\n",
       "    <tr>\n",
       "      <th>9</th>\n",
       "      <td>2020-06-29</td>\n",
       "      <td>1234.0</td>\n",
       "      <td>8703.0</td>\n",
       "      <td>1967.0</td>\n",
       "      <td>100_no_70+risk_inter</td>\n",
       "    </tr>\n",
       "    <tr>\n",
       "      <th>10</th>\n",
       "      <td>2020-07-06</td>\n",
       "      <td>1603.0</td>\n",
       "      <td>10257.0</td>\n",
       "      <td>2466.0</td>\n",
       "      <td>100_no_70+risk_inter</td>\n",
       "    </tr>\n",
       "    <tr>\n",
       "      <th>11</th>\n",
       "      <td>2020-07-13</td>\n",
       "      <td>1983.0</td>\n",
       "      <td>11223.0</td>\n",
       "      <td>2963.0</td>\n",
       "      <td>100_no_70+risk_inter</td>\n",
       "    </tr>\n",
       "    <tr>\n",
       "      <th>0</th>\n",
       "      <td>2020-04-27</td>\n",
       "      <td>105.0</td>\n",
       "      <td>121.0</td>\n",
       "      <td>110.0</td>\n",
       "      <td>50_no_70+risk_no_school_nokid_inter</td>\n",
       "    </tr>\n",
       "    <tr>\n",
       "      <th>1</th>\n",
       "      <td>2020-05-04</td>\n",
       "      <td>102.0</td>\n",
       "      <td>136.0</td>\n",
       "      <td>110.0</td>\n",
       "      <td>50_no_70+risk_no_school_nokid_inter</td>\n",
       "    </tr>\n",
       "    <tr>\n",
       "      <th>2</th>\n",
       "      <td>2020-05-11</td>\n",
       "      <td>105.0</td>\n",
       "      <td>162.0</td>\n",
       "      <td>111.0</td>\n",
       "      <td>50_no_70+risk_no_school_nokid_inter</td>\n",
       "    </tr>\n",
       "    <tr>\n",
       "      <th>3</th>\n",
       "      <td>2020-05-18</td>\n",
       "      <td>110.0</td>\n",
       "      <td>198.0</td>\n",
       "      <td>113.0</td>\n",
       "      <td>50_no_70+risk_no_school_nokid_inter</td>\n",
       "    </tr>\n",
       "    <tr>\n",
       "      <th>4</th>\n",
       "      <td>2020-05-25</td>\n",
       "      <td>116.0</td>\n",
       "      <td>245.0</td>\n",
       "      <td>116.0</td>\n",
       "      <td>50_no_70+risk_no_school_nokid_inter</td>\n",
       "    </tr>\n",
       "    <tr>\n",
       "      <th>5</th>\n",
       "      <td>2020-06-01</td>\n",
       "      <td>121.0</td>\n",
       "      <td>302.0</td>\n",
       "      <td>124.0</td>\n",
       "      <td>50_no_70+risk_no_school_nokid_inter</td>\n",
       "    </tr>\n",
       "    <tr>\n",
       "      <th>6</th>\n",
       "      <td>2020-06-08</td>\n",
       "      <td>126.0</td>\n",
       "      <td>372.0</td>\n",
       "      <td>133.0</td>\n",
       "      <td>50_no_70+risk_no_school_nokid_inter</td>\n",
       "    </tr>\n",
       "    <tr>\n",
       "      <th>7</th>\n",
       "      <td>2020-06-15</td>\n",
       "      <td>133.0</td>\n",
       "      <td>457.0</td>\n",
       "      <td>144.0</td>\n",
       "      <td>50_no_70+risk_no_school_nokid_inter</td>\n",
       "    </tr>\n",
       "    <tr>\n",
       "      <th>8</th>\n",
       "      <td>2020-06-22</td>\n",
       "      <td>143.0</td>\n",
       "      <td>555.0</td>\n",
       "      <td>156.0</td>\n",
       "      <td>50_no_70+risk_no_school_nokid_inter</td>\n",
       "    </tr>\n",
       "    <tr>\n",
       "      <th>9</th>\n",
       "      <td>2020-06-29</td>\n",
       "      <td>154.0</td>\n",
       "      <td>669.0</td>\n",
       "      <td>171.0</td>\n",
       "      <td>50_no_70+risk_no_school_nokid_inter</td>\n",
       "    </tr>\n",
       "    <tr>\n",
       "      <th>10</th>\n",
       "      <td>2020-07-06</td>\n",
       "      <td>168.0</td>\n",
       "      <td>795.0</td>\n",
       "      <td>186.0</td>\n",
       "      <td>50_no_70+risk_no_school_nokid_inter</td>\n",
       "    </tr>\n",
       "    <tr>\n",
       "      <th>11</th>\n",
       "      <td>2020-07-13</td>\n",
       "      <td>183.0</td>\n",
       "      <td>933.0</td>\n",
       "      <td>202.0</td>\n",
       "      <td>50_no_70+risk_no_school_nokid_inter</td>\n",
       "    </tr>\n",
       "    <tr>\n",
       "      <th>0</th>\n",
       "      <td>2020-04-27</td>\n",
       "      <td>105.0</td>\n",
       "      <td>121.0</td>\n",
       "      <td>110.0</td>\n",
       "      <td>50_no_70+risk_no_school_kid06_inter</td>\n",
       "    </tr>\n",
       "    <tr>\n",
       "      <th>1</th>\n",
       "      <td>2020-05-04</td>\n",
       "      <td>103.0</td>\n",
       "      <td>139.0</td>\n",
       "      <td>110.0</td>\n",
       "      <td>50_no_70+risk_no_school_kid06_inter</td>\n",
       "    </tr>\n",
       "    <tr>\n",
       "      <th>2</th>\n",
       "      <td>2020-05-11</td>\n",
       "      <td>107.0</td>\n",
       "      <td>170.0</td>\n",
       "      <td>112.0</td>\n",
       "      <td>50_no_70+risk_no_school_kid06_inter</td>\n",
       "    </tr>\n",
       "    <tr>\n",
       "      <th>3</th>\n",
       "      <td>2020-05-18</td>\n",
       "      <td>114.0</td>\n",
       "      <td>217.0</td>\n",
       "      <td>115.0</td>\n",
       "      <td>50_no_70+risk_no_school_kid06_inter</td>\n",
       "    </tr>\n",
       "    <tr>\n",
       "      <th>4</th>\n",
       "      <td>2020-05-25</td>\n",
       "      <td>120.0</td>\n",
       "      <td>280.0</td>\n",
       "      <td>124.0</td>\n",
       "      <td>50_no_70+risk_no_school_kid06_inter</td>\n",
       "    </tr>\n",
       "    <tr>\n",
       "      <th>5</th>\n",
       "      <td>2020-06-01</td>\n",
       "      <td>126.0</td>\n",
       "      <td>364.0</td>\n",
       "      <td>136.0</td>\n",
       "      <td>50_no_70+risk_no_school_kid06_inter</td>\n",
       "    </tr>\n",
       "    <tr>\n",
       "      <th>6</th>\n",
       "      <td>2020-06-08</td>\n",
       "      <td>135.0</td>\n",
       "      <td>470.0</td>\n",
       "      <td>152.0</td>\n",
       "      <td>50_no_70+risk_no_school_kid06_inter</td>\n",
       "    </tr>\n",
       "    <tr>\n",
       "      <th>7</th>\n",
       "      <td>2020-06-15</td>\n",
       "      <td>147.0</td>\n",
       "      <td>602.0</td>\n",
       "      <td>171.0</td>\n",
       "      <td>50_no_70+risk_no_school_kid06_inter</td>\n",
       "    </tr>\n",
       "    <tr>\n",
       "      <th>8</th>\n",
       "      <td>2020-06-22</td>\n",
       "      <td>163.0</td>\n",
       "      <td>762.0</td>\n",
       "      <td>193.0</td>\n",
       "      <td>50_no_70+risk_no_school_kid06_inter</td>\n",
       "    </tr>\n",
       "    <tr>\n",
       "      <th>9</th>\n",
       "      <td>2020-06-29</td>\n",
       "      <td>184.0</td>\n",
       "      <td>951.0</td>\n",
       "      <td>220.0</td>\n",
       "      <td>50_no_70+risk_no_school_kid06_inter</td>\n",
       "    </tr>\n",
       "    <tr>\n",
       "      <th>10</th>\n",
       "      <td>2020-07-06</td>\n",
       "      <td>208.0</td>\n",
       "      <td>1167.0</td>\n",
       "      <td>250.0</td>\n",
       "      <td>50_no_70+risk_no_school_kid06_inter</td>\n",
       "    </tr>\n",
       "    <tr>\n",
       "      <th>11</th>\n",
       "      <td>2020-07-13</td>\n",
       "      <td>235.0</td>\n",
       "      <td>1405.0</td>\n",
       "      <td>282.0</td>\n",
       "      <td>50_no_70+risk_no_school_kid06_inter</td>\n",
       "    </tr>\n",
       "  </tbody>\n",
       "</table>\n",
       "</div>"
      ],
      "text/plain": [
       "   week_start  new_lb   new_ub  new_ml                         scenario_idx\n",
       "0  2020-04-27   109.0    146.0   112.0                 100_no_70+risk_inter\n",
       "1  2020-05-04   118.0    228.0   125.0                 100_no_70+risk_inter\n",
       "2  2020-05-11   131.0    400.0   160.0                 100_no_70+risk_inter\n",
       "3  2020-05-18   158.0    717.0   222.0                 100_no_70+risk_inter\n",
       "4  2020-05-25   209.0   1266.0   329.0                 100_no_70+risk_inter\n",
       "5  2020-06-01   299.0   2138.0   501.0                 100_no_70+risk_inter\n",
       "6  2020-06-08   443.0   3387.0   752.0                 100_no_70+risk_inter\n",
       "7  2020-06-15   646.0   4996.0  1087.0                 100_no_70+risk_inter\n",
       "8  2020-06-22   910.0   6845.0  1498.0                 100_no_70+risk_inter\n",
       "9  2020-06-29  1234.0   8703.0  1967.0                 100_no_70+risk_inter\n",
       "10 2020-07-06  1603.0  10257.0  2466.0                 100_no_70+risk_inter\n",
       "11 2020-07-13  1983.0  11223.0  2963.0                 100_no_70+risk_inter\n",
       "0  2020-04-27   105.0    121.0   110.0  50_no_70+risk_no_school_nokid_inter\n",
       "1  2020-05-04   102.0    136.0   110.0  50_no_70+risk_no_school_nokid_inter\n",
       "2  2020-05-11   105.0    162.0   111.0  50_no_70+risk_no_school_nokid_inter\n",
       "3  2020-05-18   110.0    198.0   113.0  50_no_70+risk_no_school_nokid_inter\n",
       "4  2020-05-25   116.0    245.0   116.0  50_no_70+risk_no_school_nokid_inter\n",
       "5  2020-06-01   121.0    302.0   124.0  50_no_70+risk_no_school_nokid_inter\n",
       "6  2020-06-08   126.0    372.0   133.0  50_no_70+risk_no_school_nokid_inter\n",
       "7  2020-06-15   133.0    457.0   144.0  50_no_70+risk_no_school_nokid_inter\n",
       "8  2020-06-22   143.0    555.0   156.0  50_no_70+risk_no_school_nokid_inter\n",
       "9  2020-06-29   154.0    669.0   171.0  50_no_70+risk_no_school_nokid_inter\n",
       "10 2020-07-06   168.0    795.0   186.0  50_no_70+risk_no_school_nokid_inter\n",
       "11 2020-07-13   183.0    933.0   202.0  50_no_70+risk_no_school_nokid_inter\n",
       "0  2020-04-27   105.0    121.0   110.0  50_no_70+risk_no_school_kid06_inter\n",
       "1  2020-05-04   103.0    139.0   110.0  50_no_70+risk_no_school_kid06_inter\n",
       "2  2020-05-11   107.0    170.0   112.0  50_no_70+risk_no_school_kid06_inter\n",
       "3  2020-05-18   114.0    217.0   115.0  50_no_70+risk_no_school_kid06_inter\n",
       "4  2020-05-25   120.0    280.0   124.0  50_no_70+risk_no_school_kid06_inter\n",
       "5  2020-06-01   126.0    364.0   136.0  50_no_70+risk_no_school_kid06_inter\n",
       "6  2020-06-08   135.0    470.0   152.0  50_no_70+risk_no_school_kid06_inter\n",
       "7  2020-06-15   147.0    602.0   171.0  50_no_70+risk_no_school_kid06_inter\n",
       "8  2020-06-22   163.0    762.0   193.0  50_no_70+risk_no_school_kid06_inter\n",
       "9  2020-06-29   184.0    951.0   220.0  50_no_70+risk_no_school_kid06_inter\n",
       "10 2020-07-06   208.0   1167.0   250.0  50_no_70+risk_no_school_kid06_inter\n",
       "11 2020-07-13   235.0   1405.0   282.0  50_no_70+risk_no_school_kid06_inter"
      ]
     },
     "execution_count": 264,
     "metadata": {},
     "output_type": "execute_result"
    }
   ],
   "source": [
    "inter_df_vents_dis"
   ]
  },
  {
   "cell_type": "code",
   "execution_count": 265,
   "metadata": {
    "ExecuteTime": {
     "end_time": "2020-04-21T15:47:40.703829Z",
     "start_time": "2020-04-21T15:47:40.691826Z"
    }
   },
   "outputs": [],
   "source": [
    "# Save\n",
    "inter_df_vents_dis.to_csv('../Data/dashboard/vents_data_upload_210420.csv')"
   ]
  },
  {
   "cell_type": "markdown",
   "metadata": {},
   "source": [
    "# County id -> name mapper"
   ]
  },
  {
   "cell_type": "code",
   "execution_count": 268,
   "metadata": {
    "ExecuteTime": {
     "end_time": "2020-04-21T15:54:54.491899Z",
     "start_time": "2020-04-21T15:54:54.484327Z"
    }
   },
   "outputs": [],
   "source": [
    "region_name = {'11':'Jerusalem and sub.', '11_betshemesh':'Bet Shemesh', '21':'Zefat', '22':'Kinneret',\n",
    "               '23':'Jezreel Valley', '24':'Akko', '29':'Ramat Hagolan', '31':'Haifa', '32':'Hadera',\n",
    "               '41': 'Sharon', '42':'Petah Tiqwa', '43':'Ramla', '44':'Rehovot', '51_tlv':'Tel Aviv - Yafo',\n",
    "               '51_bb': 'Bnei Brak', '51':'TLV suburbs', '61':'Ashqelon', '62':'Beer Sheva Jewish',\n",
    "               '62_arab':'Beer Sheva Arabs','71': 'Judea and Samaria'}\n"
   ]
  },
  {
   "cell_type": "code",
   "execution_count": 269,
   "metadata": {
    "ExecuteTime": {
     "end_time": "2020-04-21T15:54:55.147631Z",
     "start_time": "2020-04-21T15:54:55.141607Z"
    }
   },
   "outputs": [],
   "source": [
    "region_name_df = pd.DataFrame.from_dict(region_name,orient='index')"
   ]
  },
  {
   "cell_type": "code",
   "execution_count": 271,
   "metadata": {
    "ExecuteTime": {
     "end_time": "2020-04-21T15:55:53.776807Z",
     "start_time": "2020-04-21T15:55:53.763751Z"
    }
   },
   "outputs": [],
   "source": [
    "region_name_df.to_csv('../Data/dashboard/region_name_mapper_county.csv')"
   ]
  },
  {
   "cell_type": "code",
   "execution_count": null,
   "metadata": {},
   "outputs": [],
   "source": []
  }
 ],
 "metadata": {
  "kernelspec": {
   "display_name": "Python 3",
   "language": "python",
   "name": "python3"
  },
  "language_info": {
   "codemirror_mode": {
    "name": "ipython",
    "version": 3
   },
   "file_extension": ".py",
   "mimetype": "text/x-python",
   "name": "python",
   "nbconvert_exporter": "python",
   "pygments_lexer": "ipython3",
   "version": "3.7.7"
  },
  "latex_envs": {
   "LaTeX_envs_menu_present": true,
   "autoclose": false,
   "autocomplete": true,
   "bibliofile": "biblio.bib",
   "cite_by": "apalike",
   "current_citInitial": 1,
   "eqLabelWithNumbers": true,
   "eqNumInitial": 1,
   "hotkeys": {
    "equation": "Ctrl-E",
    "itemize": "Ctrl-I"
   },
   "labels_anchors": false,
   "latex_user_defs": false,
   "report_style_numbering": false,
   "user_envs_cfg": false
  },
  "toc": {
   "base_numbering": 1,
   "nav_menu": {},
   "number_sections": true,
   "sideBar": true,
   "skip_h1_title": false,
   "title_cell": "Table of Contents",
   "title_sidebar": "Contents",
   "toc_cell": false,
   "toc_position": {},
   "toc_section_display": true,
   "toc_window_display": true
  },
  "varInspector": {
   "cols": {
    "lenName": 16,
    "lenType": 16,
    "lenVar": 40
   },
   "kernels_config": {
    "python": {
     "delete_cmd_postfix": "",
     "delete_cmd_prefix": "del ",
     "library": "var_list.py",
     "varRefreshCmd": "print(var_dic_list())"
    },
    "r": {
     "delete_cmd_postfix": ") ",
     "delete_cmd_prefix": "rm(",
     "library": "var_list.r",
     "varRefreshCmd": "cat(var_dic_list()) "
    }
   },
   "types_to_exclude": [
    "module",
    "function",
    "builtin_function_or_method",
    "instance",
    "_Feature"
   ],
   "window_display": false
  }
 },
 "nbformat": 4,
 "nbformat_minor": 4
}

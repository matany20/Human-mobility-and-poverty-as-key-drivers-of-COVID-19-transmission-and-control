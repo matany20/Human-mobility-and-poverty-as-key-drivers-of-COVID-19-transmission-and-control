{
 "cells": [
  {
   "cell_type": "markdown",
   "metadata": {},
   "source": [
    "# Transforming files to parameters.\n",
    "## Should run after \"Contact Patterns\" notebook!!\n",
    "\n",
    "### In order to run this notebook One should make sure the above files exist:\n",
    "* Data/raw\n",
    "    * Data/raw/asymptomatic_proportions.csv\n",
    "    * Data/raw/population_size.csv                    \n",
    "    * Data/raw/init_i_italy.csv                                \n",
    "    * Data/raw/IL_initial_eps.csv                     \n",
    "    * Data/raw/vent_proba.csv \n",
    "    * Data/raw/risk_dist.csv\n",
    "    \n",
    "* Data/base_contact_mtx\n",
    "    * Data/base_contact_mtx/full_home_mtx.csv\n",
    "    * Data/base_contact_mtx/full_leisure_mtx_no_school.csv\n",
    "    * Data/base_contact_mtx/full_leisure_mtx_no_work.csv\n",
    "    * Data/base_contact_mtx/full_leisure_mtx_routine.csv\n",
    "    * Data/base_contact_mtx/full_work_mtx_no_school.csv\n",
    "    * Data/base_contact_mtx/full_work_mtx_no_work.csv\n",
    "    * Data/base_contact_mtx/full_work_mtx_routine.csv\n",
    "    \n",
    "* Data/demograph\n",
    "    * Data/demograph/age_dist_area.csv\n",
    "    * Data/demograph/religion_dis.csv\n",
    "    * Data/demograph/sick_prop.csv\n",
    "\n",
    "### This Notebook generates the above files:\n",
    "* Data/parameters\n",
    "    - Data/parameters/f0_full.pickle\n",
    "    - Data/parameters/eps_dict.pickle\n",
    "    - Data/parameters/eps_by_region.pickle\n",
    "    - Data/parameters/hospitalization.pickle\n",
    "    - Data/parameters/C_calibration.pickle\n",
    "    - Data/parameters/orthodox_dist.pickle\n",
    "    - Data/parameters/init_pop.pickle"
   ]
  },
  {
   "cell_type": "markdown",
   "metadata": {},
   "source": [
    "# Imports"
   ]
  },
  {
   "cell_type": "code",
   "execution_count": 42,
   "metadata": {
    "ExecuteTime": {
     "end_time": "2020-04-18T15:41:09.303665Z",
     "start_time": "2020-04-18T15:41:09.293664Z"
    }
   },
   "outputs": [],
   "source": [
    "import numpy as np\n",
    "import pandas as pd\n",
    "from matplotlib.patches import Patch\n",
    "import itertools\n",
    "import pickle\n",
    "from matplotlib import pyplot as plt\n",
    "import datetime\n",
    "import scipy\n",
    "from scipy import optimize\n",
    "from scipy.sparse import csr_matrix\n",
    "import sys\n",
    "import os\n",
    "sys.path.append('../SEIR_full/')\n",
    "sys.path.append('..')\n",
    "from SEIR_full.indices import *\n",
    "%matplotlib inline"
   ]
  },
  {
   "cell_type": "code",
   "execution_count": 43,
   "metadata": {
    "ExecuteTime": {
     "end_time": "2020-04-18T15:41:10.705745Z",
     "start_time": "2020-04-18T15:41:10.700745Z"
    }
   },
   "outputs": [
    {
     "data": {
      "text/plain": [
       "720"
      ]
     },
     "execution_count": 43,
     "metadata": {},
     "output_type": "execute_result"
    }
   ],
   "source": [
    "len(N)"
   ]
  },
  {
   "cell_type": "markdown",
   "metadata": {},
   "source": [
    "# Asymptomatic"
   ]
  },
  {
   "cell_type": "code",
   "execution_count": 44,
   "metadata": {
    "ExecuteTime": {
     "end_time": "2020-04-18T15:41:11.782807Z",
     "start_time": "2020-04-18T15:41:11.765806Z"
    }
   },
   "outputs": [
    {
     "data": {
      "text/html": [
       "<div>\n",
       "<style scoped>\n",
       "    .dataframe tbody tr th:only-of-type {\n",
       "        vertical-align: middle;\n",
       "    }\n",
       "\n",
       "    .dataframe tbody tr th {\n",
       "        vertical-align: top;\n",
       "    }\n",
       "\n",
       "    .dataframe thead th {\n",
       "        text-align: right;\n",
       "    }\n",
       "</style>\n",
       "<table border=\"1\" class=\"dataframe\">\n",
       "  <thead>\n",
       "    <tr style=\"text-align: right;\">\n",
       "      <th></th>\n",
       "      <th>Scenario 1</th>\n",
       "      <th>Scenario 2</th>\n",
       "      <th>Scenario 3</th>\n",
       "      <th>Unnamed: 4</th>\n",
       "    </tr>\n",
       "    <tr>\n",
       "      <th>Age</th>\n",
       "      <th></th>\n",
       "      <th></th>\n",
       "      <th></th>\n",
       "      <th></th>\n",
       "    </tr>\n",
       "  </thead>\n",
       "  <tbody>\n",
       "    <tr>\n",
       "      <th>0-4</th>\n",
       "      <td>0.957467</td>\n",
       "      <td>0.765973</td>\n",
       "      <td>0.612779</td>\n",
       "      <td>NaN</td>\n",
       "    </tr>\n",
       "    <tr>\n",
       "      <th>5-9</th>\n",
       "      <td>0.957467</td>\n",
       "      <td>0.765973</td>\n",
       "      <td>0.612779</td>\n",
       "      <td>NaN</td>\n",
       "    </tr>\n",
       "    <tr>\n",
       "      <th>10-19</th>\n",
       "      <td>0.972167</td>\n",
       "      <td>0.777734</td>\n",
       "      <td>0.622187</td>\n",
       "      <td>NaN</td>\n",
       "    </tr>\n",
       "    <tr>\n",
       "      <th>20-29</th>\n",
       "      <td>0.921424</td>\n",
       "      <td>0.737139</td>\n",
       "      <td>0.589711</td>\n",
       "      <td>NaN</td>\n",
       "    </tr>\n",
       "    <tr>\n",
       "      <th>30-39</th>\n",
       "      <td>0.899804</td>\n",
       "      <td>0.719843</td>\n",
       "      <td>0.575874</td>\n",
       "      <td>NaN</td>\n",
       "    </tr>\n",
       "  </tbody>\n",
       "</table>\n",
       "</div>"
      ],
      "text/plain": [
       "       Scenario 1  Scenario 2  Scenario 3  Unnamed: 4\n",
       "Age                                                  \n",
       "0-4      0.957467    0.765973    0.612779         NaN\n",
       "5-9      0.957467    0.765973    0.612779         NaN\n",
       "10-19    0.972167    0.777734    0.622187         NaN\n",
       "20-29    0.921424    0.737139    0.589711         NaN\n",
       "30-39    0.899804    0.719843    0.575874         NaN"
      ]
     },
     "execution_count": 44,
     "metadata": {},
     "output_type": "execute_result"
    }
   ],
   "source": [
    "asymp = pd.read_csv('../Data/raw/asymptomatic_proportions.csv', index_col=0)\n",
    "asymp.head()"
   ]
  },
  {
   "cell_type": "code",
   "execution_count": 45,
   "metadata": {
    "ExecuteTime": {
     "end_time": "2020-04-18T15:41:12.008819Z",
     "start_time": "2020-04-18T15:41:12.002819Z"
    }
   },
   "outputs": [],
   "source": [
    "f0_full = {} # dict that contains the possible scenarios\n",
    "\n",
    "# asymptomatic with risk group, high risk with 0\n",
    "f_init = np.zeros(len(list(itertools.product(R.values(), A.values()))))\n",
    "for i in [1,2,3]:\n",
    "    f_tmp = f_init.copy()\n",
    "    f_tmp[9:] = asymp['Scenario '+ str(i)].values[:-1]\n",
    "    f0_full['Scenario'+ str(i)] = expand_partial_array(risk_age_dict, f_tmp)"
   ]
  },
  {
   "cell_type": "code",
   "execution_count": 46,
   "metadata": {
    "ExecuteTime": {
     "end_time": "2020-04-18T15:41:12.254834Z",
     "start_time": "2020-04-18T15:41:12.236832Z"
    }
   },
   "outputs": [],
   "source": [
    "# Save\n",
    "try:\n",
    "    os.mkdir('../Data/parameters')\n",
    "except:\n",
    "    pass\n",
    "with open('../Data/parameters/f0_full.pickle', 'wb') as handle:\n",
    "    pickle.dump(f0_full, handle, protocol=pickle.HIGHEST_PROTOCOL)"
   ]
  },
  {
   "cell_type": "markdown",
   "metadata": {},
   "source": [
    "# Initial illness"
   ]
  },
  {
   "cell_type": "code",
   "execution_count": 47,
   "metadata": {
    "ExecuteTime": {
     "end_time": "2020-04-18T15:41:12.859868Z",
     "start_time": "2020-04-18T15:41:12.851868Z"
    },
    "run_control": {
     "marked": true
    }
   },
   "outputs": [],
   "source": [
    "# Age dist. positive specimens\n",
    "age_dist = {'0-4':0.02, '5-9':0.02, '10-19':0.11, '20-29':0.23, '30-39':0.15, '40-49':0.14, '50-59':0.14, '60-69':0.11,\n",
    "           '70+':0.08}"
   ]
  },
  {
   "cell_type": "code",
   "execution_count": 48,
   "metadata": {
    "ExecuteTime": {
     "end_time": "2020-04-18T15:41:13.191887Z",
     "start_time": "2020-04-18T15:41:13.182887Z"
    }
   },
   "outputs": [],
   "source": [
    "age_dist_area = pd.read_csv('../Data/demograph/age_dist_area.csv')"
   ]
  },
  {
   "cell_type": "code",
   "execution_count": 49,
   "metadata": {
    "ExecuteTime": {
     "end_time": "2020-04-18T15:41:13.455902Z",
     "start_time": "2020-04-18T15:41:13.451902Z"
    }
   },
   "outputs": [],
   "source": [
    "age_dist_area.drop(['Unnamed: 0'],axis=1, inplace=True)"
   ]
  },
  {
   "cell_type": "code",
   "execution_count": 50,
   "metadata": {
    "ExecuteTime": {
     "end_time": "2020-04-18T15:41:13.726918Z",
     "start_time": "2020-04-18T15:41:13.721917Z"
    }
   },
   "outputs": [],
   "source": [
    "age_dist_area.set_index('cell_id', inplace=True)"
   ]
  },
  {
   "cell_type": "code",
   "execution_count": 51,
   "metadata": {
    "ExecuteTime": {
     "end_time": "2020-04-18T15:41:14.030935Z",
     "start_time": "2020-04-18T15:41:14.005934Z"
    }
   },
   "outputs": [
    {
     "data": {
      "text/html": [
       "<div>\n",
       "<style scoped>\n",
       "    .dataframe tbody tr th:only-of-type {\n",
       "        vertical-align: middle;\n",
       "    }\n",
       "\n",
       "    .dataframe tbody tr th {\n",
       "        vertical-align: top;\n",
       "    }\n",
       "\n",
       "    .dataframe thead th {\n",
       "        text-align: right;\n",
       "    }\n",
       "</style>\n",
       "<table border=\"1\" class=\"dataframe\">\n",
       "  <thead>\n",
       "    <tr style=\"text-align: right;\">\n",
       "      <th></th>\n",
       "      <th>0-4</th>\n",
       "      <th>5-9</th>\n",
       "      <th>10-19</th>\n",
       "      <th>20-29</th>\n",
       "      <th>30-39</th>\n",
       "      <th>40-49</th>\n",
       "      <th>50-59</th>\n",
       "      <th>60-69</th>\n",
       "      <th>70+</th>\n",
       "    </tr>\n",
       "    <tr>\n",
       "      <th>cell_id</th>\n",
       "      <th></th>\n",
       "      <th></th>\n",
       "      <th></th>\n",
       "      <th></th>\n",
       "      <th></th>\n",
       "      <th></th>\n",
       "      <th></th>\n",
       "      <th></th>\n",
       "      <th></th>\n",
       "    </tr>\n",
       "  </thead>\n",
       "  <tbody>\n",
       "    <tr>\n",
       "      <th>11</th>\n",
       "      <td>0.014308</td>\n",
       "      <td>0.012920</td>\n",
       "      <td>0.022441</td>\n",
       "      <td>0.018661</td>\n",
       "      <td>0.013881</td>\n",
       "      <td>0.010796</td>\n",
       "      <td>0.008755</td>\n",
       "      <td>0.007243</td>\n",
       "      <td>0.007149</td>\n",
       "    </tr>\n",
       "    <tr>\n",
       "      <th>11_betshemesh</th>\n",
       "      <td>0.002288</td>\n",
       "      <td>0.002029</td>\n",
       "      <td>0.002915</td>\n",
       "      <td>0.001865</td>\n",
       "      <td>0.001517</td>\n",
       "      <td>0.001078</td>\n",
       "      <td>0.000667</td>\n",
       "      <td>0.000415</td>\n",
       "      <td>0.000322</td>\n",
       "    </tr>\n",
       "    <tr>\n",
       "      <th>21</th>\n",
       "      <td>0.001522</td>\n",
       "      <td>0.001433</td>\n",
       "      <td>0.002633</td>\n",
       "      <td>0.002342</td>\n",
       "      <td>0.001849</td>\n",
       "      <td>0.001726</td>\n",
       "      <td>0.001468</td>\n",
       "      <td>0.001217</td>\n",
       "      <td>0.000975</td>\n",
       "    </tr>\n",
       "    <tr>\n",
       "      <th>22</th>\n",
       "      <td>0.001473</td>\n",
       "      <td>0.001373</td>\n",
       "      <td>0.002504</td>\n",
       "      <td>0.002217</td>\n",
       "      <td>0.001743</td>\n",
       "      <td>0.001615</td>\n",
       "      <td>0.001398</td>\n",
       "      <td>0.001147</td>\n",
       "      <td>0.000927</td>\n",
       "    </tr>\n",
       "    <tr>\n",
       "      <th>23</th>\n",
       "      <td>0.005437</td>\n",
       "      <td>0.005364</td>\n",
       "      <td>0.010731</td>\n",
       "      <td>0.009133</td>\n",
       "      <td>0.007059</td>\n",
       "      <td>0.007134</td>\n",
       "      <td>0.005740</td>\n",
       "      <td>0.004239</td>\n",
       "      <td>0.003480</td>\n",
       "    </tr>\n",
       "    <tr>\n",
       "      <th>24</th>\n",
       "      <td>0.006357</td>\n",
       "      <td>0.006477</td>\n",
       "      <td>0.013212</td>\n",
       "      <td>0.011283</td>\n",
       "      <td>0.009157</td>\n",
       "      <td>0.009012</td>\n",
       "      <td>0.007119</td>\n",
       "      <td>0.005036</td>\n",
       "      <td>0.004055</td>\n",
       "    </tr>\n",
       "    <tr>\n",
       "      <th>29</th>\n",
       "      <td>0.000388</td>\n",
       "      <td>0.000401</td>\n",
       "      <td>0.000768</td>\n",
       "      <td>0.000656</td>\n",
       "      <td>0.000536</td>\n",
       "      <td>0.000541</td>\n",
       "      <td>0.000426</td>\n",
       "      <td>0.000347</td>\n",
       "      <td>0.000268</td>\n",
       "    </tr>\n",
       "    <tr>\n",
       "      <th>31</th>\n",
       "      <td>0.005286</td>\n",
       "      <td>0.004879</td>\n",
       "      <td>0.008517</td>\n",
       "      <td>0.008946</td>\n",
       "      <td>0.008915</td>\n",
       "      <td>0.007956</td>\n",
       "      <td>0.006960</td>\n",
       "      <td>0.007405</td>\n",
       "      <td>0.007854</td>\n",
       "    </tr>\n",
       "    <tr>\n",
       "      <th>32</th>\n",
       "      <td>0.004867</td>\n",
       "      <td>0.004823</td>\n",
       "      <td>0.008960</td>\n",
       "      <td>0.007326</td>\n",
       "      <td>0.006645</td>\n",
       "      <td>0.006415</td>\n",
       "      <td>0.005091</td>\n",
       "      <td>0.003883</td>\n",
       "      <td>0.003394</td>\n",
       "    </tr>\n",
       "    <tr>\n",
       "      <th>41</th>\n",
       "      <td>0.004676</td>\n",
       "      <td>0.004715</td>\n",
       "      <td>0.008296</td>\n",
       "      <td>0.006509</td>\n",
       "      <td>0.006404</td>\n",
       "      <td>0.006758</td>\n",
       "      <td>0.005116</td>\n",
       "      <td>0.004529</td>\n",
       "      <td>0.004386</td>\n",
       "    </tr>\n",
       "    <tr>\n",
       "      <th>42</th>\n",
       "      <td>0.007532</td>\n",
       "      <td>0.007279</td>\n",
       "      <td>0.012422</td>\n",
       "      <td>0.009659</td>\n",
       "      <td>0.010219</td>\n",
       "      <td>0.010592</td>\n",
       "      <td>0.007879</td>\n",
       "      <td>0.007490</td>\n",
       "      <td>0.006854</td>\n",
       "    </tr>\n",
       "    <tr>\n",
       "      <th>43</th>\n",
       "      <td>0.004366</td>\n",
       "      <td>0.004341</td>\n",
       "      <td>0.007168</td>\n",
       "      <td>0.005082</td>\n",
       "      <td>0.005405</td>\n",
       "      <td>0.005471</td>\n",
       "      <td>0.003681</td>\n",
       "      <td>0.003113</td>\n",
       "      <td>0.002591</td>\n",
       "    </tr>\n",
       "    <tr>\n",
       "      <th>44</th>\n",
       "      <td>0.005858</td>\n",
       "      <td>0.005597</td>\n",
       "      <td>0.009723</td>\n",
       "      <td>0.008523</td>\n",
       "      <td>0.008735</td>\n",
       "      <td>0.008998</td>\n",
       "      <td>0.006785</td>\n",
       "      <td>0.006821</td>\n",
       "      <td>0.005915</td>\n",
       "    </tr>\n",
       "    <tr>\n",
       "      <th>51</th>\n",
       "      <td>0.007674</td>\n",
       "      <td>0.007234</td>\n",
       "      <td>0.011867</td>\n",
       "      <td>0.011032</td>\n",
       "      <td>0.014100</td>\n",
       "      <td>0.012894</td>\n",
       "      <td>0.009540</td>\n",
       "      <td>0.010042</td>\n",
       "      <td>0.011310</td>\n",
       "    </tr>\n",
       "    <tr>\n",
       "      <th>51_bb</th>\n",
       "      <td>0.003817</td>\n",
       "      <td>0.003036</td>\n",
       "      <td>0.004803</td>\n",
       "      <td>0.003756</td>\n",
       "      <td>0.002600</td>\n",
       "      <td>0.001549</td>\n",
       "      <td>0.001248</td>\n",
       "      <td>0.001216</td>\n",
       "      <td>0.001099</td>\n",
       "    </tr>\n",
       "    <tr>\n",
       "      <th>51_tlv</th>\n",
       "      <td>0.003880</td>\n",
       "      <td>0.003015</td>\n",
       "      <td>0.004628</td>\n",
       "      <td>0.007093</td>\n",
       "      <td>0.010492</td>\n",
       "      <td>0.006592</td>\n",
       "      <td>0.004587</td>\n",
       "      <td>0.004595</td>\n",
       "      <td>0.005315</td>\n",
       "    </tr>\n",
       "    <tr>\n",
       "      <th>61</th>\n",
       "      <td>0.007492</td>\n",
       "      <td>0.006740</td>\n",
       "      <td>0.011574</td>\n",
       "      <td>0.010313</td>\n",
       "      <td>0.009137</td>\n",
       "      <td>0.008067</td>\n",
       "      <td>0.007116</td>\n",
       "      <td>0.006340</td>\n",
       "      <td>0.006029</td>\n",
       "    </tr>\n",
       "    <tr>\n",
       "      <th>62</th>\n",
       "      <td>0.004547</td>\n",
       "      <td>0.004087</td>\n",
       "      <td>0.006873</td>\n",
       "      <td>0.006707</td>\n",
       "      <td>0.006088</td>\n",
       "      <td>0.005259</td>\n",
       "      <td>0.004745</td>\n",
       "      <td>0.004141</td>\n",
       "      <td>0.003753</td>\n",
       "    </tr>\n",
       "    <tr>\n",
       "      <th>62_arab</th>\n",
       "      <td>0.002627</td>\n",
       "      <td>0.002299</td>\n",
       "      <td>0.003970</td>\n",
       "      <td>0.002598</td>\n",
       "      <td>0.001589</td>\n",
       "      <td>0.001174</td>\n",
       "      <td>0.000594</td>\n",
       "      <td>0.000295</td>\n",
       "      <td>0.000191</td>\n",
       "    </tr>\n",
       "    <tr>\n",
       "      <th>71</th>\n",
       "      <td>0.007221</td>\n",
       "      <td>0.006789</td>\n",
       "      <td>0.009361</td>\n",
       "      <td>0.006457</td>\n",
       "      <td>0.005760</td>\n",
       "      <td>0.004169</td>\n",
       "      <td>0.002805</td>\n",
       "      <td>0.002029</td>\n",
       "      <td>0.001272</td>\n",
       "    </tr>\n",
       "  </tbody>\n",
       "</table>\n",
       "</div>"
      ],
      "text/plain": [
       "                    0-4       5-9     10-19     20-29     30-39     40-49  \\\n",
       "cell_id                                                                     \n",
       "11             0.014308  0.012920  0.022441  0.018661  0.013881  0.010796   \n",
       "11_betshemesh  0.002288  0.002029  0.002915  0.001865  0.001517  0.001078   \n",
       "21             0.001522  0.001433  0.002633  0.002342  0.001849  0.001726   \n",
       "22             0.001473  0.001373  0.002504  0.002217  0.001743  0.001615   \n",
       "23             0.005437  0.005364  0.010731  0.009133  0.007059  0.007134   \n",
       "24             0.006357  0.006477  0.013212  0.011283  0.009157  0.009012   \n",
       "29             0.000388  0.000401  0.000768  0.000656  0.000536  0.000541   \n",
       "31             0.005286  0.004879  0.008517  0.008946  0.008915  0.007956   \n",
       "32             0.004867  0.004823  0.008960  0.007326  0.006645  0.006415   \n",
       "41             0.004676  0.004715  0.008296  0.006509  0.006404  0.006758   \n",
       "42             0.007532  0.007279  0.012422  0.009659  0.010219  0.010592   \n",
       "43             0.004366  0.004341  0.007168  0.005082  0.005405  0.005471   \n",
       "44             0.005858  0.005597  0.009723  0.008523  0.008735  0.008998   \n",
       "51             0.007674  0.007234  0.011867  0.011032  0.014100  0.012894   \n",
       "51_bb          0.003817  0.003036  0.004803  0.003756  0.002600  0.001549   \n",
       "51_tlv         0.003880  0.003015  0.004628  0.007093  0.010492  0.006592   \n",
       "61             0.007492  0.006740  0.011574  0.010313  0.009137  0.008067   \n",
       "62             0.004547  0.004087  0.006873  0.006707  0.006088  0.005259   \n",
       "62_arab        0.002627  0.002299  0.003970  0.002598  0.001589  0.001174   \n",
       "71             0.007221  0.006789  0.009361  0.006457  0.005760  0.004169   \n",
       "\n",
       "                  50-59     60-69       70+  \n",
       "cell_id                                      \n",
       "11             0.008755  0.007243  0.007149  \n",
       "11_betshemesh  0.000667  0.000415  0.000322  \n",
       "21             0.001468  0.001217  0.000975  \n",
       "22             0.001398  0.001147  0.000927  \n",
       "23             0.005740  0.004239  0.003480  \n",
       "24             0.007119  0.005036  0.004055  \n",
       "29             0.000426  0.000347  0.000268  \n",
       "31             0.006960  0.007405  0.007854  \n",
       "32             0.005091  0.003883  0.003394  \n",
       "41             0.005116  0.004529  0.004386  \n",
       "42             0.007879  0.007490  0.006854  \n",
       "43             0.003681  0.003113  0.002591  \n",
       "44             0.006785  0.006821  0.005915  \n",
       "51             0.009540  0.010042  0.011310  \n",
       "51_bb          0.001248  0.001216  0.001099  \n",
       "51_tlv         0.004587  0.004595  0.005315  \n",
       "61             0.007116  0.006340  0.006029  \n",
       "62             0.004745  0.004141  0.003753  \n",
       "62_arab        0.000594  0.000295  0.000191  \n",
       "71             0.002805  0.002029  0.001272  "
      ]
     },
     "execution_count": 51,
     "metadata": {},
     "output_type": "execute_result"
    }
   ],
   "source": [
    "age_dist_area"
   ]
  },
  {
   "cell_type": "code",
   "execution_count": 52,
   "metadata": {
    "ExecuteTime": {
     "end_time": "2020-04-18T15:41:14.290950Z",
     "start_time": "2020-04-18T15:41:14.285950Z"
    }
   },
   "outputs": [],
   "source": [
    "age_dist_area = age_dist_area.stack()"
   ]
  },
  {
   "cell_type": "code",
   "execution_count": 53,
   "metadata": {
    "ExecuteTime": {
     "end_time": "2020-04-18T15:41:14.683972Z",
     "start_time": "2020-04-18T15:41:14.674972Z"
    }
   },
   "outputs": [
    {
     "data": {
      "text/plain": [
       "cell_id       \n",
       "11       0-4      0.014308\n",
       "         5-9      0.012920\n",
       "         10-19    0.022441\n",
       "         20-29    0.018661\n",
       "         30-39    0.013881\n",
       "                    ...   \n",
       "71       30-39    0.005760\n",
       "         40-49    0.004169\n",
       "         50-59    0.002805\n",
       "         60-69    0.002029\n",
       "         70+      0.001272\n",
       "Length: 180, dtype: float64"
      ]
     },
     "execution_count": 53,
     "metadata": {},
     "output_type": "execute_result"
    }
   ],
   "source": [
    "age_dist_area"
   ]
  },
  {
   "cell_type": "code",
   "execution_count": 54,
   "metadata": {
    "ExecuteTime": {
     "end_time": "2020-04-18T15:41:15.039993Z",
     "start_time": "2020-04-18T15:41:15.034993Z"
    }
   },
   "outputs": [
    {
     "data": {
      "text/plain": [
       "(720,)"
      ]
     },
     "execution_count": 54,
     "metadata": {},
     "output_type": "execute_result"
    }
   ],
   "source": [
    "init_pop = expand_partial_array(region_age_dict, age_dist_area.values)\n",
    "init_pop.shape"
   ]
  },
  {
   "cell_type": "code",
   "execution_count": 55,
   "metadata": {
    "ExecuteTime": {
     "end_time": "2020-04-18T15:41:15.374012Z",
     "start_time": "2020-04-18T15:41:15.355011Z"
    }
   },
   "outputs": [
    {
     "data": {
      "text/plain": [
       "array([0.        , 0.        , 0.        , 0.        , 0.        ,\n",
       "       0.        , 0.        , 0.        , 0.        , 0.        ,\n",
       "       0.        , 0.        , 0.        , 0.        , 0.        ,\n",
       "       0.        , 0.        , 0.        , 0.        , 0.        ,\n",
       "       0.        , 0.        , 0.        , 0.        , 0.        ,\n",
       "       0.        , 0.        , 0.        , 0.        , 0.        ,\n",
       "       0.        , 0.        , 0.        , 0.        , 0.        ,\n",
       "       0.        , 0.        , 0.        , 0.        , 0.        ,\n",
       "       0.        , 0.        , 0.        , 0.        , 0.        ,\n",
       "       0.        , 0.        , 0.        , 0.        , 0.        ,\n",
       "       0.        , 0.        , 0.        , 0.        , 0.        ,\n",
       "       0.        , 0.        , 0.        , 0.        , 0.        ,\n",
       "       0.        , 0.        , 0.        , 0.        , 0.        ,\n",
       "       0.        , 0.        , 0.        , 0.        , 0.        ,\n",
       "       0.        , 0.        , 0.        , 0.        , 0.        ,\n",
       "       0.        , 0.        , 0.        , 0.        , 0.        ,\n",
       "       0.        , 0.        , 0.        , 0.        , 0.        ,\n",
       "       0.        , 0.        , 0.        , 0.        , 0.        ,\n",
       "       0.        , 0.        , 0.        , 0.        , 0.        ,\n",
       "       0.        , 0.        , 0.        , 0.        , 0.        ,\n",
       "       0.        , 0.        , 0.        , 0.        , 0.        ,\n",
       "       0.        , 0.        , 0.        , 0.        , 0.        ,\n",
       "       0.        , 0.        , 0.        , 0.        , 0.        ,\n",
       "       0.        , 0.        , 0.        , 0.        , 0.        ,\n",
       "       0.        , 0.        , 0.        , 0.        , 0.        ,\n",
       "       0.        , 0.        , 0.        , 0.        , 0.        ,\n",
       "       0.        , 0.        , 0.        , 0.        , 0.        ,\n",
       "       0.        , 0.        , 0.        , 0.        , 0.        ,\n",
       "       0.        , 0.        , 0.        , 0.        , 0.        ,\n",
       "       0.        , 0.        , 0.        , 0.        , 0.        ,\n",
       "       0.        , 0.        , 0.        , 0.        , 0.        ,\n",
       "       0.        , 0.        , 0.        , 0.        , 0.        ,\n",
       "       0.        , 0.        , 0.        , 0.        , 0.        ,\n",
       "       0.        , 0.        , 0.        , 0.        , 0.        ,\n",
       "       0.        , 0.        , 0.        , 0.        , 0.        ,\n",
       "       0.        , 0.        , 0.        , 0.        , 0.        ,\n",
       "       0.        , 0.        , 0.        , 0.        , 0.        ,\n",
       "       0.        , 0.        , 0.        , 0.        , 0.        ,\n",
       "       0.        , 0.        , 0.        , 0.        , 0.        ,\n",
       "       0.        , 0.        , 0.        , 0.        , 0.        ,\n",
       "       0.        , 0.        , 0.        , 0.        , 0.        ,\n",
       "       0.        , 0.        , 0.        , 0.        , 0.        ,\n",
       "       0.        , 0.        , 0.        , 0.        , 0.        ,\n",
       "       0.        , 0.        , 0.        , 0.        , 0.        ,\n",
       "       0.        , 0.        , 0.        , 0.        , 0.        ,\n",
       "       0.        , 0.        , 0.        , 0.        , 0.        ,\n",
       "       0.        , 0.        , 0.        , 0.        , 0.        ,\n",
       "       0.        , 0.        , 0.        , 0.        , 0.        ,\n",
       "       0.        , 0.        , 0.        , 0.        , 0.        ,\n",
       "       0.        , 0.        , 0.        , 0.        , 0.        ,\n",
       "       0.        , 0.        , 0.        , 0.        , 0.        ,\n",
       "       0.        , 0.        , 0.        , 0.        , 0.        ,\n",
       "       0.        , 0.        , 0.        , 0.        , 0.        ,\n",
       "       0.        , 0.        , 0.        , 0.        , 0.        ,\n",
       "       0.        , 0.        , 0.        , 0.        , 0.        ,\n",
       "       0.        , 0.        , 0.        , 0.        , 0.        ,\n",
       "       0.        , 0.        , 0.        , 0.        , 0.        ,\n",
       "       0.        , 0.        , 0.        , 0.        , 0.        ,\n",
       "       0.        , 0.        , 0.        , 0.        , 0.        ,\n",
       "       0.        , 0.        , 0.        , 0.        , 0.        ,\n",
       "       0.        , 0.        , 0.        , 0.        , 0.        ,\n",
       "       0.        , 0.        , 0.        , 0.        , 0.        ,\n",
       "       0.        , 0.        , 0.        , 0.        , 0.        ,\n",
       "       0.        , 0.        , 0.        , 0.        , 0.        ,\n",
       "       0.        , 0.        , 0.        , 0.        , 0.        ,\n",
       "       0.        , 0.        , 0.        , 0.        , 0.        ,\n",
       "       0.        , 0.        , 0.        , 0.        , 0.        ,\n",
       "       0.        , 0.        , 0.        , 0.        , 0.        ,\n",
       "       0.        , 0.        , 0.        , 0.        , 0.        ,\n",
       "       0.        , 0.        , 0.        , 0.        , 0.        ,\n",
       "       0.        , 0.        , 0.        , 0.        , 0.        ,\n",
       "       0.        , 0.        , 0.        , 0.        , 0.        ,\n",
       "       0.01430785, 0.01292003, 0.02244055, 0.01866136, 0.01388137,\n",
       "       0.01079615, 0.00875544, 0.00724259, 0.00714911, 0.01430785,\n",
       "       0.01292003, 0.02244055, 0.01866136, 0.01388137, 0.01079615,\n",
       "       0.00875544, 0.00724259, 0.00714911, 0.00228779, 0.00202948,\n",
       "       0.00291534, 0.00186522, 0.00151709, 0.00107834, 0.00066678,\n",
       "       0.00041512, 0.00032198, 0.00228779, 0.00202948, 0.00291534,\n",
       "       0.00186522, 0.00151709, 0.00107834, 0.00066678, 0.00041512,\n",
       "       0.00032198, 0.00152179, 0.00143267, 0.0026326 , 0.0023417 ,\n",
       "       0.00184939, 0.00172643, 0.00146765, 0.00121702, 0.00097534,\n",
       "       0.00152179, 0.00143267, 0.0026326 , 0.0023417 , 0.00184939,\n",
       "       0.00172643, 0.00146765, 0.00121702, 0.00097534, 0.0014727 ,\n",
       "       0.00137325, 0.00250424, 0.00221667, 0.00174271, 0.00161493,\n",
       "       0.00139757, 0.00114728, 0.00092728, 0.0014727 , 0.00137325,\n",
       "       0.00250424, 0.00221667, 0.00174271, 0.00161493, 0.00139757,\n",
       "       0.00114728, 0.00092728, 0.00543713, 0.0053643 , 0.01073111,\n",
       "       0.00913282, 0.00705883, 0.00713442, 0.00574041, 0.00423938,\n",
       "       0.00347969, 0.00543713, 0.0053643 , 0.01073111, 0.00913282,\n",
       "       0.00705883, 0.00713442, 0.00574041, 0.00423938, 0.00347969,\n",
       "       0.00635672, 0.00647716, 0.0132123 , 0.01128262, 0.0091569 ,\n",
       "       0.00901169, 0.00711859, 0.00503601, 0.00405494, 0.00635672,\n",
       "       0.00647716, 0.0132123 , 0.01128262, 0.0091569 , 0.00901169,\n",
       "       0.00711859, 0.00503601, 0.00405494, 0.00038816, 0.00040066,\n",
       "       0.00076841, 0.00065611, 0.00053625, 0.00054095, 0.00042601,\n",
       "       0.00034687, 0.00026841, 0.00038816, 0.00040066, 0.00076841,\n",
       "       0.00065611, 0.00053625, 0.00054095, 0.00042601, 0.00034687,\n",
       "       0.00026841, 0.00528607, 0.00487863, 0.00851731, 0.00894585,\n",
       "       0.00891488, 0.0079556 , 0.00695973, 0.0074049 , 0.0078542 ,\n",
       "       0.00528607, 0.00487863, 0.00851731, 0.00894585, 0.00891488,\n",
       "       0.0079556 , 0.00695973, 0.0074049 , 0.0078542 , 0.00486671,\n",
       "       0.00482277, 0.00895973, 0.00732587, 0.00664509, 0.00641522,\n",
       "       0.00509084, 0.00388334, 0.00339401, 0.00486671, 0.00482277,\n",
       "       0.00895973, 0.00732587, 0.00664509, 0.00641522, 0.00509084,\n",
       "       0.00388334, 0.00339401, 0.00467572, 0.00471507, 0.00829616,\n",
       "       0.0065094 , 0.00640421, 0.00675796, 0.0051155 , 0.00452924,\n",
       "       0.00438621, 0.00467572, 0.00471507, 0.00829616, 0.0065094 ,\n",
       "       0.00640421, 0.00675796, 0.0051155 , 0.00452924, 0.00438621,\n",
       "       0.00753234, 0.00727918, 0.0124221 , 0.00965874, 0.0102193 ,\n",
       "       0.01059244, 0.00787897, 0.00748978, 0.00685386, 0.00753234,\n",
       "       0.00727918, 0.0124221 , 0.00965874, 0.0102193 , 0.01059244,\n",
       "       0.00787897, 0.00748978, 0.00685386, 0.0043659 , 0.00434124,\n",
       "       0.00716838, 0.00508178, 0.00540525, 0.00547132, 0.00368054,\n",
       "       0.00311264, 0.00259096, 0.0043659 , 0.00434124, 0.00716838,\n",
       "       0.00508178, 0.00540525, 0.00547132, 0.00368054, 0.00311264,\n",
       "       0.00259096, 0.00585787, 0.00559703, 0.00972263, 0.00852258,\n",
       "       0.00873502, 0.00899804, 0.0067848 , 0.00682059, 0.00591534,\n",
       "       0.00585787, 0.00559703, 0.00972263, 0.00852258, 0.00873502,\n",
       "       0.00899804, 0.0067848 , 0.00682059, 0.00591534, 0.00767411,\n",
       "       0.00723399, 0.01186681, 0.01103187, 0.01409966, 0.01289365,\n",
       "       0.00953979, 0.01004151, 0.01131049, 0.00767411, 0.00723399,\n",
       "       0.01186681, 0.01103187, 0.01409966, 0.01289365, 0.00953979,\n",
       "       0.01004151, 0.01131049, 0.00381738, 0.00303555, 0.00480281,\n",
       "       0.00375648, 0.00259956, 0.00154852, 0.00124845, 0.00121564,\n",
       "       0.00109945, 0.00381738, 0.00303555, 0.00480281, 0.00375648,\n",
       "       0.00259956, 0.00154852, 0.00124845, 0.00121564, 0.00109945,\n",
       "       0.00388047, 0.00301502, 0.004628  , 0.00709302, 0.01049161,\n",
       "       0.00659152, 0.00458671, 0.00459508, 0.00531543, 0.00388047,\n",
       "       0.00301502, 0.004628  , 0.00709302, 0.01049161, 0.00659152,\n",
       "       0.00458671, 0.00459508, 0.00531543, 0.0074923 , 0.0067403 ,\n",
       "       0.01157397, 0.01031347, 0.00913717, 0.00806663, 0.00711584,\n",
       "       0.00633963, 0.00602855, 0.0074923 , 0.0067403 , 0.01157397,\n",
       "       0.01031347, 0.00913717, 0.00806663, 0.00711584, 0.00633963,\n",
       "       0.00602855, 0.00454714, 0.00408671, 0.00687267, 0.00670749,\n",
       "       0.00608843, 0.00525923, 0.00474466, 0.00414062, 0.00375315,\n",
       "       0.00454714, 0.00408671, 0.00687267, 0.00670749, 0.00608843,\n",
       "       0.00525923, 0.00474466, 0.00414062, 0.00375315, 0.00262732,\n",
       "       0.00229938, 0.00397017, 0.00259761, 0.00158878, 0.00117424,\n",
       "       0.00059406, 0.00029468, 0.00019133, 0.00262732, 0.00229938,\n",
       "       0.00397017, 0.00259761, 0.00158878, 0.00117424, 0.00059406,\n",
       "       0.00029468, 0.00019133, 0.0072208 , 0.00678928, 0.0093605 ,\n",
       "       0.00645732, 0.00576037, 0.0041693 , 0.00280477, 0.00202913,\n",
       "       0.00127196, 0.0072208 , 0.00678928, 0.0093605 , 0.00645732,\n",
       "       0.00576037, 0.0041693 , 0.00280477, 0.00202913, 0.00127196])"
      ]
     },
     "execution_count": 55,
     "metadata": {},
     "output_type": "execute_result"
    }
   ],
   "source": [
    "init_pop[inter_dict['Intervention']]=0\n",
    "init_pop"
   ]
  },
  {
   "cell_type": "code",
   "execution_count": 56,
   "metadata": {
    "ExecuteTime": {
     "end_time": "2020-04-18T15:41:15.806037Z",
     "start_time": "2020-04-18T15:41:15.787036Z"
    }
   },
   "outputs": [
    {
     "data": {
      "text/plain": [
       "      Age  \n",
       "High  0-4      0.050\n",
       "      5-9      0.106\n",
       "      10-19    0.106\n",
       "      20-29    0.149\n",
       "      30-39    0.149\n",
       "      40-49    0.149\n",
       "      50-59    0.330\n",
       "      60-69    0.421\n",
       "      70+      0.512\n",
       "Low   0-4      0.950\n",
       "      5-9      0.894\n",
       "      10-19    0.894\n",
       "      20-29    0.851\n",
       "      30-39    0.851\n",
       "      40-49    0.851\n",
       "      50-59    0.670\n",
       "      60-69    0.579\n",
       "      70+      0.488\n",
       "dtype: float64"
      ]
     },
     "execution_count": 56,
     "metadata": {},
     "output_type": "execute_result"
    }
   ],
   "source": [
    "risk_pop = pd.read_csv('../Data/raw/risk_dist.csv')\n",
    "risk_pop.set_index('Age', inplace=True)\n",
    "risk_pop['High'] = risk_pop['risk']\n",
    "risk_pop['Low'] = 1 - risk_pop['risk']\n",
    "risk_pop.drop(['risk'], axis=1, inplace=True)\n",
    "risk_pop = risk_pop.stack()\n",
    "risk_pop.index = risk_pop.index.swaplevel(0, 1)\n",
    "risk_pop = risk_pop.unstack().stack()\n",
    "risk_pop"
   ]
  },
  {
   "cell_type": "code",
   "execution_count": 57,
   "metadata": {
    "ExecuteTime": {
     "end_time": "2020-04-18T15:41:16.132055Z",
     "start_time": "2020-04-18T15:41:16.126055Z"
    }
   },
   "outputs": [],
   "source": [
    "for (r, a), g_idx in zip(risk_age_dict.keys(), risk_age_dict.values()):\n",
    "    init_pop[g_idx] = init_pop[g_idx] * risk_pop[r,a]\n",
    "    \n",
    "# Age distribution:\n",
    "pop_dist = init_pop"
   ]
  },
  {
   "cell_type": "code",
   "execution_count": 58,
   "metadata": {
    "ExecuteTime": {
     "end_time": "2020-04-18T15:41:16.629084Z",
     "start_time": "2020-04-18T15:41:16.619083Z"
    }
   },
   "outputs": [],
   "source": [
    "# Save\n",
    "with open('../Data/parameters/init_pop.pickle', 'wb') as handle:\n",
    "    pickle.dump(pop_dist, handle, protocol=pickle.HIGHEST_PROTOCOL)"
   ]
  },
  {
   "cell_type": "code",
   "execution_count": 59,
   "metadata": {
    "ExecuteTime": {
     "end_time": "2020-04-18T15:41:16.974103Z",
     "start_time": "2020-04-18T15:41:16.969103Z"
    }
   },
   "outputs": [
    {
     "data": {
      "text/plain": [
       "18"
      ]
     },
     "execution_count": 59,
     "metadata": {},
     "output_type": "execute_result"
    }
   ],
   "source": [
    "len(R)*len(A)"
   ]
  },
  {
   "cell_type": "code",
   "execution_count": 60,
   "metadata": {
    "ExecuteTime": {
     "end_time": "2020-04-18T15:41:17.381127Z",
     "start_time": "2020-04-18T15:41:17.356125Z"
    }
   },
   "outputs": [],
   "source": [
    "# risk distribution by age:\n",
    "risk_dist = pd.read_csv('../Data/raw/population_size.csv')\n",
    "\n",
    "init_I_dis_italy = pd.read_csv('../Data/raw/init_i_italy.csv')['proportion'].values[:-1]\n",
    "\n",
    "f_init = pd.read_pickle('../Data/parameters/f0_full.pickle')\n",
    "\n",
    "eps_t = {}"
   ]
  },
  {
   "cell_type": "code",
   "execution_count": 61,
   "metadata": {
    "ExecuteTime": {
     "end_time": "2020-04-18T15:41:17.720146Z",
     "start_time": "2020-04-18T15:41:17.716146Z"
    },
    "run_control": {
     "marked": true
    }
   },
   "outputs": [
    {
     "data": {
      "text/plain": [
       "0.9999999999999999"
      ]
     },
     "execution_count": 61,
     "metadata": {},
     "output_type": "execute_result"
    }
   ],
   "source": [
    "init_I_dis_italy.sum()"
   ]
  },
  {
   "cell_type": "code",
   "execution_count": 62,
   "metadata": {
    "ExecuteTime": {
     "end_time": "2020-04-18T15:41:18.060166Z",
     "start_time": "2020-04-18T15:41:18.051165Z"
    }
   },
   "outputs": [],
   "source": [
    "init_I_IL = {}\n",
    "init_I_dis = {}\n",
    "for i in [1,2,3]:\n",
    "    scen = 'Scenario'+str(i)\n",
    "    f_init_i = f_init[scen][:(len(R)*len(A))]\n",
    "    init_I_IL[scen] = (491./(1-(f_init_i * risk_dist['pop size'].values).sum())) / 9136000.\n",
    "    init_I_dis[scen] = init_I_dis_italy * init_I_IL[scen]"
   ]
  },
  {
   "cell_type": "code",
   "execution_count": 63,
   "metadata": {
    "ExecuteTime": {
     "end_time": "2020-04-18T15:41:18.355182Z",
     "start_time": "2020-04-18T15:41:18.347182Z"
    }
   },
   "outputs": [],
   "source": [
    "for i in [1,2,3]:\n",
    "    scen = 'Scenario'+str(i)\n",
    "    eps_t[scen] = []\n",
    "    for i in range(1000):\n",
    "        eps_t[scen].append(init_I_dis[scen][i] * pop_dist if i < len(init_I_dis[scen]) else 0)"
   ]
  },
  {
   "cell_type": "code",
   "execution_count": 64,
   "metadata": {
    "ExecuteTime": {
     "end_time": "2020-04-18T15:41:18.701202Z",
     "start_time": "2020-04-18T15:41:18.684201Z"
    }
   },
   "outputs": [],
   "source": [
    "# Save\n",
    "with open('../Data/parameters/eps_dict.pickle', 'wb') as handle:\n",
    "    pickle.dump(eps_t, handle, protocol=pickle.HIGHEST_PROTOCOL)"
   ]
  },
  {
   "cell_type": "markdown",
   "metadata": {
    "ExecuteTime": {
     "end_time": "2020-04-06T22:09:06.738809Z",
     "start_time": "2020-04-06T22:09:06.521369Z"
    }
   },
   "source": [
    "## eps by region proportion"
   ]
  },
  {
   "cell_type": "code",
   "execution_count": 65,
   "metadata": {
    "ExecuteTime": {
     "end_time": "2020-04-18T15:41:19.355240Z",
     "start_time": "2020-04-18T15:41:19.338239Z"
    }
   },
   "outputs": [
    {
     "name": "stdout",
     "output_type": "stream",
     "text": [
      "cell_id\n",
      "11    0.135317\n",
      "21    0.009418\n",
      "22    0.017790\n",
      "23    0.033524\n",
      "24    0.018210\n",
      "Name: cases_prop, dtype: float64\n",
      "\n",
      "Age\n",
      "0-4      0.050\n",
      "5-9      0.106\n",
      "10-19    0.106\n",
      "20-29    0.149\n",
      "30-39    0.149\n",
      "Name: risk, dtype: float64\n"
     ]
    }
   ],
   "source": [
    "# Loading data\n",
    "region_prop = pd.read_csv('../Data/demograph/sick_prop.csv', index_col=0)['cases_prop'].copy()\n",
    "region_prop.index = region_prop.index.astype(str)\n",
    "risk_prop = pd.read_csv('../Data/raw/risk_dist.csv', index_col=0)['risk'].copy()\n",
    "print(region_prop.head())\n",
    "print()\n",
    "print(risk_prop.head())"
   ]
  },
  {
   "cell_type": "code",
   "execution_count": 66,
   "metadata": {
    "ExecuteTime": {
     "end_time": "2020-04-18T15:41:19.661257Z",
     "start_time": "2020-04-18T15:41:19.658257Z"
    }
   },
   "outputs": [],
   "source": [
    "eps_t_region = {}"
   ]
  },
  {
   "cell_type": "code",
   "execution_count": 67,
   "metadata": {
    "ExecuteTime": {
     "end_time": "2020-04-18T15:41:21.308351Z",
     "start_time": "2020-04-18T15:41:19.972275Z"
    }
   },
   "outputs": [],
   "source": [
    "for sc, init_I in zip(init_I_dis.keys(), init_I_dis.values()):\n",
    "    eps_temp = []\n",
    "    for t in range(1000):\n",
    "        if t < len(init_I):\n",
    "            # empty array for day t\n",
    "            day_vec = np.zeros(len(N))\n",
    "            # fill in the array, zero for intervention groups\n",
    "            for key in N.keys():\n",
    "                if N[key][0] == 'Intervention':\n",
    "                    day_vec[key] = 0\n",
    "                else:\n",
    "                    day_vec[key] = init_I[t] * region_prop[N[key][1]] * age_dist[N[key][3]] * \\\n",
    "                    (risk_prop[N[key][3]]**(1 - (N[key][2] == 'Low'))) * \\\n",
    "                    ((1 - risk_prop[N[key][3]])**(N[key][2] == 'Low'))\n",
    "            eps_temp.append(day_vec)\n",
    "        else:\n",
    "             eps_temp.append(0.0)\n",
    "        \n",
    "        eps_t_region[sc] = eps_temp\n"
   ]
  },
  {
   "cell_type": "code",
   "execution_count": 68,
   "metadata": {
    "ExecuteTime": {
     "end_time": "2020-04-18T15:41:21.330353Z",
     "start_time": "2020-04-18T15:41:21.312352Z"
    }
   },
   "outputs": [],
   "source": [
    "# save eps:\n",
    "with open('../Data/parameters/eps_by_region.pickle', 'wb') as handle:\n",
    "    pickle.dump(eps_t_region, handle, protocol=pickle.HIGHEST_PROTOCOL)  "
   ]
  },
  {
   "cell_type": "markdown",
   "metadata": {
    "heading_collapsed": true
   },
   "source": [
    "## Smoothed eps by region -------------- UNFINISHED -------------------"
   ]
  },
  {
   "cell_type": "code",
   "execution_count": 134,
   "metadata": {
    "ExecuteTime": {
     "end_time": "2020-04-15T17:10:14.950026Z",
     "start_time": "2020-04-15T17:10:14.940026Z"
    },
    "hidden": true
   },
   "outputs": [
    {
     "data": {
      "text/plain": [
       "array([  0.78180071,   2.94105921,   5.84488904,   8.5253491 ,\n",
       "        12.02483762,  17.497441  ,  24.38473153,  33.09622265,\n",
       "        41.99385742,  39.83459892,  75.79742365,  93.14595037,\n",
       "       114.9991361 , 143.6279275 , 172.5917768 , 219.0158361 ,\n",
       "       274.5609032 , 341.4606921 ])"
      ]
     },
     "execution_count": 134,
     "metadata": {},
     "output_type": "execute_result"
    }
   ],
   "source": [
    "########## UNFINISHED ############\n",
    "init_eps = pd.read_csv('../Data/raw/IL_initial_eps.csv', header=None).values[:,0].copy()\n",
    "init_eps"
   ]
  },
  {
   "cell_type": "code",
   "execution_count": 135,
   "metadata": {
    "ExecuteTime": {
     "end_time": "2020-04-15T17:12:13.165788Z",
     "start_time": "2020-04-15T17:12:13.160787Z"
    },
    "hidden": true
   },
   "outputs": [],
   "source": [
    "init_eps_asymp = {}\n",
    "for i in [1,2,3]:\n",
    "    scen = 'Scenario'+str(i)\n",
    "    f_init_i = f_init[scen][:(len(R)*len(A))]\n",
    "    init_eps_asymp[scen] = (init_eps/(1-(f_init_i * risk_dist['pop size'].values).sum())) / 9136000."
   ]
  },
  {
   "cell_type": "code",
   "execution_count": 136,
   "metadata": {
    "ExecuteTime": {
     "end_time": "2020-04-15T17:12:14.084840Z",
     "start_time": "2020-04-15T17:12:14.077840Z"
    },
    "hidden": true
   },
   "outputs": [
    {
     "data": {
      "text/plain": [
       "array([0.        , 0.        , 0.        , 0.        , 0.        ,\n",
       "       0.        , 0.        , 0.        , 0.        , 0.6127786 ,\n",
       "       0.6127786 , 0.62218712, 0.58971125, 0.57587446, 0.59021178,\n",
       "       0.56415614, 0.54046208, 0.14933333])"
      ]
     },
     "execution_count": 136,
     "metadata": {},
     "output_type": "execute_result"
    }
   ],
   "source": [
    "f_init['Scenario3'][:(len(R)*len(A))]"
   ]
  },
  {
   "cell_type": "code",
   "execution_count": 137,
   "metadata": {
    "ExecuteTime": {
     "end_time": "2020-04-15T17:12:33.948977Z",
     "start_time": "2020-04-15T17:12:33.943976Z"
    },
    "hidden": true
   },
   "outputs": [
    {
     "data": {
      "text/plain": [
       "3003.15972721764"
      ]
     },
     "execution_count": 137,
     "metadata": {},
     "output_type": "execute_result"
    }
   ],
   "source": [
    "init_eps_asymp['Scenario3'].sum()*9136000"
   ]
  },
  {
   "cell_type": "code",
   "execution_count": 138,
   "metadata": {
    "ExecuteTime": {
     "end_time": "2020-04-15T17:12:52.916061Z",
     "start_time": "2020-04-15T17:12:52.911061Z"
    },
    "hidden": true
   },
   "outputs": [
    {
     "ename": "SyntaxError",
     "evalue": "invalid syntax (<ipython-input-138-958ad179e108>, line 1)",
     "output_type": "error",
     "traceback": [
      "\u001b[1;36m  File \u001b[1;32m\"<ipython-input-138-958ad179e108>\"\u001b[1;36m, line \u001b[1;32m1\u001b[0m\n\u001b[1;33m    def fill_eps_day(init_eps, dic=mdl.N, age_)\u001b[0m\n\u001b[1;37m                                               ^\u001b[0m\n\u001b[1;31mSyntaxError\u001b[0m\u001b[1;31m:\u001b[0m invalid syntax\n"
     ]
    }
   ],
   "source": [
    "def fill_eps_day(init_eps, dic=mdl.N, age_)"
   ]
  },
  {
   "cell_type": "code",
   "execution_count": null,
   "metadata": {
    "hidden": true
   },
   "outputs": [],
   "source": [
    "eps_reg = []\n"
   ]
  },
  {
   "cell_type": "markdown",
   "metadata": {},
   "source": [
    "# Hospitalizations"
   ]
  },
  {
   "cell_type": "code",
   "execution_count": 69,
   "metadata": {
    "ExecuteTime": {
     "end_time": "2020-04-18T15:41:25.590596Z",
     "start_time": "2020-04-18T15:41:25.571595Z"
    }
   },
   "outputs": [
    {
     "data": {
      "text/html": [
       "<div>\n",
       "<style scoped>\n",
       "    .dataframe tbody tr th:only-of-type {\n",
       "        vertical-align: middle;\n",
       "    }\n",
       "\n",
       "    .dataframe tbody tr th {\n",
       "        vertical-align: top;\n",
       "    }\n",
       "\n",
       "    .dataframe thead th {\n",
       "        text-align: right;\n",
       "    }\n",
       "</style>\n",
       "<table border=\"1\" class=\"dataframe\">\n",
       "  <thead>\n",
       "    <tr style=\"text-align: right;\">\n",
       "      <th></th>\n",
       "      <th>Unnamed: 0</th>\n",
       "      <th>num_positives</th>\n",
       "      <th>mortality</th>\n",
       "      <th>vent_pr</th>\n",
       "    </tr>\n",
       "  </thead>\n",
       "  <tbody>\n",
       "    <tr>\n",
       "      <th>0</th>\n",
       "      <td>0-4</td>\n",
       "      <td>250.02</td>\n",
       "      <td>0.000000</td>\n",
       "      <td>0.000000</td>\n",
       "    </tr>\n",
       "    <tr>\n",
       "      <th>1</th>\n",
       "      <td>5-9</td>\n",
       "      <td>250.02</td>\n",
       "      <td>0.000000</td>\n",
       "      <td>0.000000</td>\n",
       "    </tr>\n",
       "    <tr>\n",
       "      <th>2</th>\n",
       "      <td>10-19</td>\n",
       "      <td>1375.11</td>\n",
       "      <td>0.000000</td>\n",
       "      <td>0.000000</td>\n",
       "    </tr>\n",
       "    <tr>\n",
       "      <th>3</th>\n",
       "      <td>20-29</td>\n",
       "      <td>2875.23</td>\n",
       "      <td>2.817460</td>\n",
       "      <td>0.000980</td>\n",
       "    </tr>\n",
       "    <tr>\n",
       "      <th>4</th>\n",
       "      <td>30-39</td>\n",
       "      <td>1875.15</td>\n",
       "      <td>2.817460</td>\n",
       "      <td>0.001503</td>\n",
       "    </tr>\n",
       "    <tr>\n",
       "      <th>5</th>\n",
       "      <td>40-49</td>\n",
       "      <td>1750.14</td>\n",
       "      <td>5.634921</td>\n",
       "      <td>0.003220</td>\n",
       "    </tr>\n",
       "    <tr>\n",
       "      <th>6</th>\n",
       "      <td>50-59</td>\n",
       "      <td>1750.14</td>\n",
       "      <td>10.000000</td>\n",
       "      <td>0.005714</td>\n",
       "    </tr>\n",
       "    <tr>\n",
       "      <th>7</th>\n",
       "      <td>60-69</td>\n",
       "      <td>1375.11</td>\n",
       "      <td>30.992063</td>\n",
       "      <td>0.022538</td>\n",
       "    </tr>\n",
       "    <tr>\n",
       "      <th>8</th>\n",
       "      <td>70+</td>\n",
       "      <td>1000.08</td>\n",
       "      <td>216.944444</td>\n",
       "      <td>0.216927</td>\n",
       "    </tr>\n",
       "  </tbody>\n",
       "</table>\n",
       "</div>"
      ],
      "text/plain": [
       "  Unnamed: 0  num_positives   mortality   vent_pr\n",
       "0        0-4         250.02    0.000000  0.000000\n",
       "1        5-9         250.02    0.000000  0.000000\n",
       "2      10-19        1375.11    0.000000  0.000000\n",
       "3      20-29        2875.23    2.817460  0.000980\n",
       "4      30-39        1875.15    2.817460  0.001503\n",
       "5      40-49        1750.14    5.634921  0.003220\n",
       "6      50-59        1750.14   10.000000  0.005714\n",
       "7      60-69        1375.11   30.992063  0.022538\n",
       "8        70+        1000.08  216.944444  0.216927"
      ]
     },
     "execution_count": 69,
     "metadata": {},
     "output_type": "execute_result"
    }
   ],
   "source": [
    "hosp_init = pd.read_csv('../Data/raw/vent_proba.csv')\n",
    "hosp_init"
   ]
  },
  {
   "cell_type": "code",
   "execution_count": 70,
   "metadata": {
    "ExecuteTime": {
     "end_time": "2020-04-18T15:41:25.821610Z",
     "start_time": "2020-04-18T15:41:25.813609Z"
    }
   },
   "outputs": [],
   "source": [
    "hosp = expand_partial_array(age_dict, hosp_init['vent_pr'].values)"
   ]
  },
  {
   "cell_type": "code",
   "execution_count": 71,
   "metadata": {
    "ExecuteTime": {
     "end_time": "2020-04-18T15:41:26.124627Z",
     "start_time": "2020-04-18T15:41:26.106626Z"
    }
   },
   "outputs": [
    {
     "data": {
      "text/plain": [
       "array([0.        , 0.        , 0.        , 0.00097991, 0.00150253,\n",
       "       0.0032197 , 0.00571383, 0.02253788, 0.21692709, 0.        ,\n",
       "       0.        , 0.        , 0.00097991, 0.00150253, 0.0032197 ,\n",
       "       0.00571383, 0.02253788, 0.21692709, 0.        , 0.        ,\n",
       "       0.        , 0.00097991, 0.00150253, 0.0032197 , 0.00571383,\n",
       "       0.02253788, 0.21692709, 0.        , 0.        , 0.        ,\n",
       "       0.00097991, 0.00150253, 0.0032197 , 0.00571383, 0.02253788,\n",
       "       0.21692709, 0.        , 0.        , 0.        , 0.00097991,\n",
       "       0.00150253, 0.0032197 , 0.00571383, 0.02253788, 0.21692709,\n",
       "       0.        , 0.        , 0.        , 0.00097991, 0.00150253,\n",
       "       0.0032197 , 0.00571383, 0.02253788, 0.21692709, 0.        ,\n",
       "       0.        , 0.        , 0.00097991, 0.00150253, 0.0032197 ,\n",
       "       0.00571383, 0.02253788, 0.21692709, 0.        , 0.        ,\n",
       "       0.        , 0.00097991, 0.00150253, 0.0032197 , 0.00571383,\n",
       "       0.02253788, 0.21692709, 0.        , 0.        , 0.        ,\n",
       "       0.00097991, 0.00150253, 0.0032197 , 0.00571383, 0.02253788,\n",
       "       0.21692709, 0.        , 0.        , 0.        , 0.00097991,\n",
       "       0.00150253, 0.0032197 , 0.00571383, 0.02253788, 0.21692709,\n",
       "       0.        , 0.        , 0.        , 0.00097991, 0.00150253,\n",
       "       0.0032197 , 0.00571383, 0.02253788, 0.21692709, 0.        ,\n",
       "       0.        , 0.        , 0.00097991, 0.00150253, 0.0032197 ,\n",
       "       0.00571383, 0.02253788, 0.21692709, 0.        , 0.        ,\n",
       "       0.        , 0.00097991, 0.00150253, 0.0032197 , 0.00571383,\n",
       "       0.02253788, 0.21692709, 0.        , 0.        , 0.        ,\n",
       "       0.00097991, 0.00150253, 0.0032197 , 0.00571383, 0.02253788,\n",
       "       0.21692709, 0.        , 0.        , 0.        , 0.00097991,\n",
       "       0.00150253, 0.0032197 , 0.00571383, 0.02253788, 0.21692709,\n",
       "       0.        , 0.        , 0.        , 0.00097991, 0.00150253,\n",
       "       0.0032197 , 0.00571383, 0.02253788, 0.21692709, 0.        ,\n",
       "       0.        , 0.        , 0.00097991, 0.00150253, 0.0032197 ,\n",
       "       0.00571383, 0.02253788, 0.21692709, 0.        , 0.        ,\n",
       "       0.        , 0.00097991, 0.00150253, 0.0032197 , 0.00571383,\n",
       "       0.02253788, 0.21692709, 0.        , 0.        , 0.        ,\n",
       "       0.00097991, 0.00150253, 0.0032197 , 0.00571383, 0.02253788,\n",
       "       0.21692709, 0.        , 0.        , 0.        , 0.00097991,\n",
       "       0.00150253, 0.0032197 , 0.00571383, 0.02253788, 0.21692709,\n",
       "       0.        , 0.        , 0.        , 0.00097991, 0.00150253,\n",
       "       0.0032197 , 0.00571383, 0.02253788, 0.21692709, 0.        ,\n",
       "       0.        , 0.        , 0.00097991, 0.00150253, 0.0032197 ,\n",
       "       0.00571383, 0.02253788, 0.21692709, 0.        , 0.        ,\n",
       "       0.        , 0.00097991, 0.00150253, 0.0032197 , 0.00571383,\n",
       "       0.02253788, 0.21692709, 0.        , 0.        , 0.        ,\n",
       "       0.00097991, 0.00150253, 0.0032197 , 0.00571383, 0.02253788,\n",
       "       0.21692709, 0.        , 0.        , 0.        , 0.00097991,\n",
       "       0.00150253, 0.0032197 , 0.00571383, 0.02253788, 0.21692709,\n",
       "       0.        , 0.        , 0.        , 0.00097991, 0.00150253,\n",
       "       0.0032197 , 0.00571383, 0.02253788, 0.21692709, 0.        ,\n",
       "       0.        , 0.        , 0.00097991, 0.00150253, 0.0032197 ,\n",
       "       0.00571383, 0.02253788, 0.21692709, 0.        , 0.        ,\n",
       "       0.        , 0.00097991, 0.00150253, 0.0032197 , 0.00571383,\n",
       "       0.02253788, 0.21692709, 0.        , 0.        , 0.        ,\n",
       "       0.00097991, 0.00150253, 0.0032197 , 0.00571383, 0.02253788,\n",
       "       0.21692709, 0.        , 0.        , 0.        , 0.00097991,\n",
       "       0.00150253, 0.0032197 , 0.00571383, 0.02253788, 0.21692709,\n",
       "       0.        , 0.        , 0.        , 0.00097991, 0.00150253,\n",
       "       0.0032197 , 0.00571383, 0.02253788, 0.21692709, 0.        ,\n",
       "       0.        , 0.        , 0.00097991, 0.00150253, 0.0032197 ,\n",
       "       0.00571383, 0.02253788, 0.21692709, 0.        , 0.        ,\n",
       "       0.        , 0.00097991, 0.00150253, 0.0032197 , 0.00571383,\n",
       "       0.02253788, 0.21692709, 0.        , 0.        , 0.        ,\n",
       "       0.00097991, 0.00150253, 0.0032197 , 0.00571383, 0.02253788,\n",
       "       0.21692709, 0.        , 0.        , 0.        , 0.00097991,\n",
       "       0.00150253, 0.0032197 , 0.00571383, 0.02253788, 0.21692709,\n",
       "       0.        , 0.        , 0.        , 0.00097991, 0.00150253,\n",
       "       0.0032197 , 0.00571383, 0.02253788, 0.21692709, 0.        ,\n",
       "       0.        , 0.        , 0.00097991, 0.00150253, 0.0032197 ,\n",
       "       0.00571383, 0.02253788, 0.21692709, 0.        , 0.        ,\n",
       "       0.        , 0.00097991, 0.00150253, 0.0032197 , 0.00571383,\n",
       "       0.02253788, 0.21692709, 0.        , 0.        , 0.        ,\n",
       "       0.00097991, 0.00150253, 0.0032197 , 0.00571383, 0.02253788,\n",
       "       0.21692709, 0.        , 0.        , 0.        , 0.00097991,\n",
       "       0.00150253, 0.0032197 , 0.00571383, 0.02253788, 0.21692709,\n",
       "       0.        , 0.        , 0.        , 0.00097991, 0.00150253,\n",
       "       0.0032197 , 0.00571383, 0.02253788, 0.21692709, 0.        ,\n",
       "       0.        , 0.        , 0.00097991, 0.00150253, 0.0032197 ,\n",
       "       0.00571383, 0.02253788, 0.21692709, 0.        , 0.        ,\n",
       "       0.        , 0.00097991, 0.00150253, 0.0032197 , 0.00571383,\n",
       "       0.02253788, 0.21692709, 0.        , 0.        , 0.        ,\n",
       "       0.00097991, 0.00150253, 0.0032197 , 0.00571383, 0.02253788,\n",
       "       0.21692709, 0.        , 0.        , 0.        , 0.00097991,\n",
       "       0.00150253, 0.0032197 , 0.00571383, 0.02253788, 0.21692709,\n",
       "       0.        , 0.        , 0.        , 0.00097991, 0.00150253,\n",
       "       0.0032197 , 0.00571383, 0.02253788, 0.21692709, 0.        ,\n",
       "       0.        , 0.        , 0.00097991, 0.00150253, 0.0032197 ,\n",
       "       0.00571383, 0.02253788, 0.21692709, 0.        , 0.        ,\n",
       "       0.        , 0.00097991, 0.00150253, 0.0032197 , 0.00571383,\n",
       "       0.02253788, 0.21692709, 0.        , 0.        , 0.        ,\n",
       "       0.00097991, 0.00150253, 0.0032197 , 0.00571383, 0.02253788,\n",
       "       0.21692709, 0.        , 0.        , 0.        , 0.00097991,\n",
       "       0.00150253, 0.0032197 , 0.00571383, 0.02253788, 0.21692709,\n",
       "       0.        , 0.        , 0.        , 0.00097991, 0.00150253,\n",
       "       0.0032197 , 0.00571383, 0.02253788, 0.21692709, 0.        ,\n",
       "       0.        , 0.        , 0.00097991, 0.00150253, 0.0032197 ,\n",
       "       0.00571383, 0.02253788, 0.21692709, 0.        , 0.        ,\n",
       "       0.        , 0.00097991, 0.00150253, 0.0032197 , 0.00571383,\n",
       "       0.02253788, 0.21692709, 0.        , 0.        , 0.        ,\n",
       "       0.00097991, 0.00150253, 0.0032197 , 0.00571383, 0.02253788,\n",
       "       0.21692709, 0.        , 0.        , 0.        , 0.00097991,\n",
       "       0.00150253, 0.0032197 , 0.00571383, 0.02253788, 0.21692709,\n",
       "       0.        , 0.        , 0.        , 0.00097991, 0.00150253,\n",
       "       0.0032197 , 0.00571383, 0.02253788, 0.21692709, 0.        ,\n",
       "       0.        , 0.        , 0.00097991, 0.00150253, 0.0032197 ,\n",
       "       0.00571383, 0.02253788, 0.21692709, 0.        , 0.        ,\n",
       "       0.        , 0.00097991, 0.00150253, 0.0032197 , 0.00571383,\n",
       "       0.02253788, 0.21692709, 0.        , 0.        , 0.        ,\n",
       "       0.00097991, 0.00150253, 0.0032197 , 0.00571383, 0.02253788,\n",
       "       0.21692709, 0.        , 0.        , 0.        , 0.00097991,\n",
       "       0.00150253, 0.0032197 , 0.00571383, 0.02253788, 0.21692709,\n",
       "       0.        , 0.        , 0.        , 0.00097991, 0.00150253,\n",
       "       0.0032197 , 0.00571383, 0.02253788, 0.21692709, 0.        ,\n",
       "       0.        , 0.        , 0.00097991, 0.00150253, 0.0032197 ,\n",
       "       0.00571383, 0.02253788, 0.21692709, 0.        , 0.        ,\n",
       "       0.        , 0.00097991, 0.00150253, 0.0032197 , 0.00571383,\n",
       "       0.02253788, 0.21692709, 0.        , 0.        , 0.        ,\n",
       "       0.00097991, 0.00150253, 0.0032197 , 0.00571383, 0.02253788,\n",
       "       0.21692709, 0.        , 0.        , 0.        , 0.00097991,\n",
       "       0.00150253, 0.0032197 , 0.00571383, 0.02253788, 0.21692709,\n",
       "       0.        , 0.        , 0.        , 0.00097991, 0.00150253,\n",
       "       0.0032197 , 0.00571383, 0.02253788, 0.21692709, 0.        ,\n",
       "       0.        , 0.        , 0.00097991, 0.00150253, 0.0032197 ,\n",
       "       0.00571383, 0.02253788, 0.21692709, 0.        , 0.        ,\n",
       "       0.        , 0.00097991, 0.00150253, 0.0032197 , 0.00571383,\n",
       "       0.02253788, 0.21692709, 0.        , 0.        , 0.        ,\n",
       "       0.00097991, 0.00150253, 0.0032197 , 0.00571383, 0.02253788,\n",
       "       0.21692709, 0.        , 0.        , 0.        , 0.00097991,\n",
       "       0.00150253, 0.0032197 , 0.00571383, 0.02253788, 0.21692709,\n",
       "       0.        , 0.        , 0.        , 0.00097991, 0.00150253,\n",
       "       0.0032197 , 0.00571383, 0.02253788, 0.21692709, 0.        ,\n",
       "       0.        , 0.        , 0.00097991, 0.00150253, 0.0032197 ,\n",
       "       0.00571383, 0.02253788, 0.21692709, 0.        , 0.        ,\n",
       "       0.        , 0.00097991, 0.00150253, 0.0032197 , 0.00571383,\n",
       "       0.02253788, 0.21692709, 0.        , 0.        , 0.        ,\n",
       "       0.00097991, 0.00150253, 0.0032197 , 0.00571383, 0.02253788,\n",
       "       0.21692709, 0.        , 0.        , 0.        , 0.00097991,\n",
       "       0.00150253, 0.0032197 , 0.00571383, 0.02253788, 0.21692709,\n",
       "       0.        , 0.        , 0.        , 0.00097991, 0.00150253,\n",
       "       0.0032197 , 0.00571383, 0.02253788, 0.21692709, 0.        ,\n",
       "       0.        , 0.        , 0.00097991, 0.00150253, 0.0032197 ,\n",
       "       0.00571383, 0.02253788, 0.21692709, 0.        , 0.        ,\n",
       "       0.        , 0.00097991, 0.00150253, 0.0032197 , 0.00571383,\n",
       "       0.02253788, 0.21692709, 0.        , 0.        , 0.        ,\n",
       "       0.00097991, 0.00150253, 0.0032197 , 0.00571383, 0.02253788,\n",
       "       0.21692709, 0.        , 0.        , 0.        , 0.00097991,\n",
       "       0.00150253, 0.0032197 , 0.00571383, 0.02253788, 0.21692709])"
      ]
     },
     "execution_count": 71,
     "metadata": {},
     "output_type": "execute_result"
    }
   ],
   "source": [
    "hosp"
   ]
  },
  {
   "cell_type": "code",
   "execution_count": 72,
   "metadata": {
    "ExecuteTime": {
     "end_time": "2020-04-18T15:41:26.399643Z",
     "start_time": "2020-04-18T15:41:26.388642Z"
    }
   },
   "outputs": [],
   "source": [
    "# Save\n",
    "with open('../Data/parameters/hospitalization.pickle', 'wb') as handle:\n",
    "    pickle.dump(hosp, handle, protocol=pickle.HIGHEST_PROTOCOL)"
   ]
  },
  {
   "cell_type": "markdown",
   "metadata": {},
   "source": [
    "# Calibration contact matrix"
   ]
  },
  {
   "cell_type": "markdown",
   "metadata": {},
   "source": [
    "Important : here no intervention mean the course of interventions made by government"
   ]
  },
  {
   "cell_type": "code",
   "execution_count": 73,
   "metadata": {
    "ExecuteTime": {
     "end_time": "2020-04-18T15:41:27.587711Z",
     "start_time": "2020-04-18T15:41:27.402700Z"
    }
   },
   "outputs": [],
   "source": [
    "full_mtx_home = scipy.sparse.load_npz('../Data/base_contact_mtx/full_home.npz')\n",
    "\n",
    "full_mtx_work = {\n",
    "    'routine': scipy.sparse.load_npz('../Data/base_contact_mtx/full_work_routine.npz'),\n",
    "    'no_school': scipy.sparse.load_npz('../Data/base_contact_mtx/full_work_no_school.npz'),\n",
    "    'no_work': scipy.sparse.load_npz('../Data/base_contact_mtx/full_work_no_work.npz'),\n",
    "    'no_100_meters': scipy.sparse.load_npz('../Data/base_contact_mtx/full_work_no_100_meters.npz'),\n",
    "    'no_bb': scipy.sparse.load_npz('../Data/base_contact_mtx/full_work_no_bb.npz'),\n",
    "}\n",
    "\n",
    "full_mtx_leisure = {\n",
    "    'routine': scipy.sparse.load_npz('../Data/base_contact_mtx/full_leisure_routine.npz'),\n",
    "    'no_school': scipy.sparse.load_npz('../Data/base_contact_mtx/full_leisure_no_school.npz'),\n",
    "    'no_work': scipy.sparse.load_npz('../Data/base_contact_mtx/full_leisure_no_work.npz'),\n",
    "    'no_100_meters': scipy.sparse.load_npz('../Data/base_contact_mtx/full_leisure_no_100_meters.npz'),\n",
    "    'no_bb': scipy.sparse.load_npz('../Data/base_contact_mtx/full_leisure_no_bb.npz'),\n",
    "}"
   ]
  },
  {
   "cell_type": "code",
   "execution_count": 74,
   "metadata": {
    "ExecuteTime": {
     "end_time": "2020-04-18T15:41:27.666715Z",
     "start_time": "2020-04-18T15:41:27.661715Z"
    }
   },
   "outputs": [],
   "source": [
    "C_calibration = {}\n",
    "d_tot = 500"
   ]
  },
  {
   "cell_type": "code",
   "execution_count": 75,
   "metadata": {
    "ExecuteTime": {
     "end_time": "2020-04-18T15:41:28.082739Z",
     "start_time": "2020-04-18T15:41:27.938731Z"
    }
   },
   "outputs": [],
   "source": [
    "# no intervation are null groups\n",
    "home_no_inter = []\n",
    "work_no_inter = []\n",
    "leis_no_inter = []\n",
    "\n",
    "for i in range(d_tot):\n",
    "    home_no_inter.append(csr_matrix((full_mtx_home.shape[0], full_mtx_home.shape[1])))\n",
    "    work_no_inter.append(csr_matrix((full_mtx_work['routine'].shape[0], full_mtx_work['routine'].shape[1])))\n",
    "    leis_no_inter.append(csr_matrix((full_mtx_leisure['routine'].shape[0], full_mtx_leisure['routine'].shape[1])))"
   ]
  },
  {
   "cell_type": "code",
   "execution_count": 76,
   "metadata": {
    "ExecuteTime": {
     "end_time": "2020-04-18T15:41:28.345754Z",
     "start_time": "2020-04-18T15:41:28.331753Z"
    }
   },
   "outputs": [],
   "source": [
    "# Intervantion\n",
    "home_inter = []\n",
    "work_inter = []\n",
    "leis_inter = []\n",
    "\n",
    "# first days of routine from Feb 21st - March 13th\n",
    "d_rout = 9+13\n",
    "for i in range(d_rout):\n",
    "    home_inter.append(full_mtx_home)\n",
    "    work_inter.append(full_mtx_work['routine'])\n",
    "    leis_inter.append(full_mtx_leisure['routine'])\n",
    "\n",
    "# first days of no school from March 14th - March 16th\n",
    "d_no_school = 3\n",
    "for i in range(d_no_school):\n",
    "    home_inter.append(full_mtx_home)\n",
    "    work_inter.append(full_mtx_work['no_school'])\n",
    "    leis_inter.append(full_mtx_leisure['no_school'])\n",
    "\n",
    "# without school and work from March 17th - March 25th\n",
    "d_no_work = 9\n",
    "for i in range(d_no_work):\n",
    "    home_inter.append(full_mtx_home)\n",
    "    work_inter.append(full_mtx_work['no_work'])\n",
    "    leis_inter.append(full_mtx_leisure['no_work'])\n",
    "\n",
    "# 100 meters constrain from March 26th - April 2nd\n",
    "d_no_100_meters = 8\n",
    "for i in range(d_no_100_meters):\n",
    "    home_inter.append(full_mtx_home)\n",
    "    work_inter.append(full_mtx_work['no_100_meters'])\n",
    "    leis_inter.append(full_mtx_leisure['no_100_meters'])\n",
    "    \n",
    "# Bnei Brak quaranrine from April 3rd\n",
    "for i in range(d_tot-d_no_school-d_rout-d_no_work-d_no_100_meters):\n",
    "    home_inter.append(full_mtx_home)\n",
    "    work_inter.append(full_mtx_work['no_bb'])\n",
    "    leis_inter.append(full_mtx_leisure['no_bb'])"
   ]
  },
  {
   "cell_type": "code",
   "execution_count": 77,
   "metadata": {
    "ExecuteTime": {
     "end_time": "2020-04-18T15:41:28.793780Z",
     "start_time": "2020-04-18T15:41:28.789779Z"
    }
   },
   "outputs": [],
   "source": [
    "C_calibration['home_inter'] = home_no_inter\n",
    "C_calibration['work_inter'] = work_no_inter\n",
    "C_calibration['leisure_inter'] = leis_no_inter\n",
    "C_calibration['home_non'] = home_inter\n",
    "C_calibration['work_non'] = work_inter\n",
    "C_calibration['leisure_non'] = leis_inter"
   ]
  },
  {
   "cell_type": "code",
   "execution_count": 78,
   "metadata": {
    "ExecuteTime": {
     "end_time": "2020-04-18T15:41:29.226804Z",
     "start_time": "2020-04-18T15:41:29.163801Z"
    },
    "run_control": {
     "marked": true
    }
   },
   "outputs": [],
   "source": [
    "# Save\n",
    "with open('../Data/parameters/C_calibration.pickle', 'wb') as handle:\n",
    "    pickle.dump(C_calibration, handle, protocol=pickle.HIGHEST_PROTOCOL)"
   ]
  },
  {
   "cell_type": "markdown",
   "metadata": {},
   "source": [
    "# Haredi vector"
   ]
  },
  {
   "cell_type": "code",
   "execution_count": 79,
   "metadata": {
    "ExecuteTime": {
     "end_time": "2020-04-18T15:41:30.003849Z",
     "start_time": "2020-04-18T15:41:29.959846Z"
    }
   },
   "outputs": [
    {
     "data": {
      "text/html": [
       "<div>\n",
       "<style scoped>\n",
       "    .dataframe tbody tr th:only-of-type {\n",
       "        vertical-align: middle;\n",
       "    }\n",
       "\n",
       "    .dataframe tbody tr th {\n",
       "        vertical-align: top;\n",
       "    }\n",
       "\n",
       "    .dataframe thead th {\n",
       "        text-align: right;\n",
       "    }\n",
       "</style>\n",
       "<table border=\"1\" class=\"dataframe\">\n",
       "  <thead>\n",
       "    <tr style=\"text-align: right;\">\n",
       "      <th></th>\n",
       "      <th>Orthodox</th>\n",
       "    </tr>\n",
       "    <tr>\n",
       "      <th>cell_id</th>\n",
       "      <th></th>\n",
       "    </tr>\n",
       "  </thead>\n",
       "  <tbody>\n",
       "    <tr>\n",
       "      <th>11</th>\n",
       "      <td>0.183911</td>\n",
       "    </tr>\n",
       "    <tr>\n",
       "      <th>11_betshemesh</th>\n",
       "      <td>0.484846</td>\n",
       "    </tr>\n",
       "    <tr>\n",
       "      <th>21</th>\n",
       "      <td>0.129815</td>\n",
       "    </tr>\n",
       "    <tr>\n",
       "      <th>22</th>\n",
       "      <td>0.057856</td>\n",
       "    </tr>\n",
       "    <tr>\n",
       "      <th>23</th>\n",
       "      <td>0.008882</td>\n",
       "    </tr>\n",
       "  </tbody>\n",
       "</table>\n",
       "</div>"
      ],
      "text/plain": [
       "               Orthodox\n",
       "cell_id                \n",
       "11             0.183911\n",
       "11_betshemesh  0.484846\n",
       "21             0.129815\n",
       "22             0.057856\n",
       "23             0.008882"
      ]
     },
     "execution_count": 79,
     "metadata": {},
     "output_type": "execute_result"
    }
   ],
   "source": [
    "# Loading raw data\n",
    "hared_dis = pd.read_csv('../Data/demograph/religion_dis.csv', index_col=0)[['cell_id','Orthodox']].copy()\n",
    "hared_dis.set_index('cell_id', inplace=True)\n",
    "hared_dis.head()"
   ]
  },
  {
   "cell_type": "code",
   "execution_count": 80,
   "metadata": {
    "ExecuteTime": {
     "end_time": "2020-04-18T15:41:30.303866Z",
     "start_time": "2020-04-18T15:41:30.257863Z"
    },
    "run_control": {
     "marked": true
    }
   },
   "outputs": [],
   "source": [
    "# Creating model orthodox dist. and save it as pickle\n",
    "model_orthodox_dis = np.zeros(len(GA))\n",
    "for i in GA.keys():\n",
    "    model_orthodox_dis[i] = hared_dis.loc[str(GA[i][0])]\n",
    "    \n",
    "with open('../Data/parameters/orthodox_dist.pickle', 'wb') as handle:\n",
    "    pickle.dump(model_orthodox_dis, handle, protocol=pickle.HIGHEST_PROTOCOL)  "
   ]
  },
  {
   "cell_type": "code",
   "execution_count": 81,
   "metadata": {
    "ExecuteTime": {
     "end_time": "2020-04-18T15:41:30.578882Z",
     "start_time": "2020-04-18T15:41:30.571881Z"
    }
   },
   "outputs": [
    {
     "data": {
      "text/plain": [
       "array([1.83911164e-01, 1.83911164e-01, 1.83911164e-01, 1.83911164e-01,\n",
       "       1.83911164e-01, 1.83911164e-01, 1.83911164e-01, 1.83911164e-01,\n",
       "       1.83911164e-01, 4.84846467e-01, 4.84846467e-01, 4.84846467e-01,\n",
       "       4.84846467e-01, 4.84846467e-01, 4.84846467e-01, 4.84846467e-01,\n",
       "       4.84846467e-01, 4.84846467e-01, 1.29814749e-01, 1.29814749e-01,\n",
       "       1.29814749e-01, 1.29814749e-01, 1.29814749e-01, 1.29814749e-01,\n",
       "       1.29814749e-01, 1.29814749e-01, 1.29814749e-01, 5.78560383e-02,\n",
       "       5.78560383e-02, 5.78560383e-02, 5.78560383e-02, 5.78560383e-02,\n",
       "       5.78560383e-02, 5.78560383e-02, 5.78560383e-02, 5.78560383e-02,\n",
       "       8.88231633e-03, 8.88231633e-03, 8.88231633e-03, 8.88231633e-03,\n",
       "       8.88231633e-03, 8.88231633e-03, 8.88231633e-03, 8.88231633e-03,\n",
       "       8.88231633e-03, 1.41964797e-03, 1.41964797e-03, 1.41964797e-03,\n",
       "       1.41964797e-03, 1.41964797e-03, 1.41964797e-03, 1.41964797e-03,\n",
       "       1.41964797e-03, 1.41964797e-03, 3.41781274e-04, 3.41781274e-04,\n",
       "       3.41781274e-04, 3.41781274e-04, 3.41781274e-04, 3.41781274e-04,\n",
       "       3.41781274e-04, 3.41781274e-04, 3.41781274e-04, 2.32588448e-02,\n",
       "       2.32588448e-02, 2.32588448e-02, 2.32588448e-02, 2.32588448e-02,\n",
       "       2.32588448e-02, 2.32588448e-02, 2.32588448e-02, 2.32588448e-02,\n",
       "       1.32307156e-02, 1.32307156e-02, 1.32307156e-02, 1.32307156e-02,\n",
       "       1.32307156e-02, 1.32307156e-02, 1.32307156e-02, 1.32307156e-02,\n",
       "       1.32307156e-02, 1.62417286e-02, 1.62417286e-02, 1.62417286e-02,\n",
       "       1.62417286e-02, 1.62417286e-02, 1.62417286e-02, 1.62417286e-02,\n",
       "       1.62417286e-02, 1.62417286e-02, 1.02491126e-01, 1.02491126e-01,\n",
       "       1.02491126e-01, 1.02491126e-01, 1.02491126e-01, 1.02491126e-01,\n",
       "       1.02491126e-01, 1.02491126e-01, 1.02491126e-01, 3.04375149e-02,\n",
       "       3.04375149e-02, 3.04375149e-02, 3.04375149e-02, 3.04375149e-02,\n",
       "       3.04375149e-02, 3.04375149e-02, 3.04375149e-02, 3.04375149e-02,\n",
       "       1.88726284e-02, 1.88726284e-02, 1.88726284e-02, 1.88726284e-02,\n",
       "       1.88726284e-02, 1.88726284e-02, 1.88726284e-02, 1.88726284e-02,\n",
       "       1.88726284e-02, 1.03540025e-02, 1.03540025e-02, 1.03540025e-02,\n",
       "       1.03540025e-02, 1.03540025e-02, 1.03540025e-02, 1.03540025e-02,\n",
       "       1.03540025e-02, 1.03540025e-02, 1.07265659e-02, 1.07265659e-02,\n",
       "       1.07265659e-02, 1.07265659e-02, 1.07265659e-02, 1.07265659e-02,\n",
       "       1.07265659e-02, 1.07265659e-02, 1.07265659e-02, 8.24509893e-01,\n",
       "       8.24509893e-01, 8.24509893e-01, 8.24509893e-01, 8.24509893e-01,\n",
       "       8.24509893e-01, 8.24509893e-01, 8.24509893e-01, 8.24509893e-01,\n",
       "       5.53627268e-02, 5.53627268e-02, 5.53627268e-02, 5.53627268e-02,\n",
       "       5.53627268e-02, 5.53627268e-02, 5.53627268e-02, 5.53627268e-02,\n",
       "       5.53627268e-02, 2.20636960e-02, 2.20636960e-02, 2.20636960e-02,\n",
       "       2.20636960e-02, 2.20636960e-02, 2.20636960e-02, 2.20636960e-02,\n",
       "       2.20636960e-02, 2.20636960e-02, 1.76136580e-06, 1.76136580e-06,\n",
       "       1.76136580e-06, 1.76136580e-06, 1.76136580e-06, 1.76136580e-06,\n",
       "       1.76136580e-06, 1.76136580e-06, 1.76136580e-06, 2.46049012e-01,\n",
       "       2.46049012e-01, 2.46049012e-01, 2.46049012e-01, 2.46049012e-01,\n",
       "       2.46049012e-01, 2.46049012e-01, 2.46049012e-01, 2.46049012e-01])"
      ]
     },
     "execution_count": 81,
     "metadata": {},
     "output_type": "execute_result"
    }
   ],
   "source": [
    "model_orthodox_dis"
   ]
  },
  {
   "cell_type": "code",
   "execution_count": null,
   "metadata": {},
   "outputs": [],
   "source": []
  },
  {
   "cell_type": "code",
   "execution_count": null,
   "metadata": {},
   "outputs": [],
   "source": []
  }
 ],
 "metadata": {
  "kernelspec": {
   "display_name": "Python 3",
   "language": "python",
   "name": "python3"
  },
  "language_info": {
   "codemirror_mode": {
    "name": "ipython",
    "version": 3
   },
   "file_extension": ".py",
   "mimetype": "text/x-python",
   "name": "python",
   "nbconvert_exporter": "python",
   "pygments_lexer": "ipython3",
   "version": "3.7.3"
  },
  "toc": {
   "base_numbering": 1,
   "nav_menu": {},
   "number_sections": true,
   "sideBar": true,
   "skip_h1_title": false,
   "title_cell": "Table of Contents",
   "title_sidebar": "Contents",
   "toc_cell": false,
   "toc_position": {
    "height": "calc(100% - 180px)",
    "left": "10px",
    "top": "150px",
    "width": "426.667px"
   },
   "toc_section_display": true,
   "toc_window_display": true
  },
  "varInspector": {
   "cols": {
    "lenName": 16,
    "lenType": 16,
    "lenVar": 40
   },
   "kernels_config": {
    "python": {
     "delete_cmd_postfix": "",
     "delete_cmd_prefix": "del ",
     "library": "var_list.py",
     "varRefreshCmd": "print(var_dic_list())"
    },
    "r": {
     "delete_cmd_postfix": ") ",
     "delete_cmd_prefix": "rm(",
     "library": "var_list.r",
     "varRefreshCmd": "cat(var_dic_list()) "
    }
   },
   "types_to_exclude": [
    "module",
    "function",
    "builtin_function_or_method",
    "instance",
    "_Feature"
   ],
   "window_display": false
  }
 },
 "nbformat": 4,
 "nbformat_minor": 2
}

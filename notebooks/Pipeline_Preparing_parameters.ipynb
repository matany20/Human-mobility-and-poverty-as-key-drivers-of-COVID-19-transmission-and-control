{
 "cells": [
  {
   "cell_type": "markdown",
   "metadata": {},
   "source": [
    "# Transforming files to parameters.\n",
    "## Should run after \"Contact Patterns\" notebook!!\n",
    "\n",
    "### In order to run this notebook One should make sure the above files exist:\n",
    "* Data/raw\n",
    "    * Data/raw/asymptomatic_proportions.csv\n",
    "    * Data/raw/population_size.csv                    \n",
    "    * Data/raw/init_i_italy.csv                                \n",
    "    * Data/raw/IL_initial_eps.csv                     \n",
    "    * Data/raw/hospitalizations.csv \n",
    "    * Data/raw/risk_dist.csv\n",
    "    \n",
    "* Data/base_contact_mtx\n",
    "    * Data/base_contact_mtx/full_home_mtx.csv\n",
    "    * Data/base_contact_mtx/full_leisure_mtx_no_school.csv\n",
    "    * Data/base_contact_mtx/full_leisure_mtx_no_work.csv\n",
    "    * Data/base_contact_mtx/full_leisure_mtx_routine.csv\n",
    "    * Data/base_contact_mtx/full_work_mtx_no_school.csv\n",
    "    * Data/base_contact_mtx/full_work_mtx_no_work.csv\n",
    "    * Data/base_contact_mtx/full_work_mtx_routine.csv\n",
    "    \n",
    "* Data/demograph\n",
    "    * Data/demograph/age_dist_area.csv\n",
    "    * Data/demograph/religion_dis.csv\n",
    "    * Data/demograph/sick_prop.csv\n",
    "\n",
    "### This Notebook generates the above files:\n",
    "* Data/parameters\n",
    "    - Data/parameters/f0_full.pickle\n",
    "    - Data/parameters/eps_dict.pickle\n",
    "    - Data/parameters/eps_by_region.pickle\n",
    "    - Data/parameters/hospitalization.pickle\n",
    "    - Data/parameters/C_calibration.pickle\n",
    "    - Data/parameters/orthodox_dist.pickle\n",
    "    - Data/parameters/init_pop.pickle"
   ]
  },
  {
   "cell_type": "markdown",
   "metadata": {
    "heading_collapsed": true
   },
   "source": [
    "# Imports"
   ]
  },
  {
   "cell_type": "code",
   "execution_count": 1,
   "metadata": {
    "ExecuteTime": {
     "end_time": "2020-04-17T10:01:53.831601Z",
     "start_time": "2020-04-17T10:01:00.690562Z"
    },
    "hidden": true
   },
   "outputs": [],
   "source": [
    "import numpy as np\n",
    "import pandas as pd\n",
    "from matplotlib.patches import Patch\n",
    "import itertools\n",
    "import pickle\n",
    "from matplotlib import pyplot as plt\n",
    "import datetime\n",
    "from scipy import optimize\n",
    "from scipy.sparse import csr_matrix\n",
    "import sys\n",
    "import os\n",
    "sys.path.append('../SEIR_full/')\n",
    "sys.path.append('..')\n",
    "from SEIR_full.indices import *\n",
    "%matplotlib inline"
   ]
  },
  {
   "cell_type": "code",
   "execution_count": 3,
   "metadata": {
    "ExecuteTime": {
     "end_time": "2020-04-15T23:37:48.574057Z",
     "start_time": "2020-04-15T23:37:48.566057Z"
    },
    "hidden": true
   },
   "outputs": [
    {
     "data": {
      "text/plain": [
       "9000"
      ]
     },
     "execution_count": 3,
     "metadata": {},
     "output_type": "execute_result"
    }
   ],
   "source": [
    "len(N)"
   ]
  },
  {
   "cell_type": "markdown",
   "metadata": {
    "heading_collapsed": true
   },
   "source": [
    "# Asymptomatic"
   ]
  },
  {
   "cell_type": "code",
   "execution_count": 4,
   "metadata": {
    "ExecuteTime": {
     "end_time": "2020-04-15T23:37:48.643061Z",
     "start_time": "2020-04-15T23:37:48.576058Z"
    },
    "hidden": true
   },
   "outputs": [
    {
     "data": {
      "text/html": [
       "<div>\n",
       "<style scoped>\n",
       "    .dataframe tbody tr th:only-of-type {\n",
       "        vertical-align: middle;\n",
       "    }\n",
       "\n",
       "    .dataframe tbody tr th {\n",
       "        vertical-align: top;\n",
       "    }\n",
       "\n",
       "    .dataframe thead th {\n",
       "        text-align: right;\n",
       "    }\n",
       "</style>\n",
       "<table border=\"1\" class=\"dataframe\">\n",
       "  <thead>\n",
       "    <tr style=\"text-align: right;\">\n",
       "      <th></th>\n",
       "      <th>Scenario 1</th>\n",
       "      <th>Scenario 2</th>\n",
       "      <th>Scenario 3</th>\n",
       "      <th>Unnamed: 4</th>\n",
       "    </tr>\n",
       "    <tr>\n",
       "      <th>Age</th>\n",
       "      <th></th>\n",
       "      <th></th>\n",
       "      <th></th>\n",
       "      <th></th>\n",
       "    </tr>\n",
       "  </thead>\n",
       "  <tbody>\n",
       "    <tr>\n",
       "      <th>0-4</th>\n",
       "      <td>0.957467</td>\n",
       "      <td>0.765973</td>\n",
       "      <td>0.612779</td>\n",
       "      <td>NaN</td>\n",
       "    </tr>\n",
       "    <tr>\n",
       "      <th>5-9</th>\n",
       "      <td>0.957467</td>\n",
       "      <td>0.765973</td>\n",
       "      <td>0.612779</td>\n",
       "      <td>NaN</td>\n",
       "    </tr>\n",
       "    <tr>\n",
       "      <th>10-19</th>\n",
       "      <td>0.972167</td>\n",
       "      <td>0.777734</td>\n",
       "      <td>0.622187</td>\n",
       "      <td>NaN</td>\n",
       "    </tr>\n",
       "    <tr>\n",
       "      <th>20-29</th>\n",
       "      <td>0.921424</td>\n",
       "      <td>0.737139</td>\n",
       "      <td>0.589711</td>\n",
       "      <td>NaN</td>\n",
       "    </tr>\n",
       "    <tr>\n",
       "      <th>30-39</th>\n",
       "      <td>0.899804</td>\n",
       "      <td>0.719843</td>\n",
       "      <td>0.575874</td>\n",
       "      <td>NaN</td>\n",
       "    </tr>\n",
       "  </tbody>\n",
       "</table>\n",
       "</div>"
      ],
      "text/plain": [
       "       Scenario 1  Scenario 2  Scenario 3  Unnamed: 4\n",
       "Age                                                  \n",
       "0-4      0.957467    0.765973    0.612779         NaN\n",
       "5-9      0.957467    0.765973    0.612779         NaN\n",
       "10-19    0.972167    0.777734    0.622187         NaN\n",
       "20-29    0.921424    0.737139    0.589711         NaN\n",
       "30-39    0.899804    0.719843    0.575874         NaN"
      ]
     },
     "execution_count": 4,
     "metadata": {},
     "output_type": "execute_result"
    }
   ],
   "source": [
    "asymp = pd.read_csv('../Data/raw/asymptomatic_proportions.csv', index_col=0)\n",
    "asymp.head()"
   ]
  },
  {
   "cell_type": "code",
   "execution_count": 5,
   "metadata": {
    "ExecuteTime": {
     "end_time": "2020-04-15T23:37:48.658062Z",
     "start_time": "2020-04-15T23:37:48.649062Z"
    },
    "hidden": true
   },
   "outputs": [],
   "source": [
    "f0_full = {} # dict that contains the possible scenarios\n",
    "\n",
    "# asymptomatic with risk group, high risk with 0\n",
    "f_init = np.zeros(len(list(itertools.product(R.values(), A.values()))))\n",
    "for i in [1,2,3]:\n",
    "    f_tmp = f_init.copy()\n",
    "    f_tmp[9:] = asymp['Scenario '+ str(i)].values[:-1]\n",
    "    f0_full['Scenario'+ str(i)] = expand_partial_array(risk_age_dict, f_tmp)"
   ]
  },
  {
   "cell_type": "code",
   "execution_count": 6,
   "metadata": {
    "ExecuteTime": {
     "end_time": "2020-04-15T23:38:02.514855Z",
     "start_time": "2020-04-15T23:38:02.498854Z"
    },
    "hidden": true
   },
   "outputs": [],
   "source": [
    "# Save\n",
    "try:\n",
    "    os.mkdir('../Data/parameters')\n",
    "except:\n",
    "    pass\n",
    "with open('../Data/parameters/f0_full.pickle', 'wb') as handle:\n",
    "    pickle.dump(f0_full, handle, protocol=pickle.HIGHEST_PROTOCOL)"
   ]
  },
  {
   "cell_type": "markdown",
   "metadata": {
    "heading_collapsed": true
   },
   "source": [
    "# Initial illness"
   ]
  },
  {
   "cell_type": "code",
   "execution_count": 7,
   "metadata": {
    "ExecuteTime": {
     "end_time": "2020-04-15T23:38:03.722924Z",
     "start_time": "2020-04-15T23:38:03.716924Z"
    },
    "hidden": true,
    "run_control": {
     "marked": true
    }
   },
   "outputs": [],
   "source": [
    "# Age dist. positive specimens\n",
    "age_dist = {'0-4':0.02, '5-9':0.02, '10-19':0.11, '20-29':0.23, '30-39':0.15, '40-49':0.14, '50-59':0.14, '60-69':0.11,\n",
    "           '70+':0.08}"
   ]
  },
  {
   "cell_type": "code",
   "execution_count": 8,
   "metadata": {
    "ExecuteTime": {
     "end_time": "2020-04-15T23:38:04.158949Z",
     "start_time": "2020-04-15T23:38:04.146948Z"
    },
    "hidden": true
   },
   "outputs": [],
   "source": [
    "age_dist_area = pd.read_csv('../Data/demograph/age_dist_area.csv')"
   ]
  },
  {
   "cell_type": "code",
   "execution_count": 9,
   "metadata": {
    "ExecuteTime": {
     "end_time": "2020-04-15T23:38:04.930993Z",
     "start_time": "2020-04-15T23:38:04.923993Z"
    },
    "hidden": true
   },
   "outputs": [],
   "source": [
    "age_dist_area.drop(['Unnamed: 0'],axis=1, inplace=True)"
   ]
  },
  {
   "cell_type": "code",
   "execution_count": 10,
   "metadata": {
    "ExecuteTime": {
     "end_time": "2020-04-15T23:38:05.521027Z",
     "start_time": "2020-04-15T23:38:05.514026Z"
    },
    "hidden": true
   },
   "outputs": [],
   "source": [
    "age_dist_area.set_index('cell_id', inplace=True)"
   ]
  },
  {
   "cell_type": "code",
   "execution_count": 11,
   "metadata": {
    "ExecuteTime": {
     "end_time": "2020-04-15T23:38:06.336073Z",
     "start_time": "2020-04-15T23:38:06.308072Z"
    },
    "hidden": true
   },
   "outputs": [
    {
     "data": {
      "text/html": [
       "<div>\n",
       "<style scoped>\n",
       "    .dataframe tbody tr th:only-of-type {\n",
       "        vertical-align: middle;\n",
       "    }\n",
       "\n",
       "    .dataframe tbody tr th {\n",
       "        vertical-align: top;\n",
       "    }\n",
       "\n",
       "    .dataframe thead th {\n",
       "        text-align: right;\n",
       "    }\n",
       "</style>\n",
       "<table border=\"1\" class=\"dataframe\">\n",
       "  <thead>\n",
       "    <tr style=\"text-align: right;\">\n",
       "      <th></th>\n",
       "      <th>0-4</th>\n",
       "      <th>5-9</th>\n",
       "      <th>10-19</th>\n",
       "      <th>20-29</th>\n",
       "      <th>30-39</th>\n",
       "      <th>40-49</th>\n",
       "      <th>50-59</th>\n",
       "      <th>60-69</th>\n",
       "      <th>70+</th>\n",
       "    </tr>\n",
       "    <tr>\n",
       "      <th>cell_id</th>\n",
       "      <th></th>\n",
       "      <th></th>\n",
       "      <th></th>\n",
       "      <th></th>\n",
       "      <th></th>\n",
       "      <th></th>\n",
       "      <th></th>\n",
       "      <th></th>\n",
       "      <th></th>\n",
       "    </tr>\n",
       "  </thead>\n",
       "  <tbody>\n",
       "    <tr>\n",
       "      <th>2000001</th>\n",
       "      <td>0.000667</td>\n",
       "      <td>0.000689</td>\n",
       "      <td>0.001106</td>\n",
       "      <td>0.000712</td>\n",
       "      <td>0.000686</td>\n",
       "      <td>0.000605</td>\n",
       "      <td>0.000331</td>\n",
       "      <td>0.000226</td>\n",
       "      <td>0.000140</td>\n",
       "    </tr>\n",
       "    <tr>\n",
       "      <th>2000002</th>\n",
       "      <td>0.000997</td>\n",
       "      <td>0.001007</td>\n",
       "      <td>0.001857</td>\n",
       "      <td>0.001312</td>\n",
       "      <td>0.000979</td>\n",
       "      <td>0.000809</td>\n",
       "      <td>0.000527</td>\n",
       "      <td>0.000280</td>\n",
       "      <td>0.000198</td>\n",
       "    </tr>\n",
       "    <tr>\n",
       "      <th>2000003</th>\n",
       "      <td>0.001051</td>\n",
       "      <td>0.001049</td>\n",
       "      <td>0.001906</td>\n",
       "      <td>0.001402</td>\n",
       "      <td>0.000940</td>\n",
       "      <td>0.000761</td>\n",
       "      <td>0.000507</td>\n",
       "      <td>0.000249</td>\n",
       "      <td>0.000154</td>\n",
       "    </tr>\n",
       "    <tr>\n",
       "      <th>2000004</th>\n",
       "      <td>0.000251</td>\n",
       "      <td>0.000242</td>\n",
       "      <td>0.000445</td>\n",
       "      <td>0.000418</td>\n",
       "      <td>0.000284</td>\n",
       "      <td>0.000231</td>\n",
       "      <td>0.000205</td>\n",
       "      <td>0.000125</td>\n",
       "      <td>0.000114</td>\n",
       "    </tr>\n",
       "    <tr>\n",
       "      <th>2000005</th>\n",
       "      <td>0.000384</td>\n",
       "      <td>0.000401</td>\n",
       "      <td>0.000760</td>\n",
       "      <td>0.000698</td>\n",
       "      <td>0.000489</td>\n",
       "      <td>0.000423</td>\n",
       "      <td>0.000323</td>\n",
       "      <td>0.000232</td>\n",
       "      <td>0.000206</td>\n",
       "    </tr>\n",
       "    <tr>\n",
       "      <th>...</th>\n",
       "      <td>...</td>\n",
       "      <td>...</td>\n",
       "      <td>...</td>\n",
       "      <td>...</td>\n",
       "      <td>...</td>\n",
       "      <td>...</td>\n",
       "      <td>...</td>\n",
       "      <td>...</td>\n",
       "      <td>...</td>\n",
       "    </tr>\n",
       "    <tr>\n",
       "      <th>2000246</th>\n",
       "      <td>0.000750</td>\n",
       "      <td>0.000725</td>\n",
       "      <td>0.001054</td>\n",
       "      <td>0.000800</td>\n",
       "      <td>0.000673</td>\n",
       "      <td>0.000422</td>\n",
       "      <td>0.000327</td>\n",
       "      <td>0.000238</td>\n",
       "      <td>0.000135</td>\n",
       "    </tr>\n",
       "    <tr>\n",
       "      <th>2000247</th>\n",
       "      <td>0.000724</td>\n",
       "      <td>0.000647</td>\n",
       "      <td>0.000742</td>\n",
       "      <td>0.000653</td>\n",
       "      <td>0.000539</td>\n",
       "      <td>0.000297</td>\n",
       "      <td>0.000201</td>\n",
       "      <td>0.000154</td>\n",
       "      <td>0.000066</td>\n",
       "    </tr>\n",
       "    <tr>\n",
       "      <th>2000248</th>\n",
       "      <td>0.000269</td>\n",
       "      <td>0.000276</td>\n",
       "      <td>0.000434</td>\n",
       "      <td>0.000325</td>\n",
       "      <td>0.000306</td>\n",
       "      <td>0.000271</td>\n",
       "      <td>0.000199</td>\n",
       "      <td>0.000203</td>\n",
       "      <td>0.000092</td>\n",
       "    </tr>\n",
       "    <tr>\n",
       "      <th>2000249</th>\n",
       "      <td>0.000253</td>\n",
       "      <td>0.000276</td>\n",
       "      <td>0.000414</td>\n",
       "      <td>0.000299</td>\n",
       "      <td>0.000306</td>\n",
       "      <td>0.000313</td>\n",
       "      <td>0.000223</td>\n",
       "      <td>0.000179</td>\n",
       "      <td>0.000107</td>\n",
       "    </tr>\n",
       "    <tr>\n",
       "      <th>2000250</th>\n",
       "      <td>0.000344</td>\n",
       "      <td>0.000281</td>\n",
       "      <td>0.000354</td>\n",
       "      <td>0.000370</td>\n",
       "      <td>0.000285</td>\n",
       "      <td>0.000189</td>\n",
       "      <td>0.000179</td>\n",
       "      <td>0.000167</td>\n",
       "      <td>0.000092</td>\n",
       "    </tr>\n",
       "  </tbody>\n",
       "</table>\n",
       "<p>250 rows × 9 columns</p>\n",
       "</div>"
      ],
      "text/plain": [
       "              0-4       5-9     10-19     20-29     30-39     40-49     50-59  \\\n",
       "cell_id                                                                         \n",
       "2000001  0.000667  0.000689  0.001106  0.000712  0.000686  0.000605  0.000331   \n",
       "2000002  0.000997  0.001007  0.001857  0.001312  0.000979  0.000809  0.000527   \n",
       "2000003  0.001051  0.001049  0.001906  0.001402  0.000940  0.000761  0.000507   \n",
       "2000004  0.000251  0.000242  0.000445  0.000418  0.000284  0.000231  0.000205   \n",
       "2000005  0.000384  0.000401  0.000760  0.000698  0.000489  0.000423  0.000323   \n",
       "...           ...       ...       ...       ...       ...       ...       ...   \n",
       "2000246  0.000750  0.000725  0.001054  0.000800  0.000673  0.000422  0.000327   \n",
       "2000247  0.000724  0.000647  0.000742  0.000653  0.000539  0.000297  0.000201   \n",
       "2000248  0.000269  0.000276  0.000434  0.000325  0.000306  0.000271  0.000199   \n",
       "2000249  0.000253  0.000276  0.000414  0.000299  0.000306  0.000313  0.000223   \n",
       "2000250  0.000344  0.000281  0.000354  0.000370  0.000285  0.000189  0.000179   \n",
       "\n",
       "            60-69       70+  \n",
       "cell_id                      \n",
       "2000001  0.000226  0.000140  \n",
       "2000002  0.000280  0.000198  \n",
       "2000003  0.000249  0.000154  \n",
       "2000004  0.000125  0.000114  \n",
       "2000005  0.000232  0.000206  \n",
       "...           ...       ...  \n",
       "2000246  0.000238  0.000135  \n",
       "2000247  0.000154  0.000066  \n",
       "2000248  0.000203  0.000092  \n",
       "2000249  0.000179  0.000107  \n",
       "2000250  0.000167  0.000092  \n",
       "\n",
       "[250 rows x 9 columns]"
      ]
     },
     "execution_count": 11,
     "metadata": {},
     "output_type": "execute_result"
    }
   ],
   "source": [
    "age_dist_area"
   ]
  },
  {
   "cell_type": "code",
   "execution_count": 12,
   "metadata": {
    "ExecuteTime": {
     "end_time": "2020-04-15T23:38:07.571144Z",
     "start_time": "2020-04-15T23:38:07.564144Z"
    },
    "hidden": true
   },
   "outputs": [],
   "source": [
    "age_dist_area = age_dist_area.stack()"
   ]
  },
  {
   "cell_type": "code",
   "execution_count": 13,
   "metadata": {
    "ExecuteTime": {
     "end_time": "2020-04-15T23:38:08.315187Z",
     "start_time": "2020-04-15T23:38:08.301186Z"
    },
    "hidden": true
   },
   "outputs": [
    {
     "data": {
      "text/plain": [
       "cell_id       \n",
       "2000001  0-4      0.000667\n",
       "         5-9      0.000689\n",
       "         10-19    0.001106\n",
       "         20-29    0.000712\n",
       "         30-39    0.000686\n",
       "                    ...   \n",
       "2000250  30-39    0.000285\n",
       "         40-49    0.000189\n",
       "         50-59    0.000179\n",
       "         60-69    0.000167\n",
       "         70+      0.000092\n",
       "Length: 2250, dtype: float64"
      ]
     },
     "execution_count": 13,
     "metadata": {},
     "output_type": "execute_result"
    }
   ],
   "source": [
    "age_dist_area"
   ]
  },
  {
   "cell_type": "code",
   "execution_count": 14,
   "metadata": {
    "ExecuteTime": {
     "end_time": "2020-04-15T23:38:09.211238Z",
     "start_time": "2020-04-15T23:38:09.187236Z"
    },
    "hidden": true
   },
   "outputs": [
    {
     "data": {
      "text/plain": [
       "(9000,)"
      ]
     },
     "execution_count": 14,
     "metadata": {},
     "output_type": "execute_result"
    }
   ],
   "source": [
    "init_pop = expand_partial_array(region_age_dict, age_dist_area.values)\n",
    "init_pop.shape"
   ]
  },
  {
   "cell_type": "code",
   "execution_count": 15,
   "metadata": {
    "ExecuteTime": {
     "end_time": "2020-04-15T23:38:10.249297Z",
     "start_time": "2020-04-15T23:38:10.237297Z"
    },
    "hidden": true
   },
   "outputs": [
    {
     "data": {
      "text/plain": [
       "array([0.00000000e+00, 0.00000000e+00, 0.00000000e+00, ...,\n",
       "       1.78939857e-04, 1.67125238e-04, 9.18787343e-05])"
      ]
     },
     "execution_count": 15,
     "metadata": {},
     "output_type": "execute_result"
    }
   ],
   "source": [
    "init_pop[inter_dict['Intervention']]=0\n",
    "init_pop"
   ]
  },
  {
   "cell_type": "code",
   "execution_count": 16,
   "metadata": {
    "ExecuteTime": {
     "end_time": "2020-04-15T23:38:24.336103Z",
     "start_time": "2020-04-15T23:38:24.291100Z"
    },
    "hidden": true
   },
   "outputs": [
    {
     "data": {
      "text/plain": [
       "      Age  \n",
       "High  0-4      0.050\n",
       "      5-9      0.106\n",
       "      10-19    0.106\n",
       "      20-29    0.149\n",
       "      30-39    0.149\n",
       "      40-49    0.149\n",
       "      50-59    0.330\n",
       "      60-69    0.421\n",
       "      70+      0.512\n",
       "Low   0-4      0.950\n",
       "      5-9      0.894\n",
       "      10-19    0.894\n",
       "      20-29    0.851\n",
       "      30-39    0.851\n",
       "      40-49    0.851\n",
       "      50-59    0.670\n",
       "      60-69    0.579\n",
       "      70+      0.488\n",
       "dtype: float64"
      ]
     },
     "execution_count": 16,
     "metadata": {},
     "output_type": "execute_result"
    }
   ],
   "source": [
    "risk_pop = pd.read_csv('../Data/raw/risk_dist.csv')\n",
    "risk_pop.set_index('Age', inplace=True)\n",
    "risk_pop['High'] = risk_pop['risk']\n",
    "risk_pop['Low'] = 1 - risk_pop['risk']\n",
    "risk_pop.drop(['risk'], axis=1, inplace=True)\n",
    "risk_pop = risk_pop.stack()\n",
    "risk_pop.index = risk_pop.index.swaplevel(0, 1)\n",
    "risk_pop = risk_pop.unstack().stack()\n",
    "risk_pop"
   ]
  },
  {
   "cell_type": "code",
   "execution_count": 17,
   "metadata": {
    "ExecuteTime": {
     "end_time": "2020-04-15T23:38:25.605176Z",
     "start_time": "2020-04-15T23:38:25.593175Z"
    },
    "hidden": true
   },
   "outputs": [],
   "source": [
    "for (r, a), g_idx in zip(risk_age_dict.keys(), risk_age_dict.values()):\n",
    "    init_pop[g_idx] = init_pop[g_idx] * risk_pop[r,a]\n",
    "    \n",
    "# Age distribution:\n",
    "pop_dist = init_pop"
   ]
  },
  {
   "cell_type": "code",
   "execution_count": 18,
   "metadata": {
    "ExecuteTime": {
     "end_time": "2020-04-15T23:38:26.507227Z",
     "start_time": "2020-04-15T23:38:26.493226Z"
    },
    "hidden": true
   },
   "outputs": [],
   "source": [
    "# Save\n",
    "with open('../Data/parameters/init_pop.pickle', 'wb') as handle:\n",
    "    pickle.dump(pop_dist, handle, protocol=pickle.HIGHEST_PROTOCOL)"
   ]
  },
  {
   "cell_type": "code",
   "execution_count": 19,
   "metadata": {
    "ExecuteTime": {
     "end_time": "2020-04-15T23:38:27.574288Z",
     "start_time": "2020-04-15T23:38:27.562287Z"
    },
    "hidden": true
   },
   "outputs": [
    {
     "data": {
      "text/plain": [
       "18"
      ]
     },
     "execution_count": 19,
     "metadata": {},
     "output_type": "execute_result"
    }
   ],
   "source": [
    "len(R)*len(A)"
   ]
  },
  {
   "cell_type": "code",
   "execution_count": 20,
   "metadata": {
    "ExecuteTime": {
     "end_time": "2020-04-15T23:38:28.655350Z",
     "start_time": "2020-04-15T23:38:28.609347Z"
    },
    "hidden": true
   },
   "outputs": [],
   "source": [
    "# risk distribution by age:\n",
    "risk_dist = pd.read_csv('../Data/raw/population_size.csv')\n",
    "\n",
    "init_I_dis_italy = pd.read_csv('../Data/raw/init_i_italy.csv')['proportion'].values[:-1]\n",
    "\n",
    "f_init = pd.read_pickle('../Data/parameters/f0_full.pickle')\n",
    "\n",
    "eps_t = {}"
   ]
  },
  {
   "cell_type": "code",
   "execution_count": 21,
   "metadata": {
    "ExecuteTime": {
     "end_time": "2020-04-15T23:38:29.715411Z",
     "start_time": "2020-04-15T23:38:29.706410Z"
    },
    "hidden": true,
    "run_control": {
     "marked": true
    }
   },
   "outputs": [
    {
     "data": {
      "text/plain": [
       "0.9999999999999999"
      ]
     },
     "execution_count": 21,
     "metadata": {},
     "output_type": "execute_result"
    }
   ],
   "source": [
    "init_I_dis_italy.sum()"
   ]
  },
  {
   "cell_type": "code",
   "execution_count": 22,
   "metadata": {
    "ExecuteTime": {
     "end_time": "2020-04-15T23:38:30.602461Z",
     "start_time": "2020-04-15T23:38:30.593461Z"
    },
    "hidden": true
   },
   "outputs": [],
   "source": [
    "init_I_IL = {}\n",
    "init_I_dis = {}\n",
    "for i in [1,2,3]:\n",
    "    scen = 'Scenario'+str(i)\n",
    "    f_init_i = f_init[scen][:(len(R)*len(A))]\n",
    "    init_I_IL[scen] = (491./(1-(f_init_i * risk_dist['pop size'].values).sum())) / 9136000.\n",
    "    init_I_dis[scen] = init_I_dis_italy * init_I_IL[scen]"
   ]
  },
  {
   "cell_type": "code",
   "execution_count": 23,
   "metadata": {
    "ExecuteTime": {
     "end_time": "2020-04-15T23:38:31.361505Z",
     "start_time": "2020-04-15T23:38:31.348504Z"
    },
    "hidden": true
   },
   "outputs": [],
   "source": [
    "for i in [1,2,3]:\n",
    "    scen = 'Scenario'+str(i)\n",
    "    eps_t[scen] = []\n",
    "    for i in range(1000):\n",
    "        eps_t[scen].append(init_I_dis[scen][i] * pop_dist if i < len(init_I_dis[scen]) else 0)"
   ]
  },
  {
   "cell_type": "code",
   "execution_count": 24,
   "metadata": {
    "ExecuteTime": {
     "end_time": "2020-04-15T23:38:32.210553Z",
     "start_time": "2020-04-15T23:38:32.186552Z"
    },
    "hidden": true
   },
   "outputs": [],
   "source": [
    "# Save\n",
    "with open('../Data/parameters/eps_dict.pickle', 'wb') as handle:\n",
    "    pickle.dump(eps_t, handle, protocol=pickle.HIGHEST_PROTOCOL)"
   ]
  },
  {
   "cell_type": "markdown",
   "metadata": {
    "ExecuteTime": {
     "end_time": "2020-04-06T22:09:06.738809Z",
     "start_time": "2020-04-06T22:09:06.521369Z"
    },
    "hidden": true
   },
   "source": [
    "## eps by region proportion"
   ]
  },
  {
   "cell_type": "code",
   "execution_count": 28,
   "metadata": {
    "ExecuteTime": {
     "end_time": "2020-04-15T23:39:15.885051Z",
     "start_time": "2020-04-15T23:39:15.866050Z"
    },
    "hidden": true
   },
   "outputs": [
    {
     "name": "stdout",
     "output_type": "stream",
     "text": [
      "cell_id\n",
      "2000001    0.137496\n",
      "2000002    0.137496\n",
      "2000003    0.137496\n",
      "2000004    0.137496\n",
      "2000005    0.137496\n",
      "Name: cases_prop, dtype: float64\n",
      "\n",
      "Age\n",
      "0-4      0.050\n",
      "5-9      0.106\n",
      "10-19    0.106\n",
      "20-29    0.149\n",
      "30-39    0.149\n",
      "Name: risk, dtype: float64\n"
     ]
    }
   ],
   "source": [
    "# Loading data\n",
    "region_prop = pd.read_csv('../Data/demograph/sick_prop.csv', index_col=0)['cases_prop'].copy()\n",
    "region_prop.index = region_prop.index.astype(str)\n",
    "risk_prop = pd.read_csv('../Data/raw/risk_dist.csv', index_col=0)['risk'].copy()\n",
    "print(region_prop.head())\n",
    "print()\n",
    "print(risk_prop.head())"
   ]
  },
  {
   "cell_type": "code",
   "execution_count": 29,
   "metadata": {
    "ExecuteTime": {
     "end_time": "2020-04-15T23:39:16.551089Z",
     "start_time": "2020-04-15T23:39:16.546089Z"
    },
    "hidden": true
   },
   "outputs": [],
   "source": [
    "eps_t_region = {}"
   ]
  },
  {
   "cell_type": "code",
   "execution_count": 30,
   "metadata": {
    "ExecuteTime": {
     "end_time": "2020-04-15T23:39:32.812020Z",
     "start_time": "2020-04-15T23:39:17.474142Z"
    },
    "hidden": true
   },
   "outputs": [],
   "source": [
    "for sc, init_I in zip(init_I_dis.keys(), init_I_dis.values()):\n",
    "    eps_temp = []\n",
    "    for t in range(1000):\n",
    "        if t < len(init_I):\n",
    "            # empty array for day t\n",
    "            day_vec = np.zeros(len(N))\n",
    "            # fill in the array, zero for intervention groups\n",
    "            for key in N.keys():\n",
    "                if N[key][0] == 'Intervention':\n",
    "                    day_vec[key] = 0\n",
    "                else:\n",
    "                    day_vec[key] = init_I[t] * region_prop[N[key][1]] * age_dist[N[key][3]] * \\\n",
    "                    (risk_prop[N[key][3]]**(1 - (N[key][2] == 'Low'))) * \\\n",
    "                    ((1 - risk_prop[N[key][3]])**(N[key][2] == 'Low'))\n",
    "            eps_temp.append(day_vec)\n",
    "        else:\n",
    "             eps_temp.append(0.0)\n",
    "        \n",
    "        eps_t_region[sc] = eps_temp\n"
   ]
  },
  {
   "cell_type": "code",
   "execution_count": 31,
   "metadata": {
    "ExecuteTime": {
     "end_time": "2020-04-15T23:39:39.170383Z",
     "start_time": "2020-04-15T23:39:39.145382Z"
    },
    "hidden": true
   },
   "outputs": [],
   "source": [
    "# save eps:\n",
    "with open('../Data/parameters/eps_by_region.pickle', 'wb') as handle:\n",
    "    pickle.dump(eps_t_region, handle, protocol=pickle.HIGHEST_PROTOCOL)  "
   ]
  },
  {
   "cell_type": "markdown",
   "metadata": {
    "heading_collapsed": true,
    "hidden": true
   },
   "source": [
    "## Smoothed eps by region -------------- UNFINISHED -------------------"
   ]
  },
  {
   "cell_type": "code",
   "execution_count": 134,
   "metadata": {
    "ExecuteTime": {
     "end_time": "2020-04-15T17:10:14.950026Z",
     "start_time": "2020-04-15T17:10:14.940026Z"
    },
    "hidden": true
   },
   "outputs": [
    {
     "data": {
      "text/plain": [
       "array([  0.78180071,   2.94105921,   5.84488904,   8.5253491 ,\n",
       "        12.02483762,  17.497441  ,  24.38473153,  33.09622265,\n",
       "        41.99385742,  39.83459892,  75.79742365,  93.14595037,\n",
       "       114.9991361 , 143.6279275 , 172.5917768 , 219.0158361 ,\n",
       "       274.5609032 , 341.4606921 ])"
      ]
     },
     "execution_count": 134,
     "metadata": {},
     "output_type": "execute_result"
    }
   ],
   "source": [
    "########## UNFINISHED ############\n",
    "init_eps = pd.read_csv('../Data/raw/IL_initial_eps.csv', header=None).values[:,0].copy()\n",
    "init_eps"
   ]
  },
  {
   "cell_type": "code",
   "execution_count": 135,
   "metadata": {
    "ExecuteTime": {
     "end_time": "2020-04-15T17:12:13.165788Z",
     "start_time": "2020-04-15T17:12:13.160787Z"
    },
    "hidden": true
   },
   "outputs": [],
   "source": [
    "init_eps_asymp = {}\n",
    "for i in [1,2,3]:\n",
    "    scen = 'Scenario'+str(i)\n",
    "    f_init_i = f_init[scen][:(len(R)*len(A))]\n",
    "    init_eps_asymp[scen] = (init_eps/(1-(f_init_i * risk_dist['pop size'].values).sum())) / 9136000."
   ]
  },
  {
   "cell_type": "code",
   "execution_count": 136,
   "metadata": {
    "ExecuteTime": {
     "end_time": "2020-04-15T17:12:14.084840Z",
     "start_time": "2020-04-15T17:12:14.077840Z"
    },
    "hidden": true
   },
   "outputs": [
    {
     "data": {
      "text/plain": [
       "array([0.        , 0.        , 0.        , 0.        , 0.        ,\n",
       "       0.        , 0.        , 0.        , 0.        , 0.6127786 ,\n",
       "       0.6127786 , 0.62218712, 0.58971125, 0.57587446, 0.59021178,\n",
       "       0.56415614, 0.54046208, 0.14933333])"
      ]
     },
     "execution_count": 136,
     "metadata": {},
     "output_type": "execute_result"
    }
   ],
   "source": [
    "f_init['Scenario3'][:(len(R)*len(A))]"
   ]
  },
  {
   "cell_type": "code",
   "execution_count": 137,
   "metadata": {
    "ExecuteTime": {
     "end_time": "2020-04-15T17:12:33.948977Z",
     "start_time": "2020-04-15T17:12:33.943976Z"
    },
    "hidden": true
   },
   "outputs": [
    {
     "data": {
      "text/plain": [
       "3003.15972721764"
      ]
     },
     "execution_count": 137,
     "metadata": {},
     "output_type": "execute_result"
    }
   ],
   "source": [
    "init_eps_asymp['Scenario3'].sum()*9136000"
   ]
  },
  {
   "cell_type": "code",
   "execution_count": 138,
   "metadata": {
    "ExecuteTime": {
     "end_time": "2020-04-15T17:12:52.916061Z",
     "start_time": "2020-04-15T17:12:52.911061Z"
    },
    "hidden": true
   },
   "outputs": [
    {
     "ename": "SyntaxError",
     "evalue": "invalid syntax (<ipython-input-138-958ad179e108>, line 1)",
     "output_type": "error",
     "traceback": [
      "\u001b[1;36m  File \u001b[1;32m\"<ipython-input-138-958ad179e108>\"\u001b[1;36m, line \u001b[1;32m1\u001b[0m\n\u001b[1;33m    def fill_eps_day(init_eps, dic=mdl.N, age_)\u001b[0m\n\u001b[1;37m                                               ^\u001b[0m\n\u001b[1;31mSyntaxError\u001b[0m\u001b[1;31m:\u001b[0m invalid syntax\n"
     ]
    }
   ],
   "source": [
    "def fill_eps_day(init_eps, dic=mdl.N, age_)"
   ]
  },
  {
   "cell_type": "code",
   "execution_count": null,
   "metadata": {
    "hidden": true
   },
   "outputs": [],
   "source": [
    "eps_reg = []\n"
   ]
  },
  {
   "cell_type": "markdown",
   "metadata": {
    "heading_collapsed": true
   },
   "source": [
    "# Hospitalizations"
   ]
  },
  {
   "cell_type": "code",
   "execution_count": 32,
   "metadata": {
    "ExecuteTime": {
     "end_time": "2020-04-15T23:40:06.364939Z",
     "start_time": "2020-04-15T23:40:06.338937Z"
    },
    "hidden": true
   },
   "outputs": [
    {
     "data": {
      "text/html": [
       "<div>\n",
       "<style scoped>\n",
       "    .dataframe tbody tr th:only-of-type {\n",
       "        vertical-align: middle;\n",
       "    }\n",
       "\n",
       "    .dataframe tbody tr th {\n",
       "        vertical-align: top;\n",
       "    }\n",
       "\n",
       "    .dataframe thead th {\n",
       "        text-align: right;\n",
       "    }\n",
       "</style>\n",
       "<table border=\"1\" class=\"dataframe\">\n",
       "  <thead>\n",
       "    <tr style=\"text-align: right;\">\n",
       "      <th></th>\n",
       "      <th>Age</th>\n",
       "      <th>risk</th>\n",
       "      <th>pr_hospital</th>\n",
       "    </tr>\n",
       "  </thead>\n",
       "  <tbody>\n",
       "    <tr>\n",
       "      <th>0</th>\n",
       "      <td>0-4</td>\n",
       "      <td>High</td>\n",
       "      <td>0.029022</td>\n",
       "    </tr>\n",
       "    <tr>\n",
       "      <th>1</th>\n",
       "      <td>5-9</td>\n",
       "      <td>High</td>\n",
       "      <td>0.025129</td>\n",
       "    </tr>\n",
       "    <tr>\n",
       "      <th>2</th>\n",
       "      <td>10-19</td>\n",
       "      <td>High</td>\n",
       "      <td>0.025129</td>\n",
       "    </tr>\n",
       "    <tr>\n",
       "      <th>3</th>\n",
       "      <td>20-29</td>\n",
       "      <td>High</td>\n",
       "      <td>0.045566</td>\n",
       "    </tr>\n",
       "    <tr>\n",
       "      <th>4</th>\n",
       "      <td>30-39</td>\n",
       "      <td>High</td>\n",
       "      <td>0.113915</td>\n",
       "    </tr>\n",
       "    <tr>\n",
       "      <th>5</th>\n",
       "      <td>40-49</td>\n",
       "      <td>High</td>\n",
       "      <td>0.136698</td>\n",
       "    </tr>\n",
       "    <tr>\n",
       "      <th>6</th>\n",
       "      <td>50-59</td>\n",
       "      <td>High</td>\n",
       "      <td>0.163551</td>\n",
       "    </tr>\n",
       "    <tr>\n",
       "      <th>7</th>\n",
       "      <td>60-69</td>\n",
       "      <td>High</td>\n",
       "      <td>0.207688</td>\n",
       "    </tr>\n",
       "    <tr>\n",
       "      <th>8</th>\n",
       "      <td>70+</td>\n",
       "      <td>High</td>\n",
       "      <td>0.184739</td>\n",
       "    </tr>\n",
       "    <tr>\n",
       "      <th>9</th>\n",
       "      <td>0-4</td>\n",
       "      <td>Low</td>\n",
       "      <td>0.006894</td>\n",
       "    </tr>\n",
       "    <tr>\n",
       "      <th>10</th>\n",
       "      <td>5-9</td>\n",
       "      <td>Low</td>\n",
       "      <td>0.005969</td>\n",
       "    </tr>\n",
       "    <tr>\n",
       "      <th>11</th>\n",
       "      <td>10-19</td>\n",
       "      <td>Low</td>\n",
       "      <td>0.005969</td>\n",
       "    </tr>\n",
       "    <tr>\n",
       "      <th>12</th>\n",
       "      <td>20-29</td>\n",
       "      <td>Low</td>\n",
       "      <td>0.010823</td>\n",
       "    </tr>\n",
       "    <tr>\n",
       "      <th>13</th>\n",
       "      <td>30-39</td>\n",
       "      <td>Low</td>\n",
       "      <td>0.027058</td>\n",
       "    </tr>\n",
       "    <tr>\n",
       "      <th>14</th>\n",
       "      <td>40-49</td>\n",
       "      <td>Low</td>\n",
       "      <td>0.032470</td>\n",
       "    </tr>\n",
       "    <tr>\n",
       "      <th>15</th>\n",
       "      <td>50-59</td>\n",
       "      <td>Low</td>\n",
       "      <td>0.038848</td>\n",
       "    </tr>\n",
       "    <tr>\n",
       "      <th>16</th>\n",
       "      <td>60-69</td>\n",
       "      <td>Low</td>\n",
       "      <td>0.049332</td>\n",
       "    </tr>\n",
       "    <tr>\n",
       "      <th>17</th>\n",
       "      <td>70+</td>\n",
       "      <td>Low</td>\n",
       "      <td>0.043881</td>\n",
       "    </tr>\n",
       "  </tbody>\n",
       "</table>\n",
       "</div>"
      ],
      "text/plain": [
       "      Age  risk  pr_hospital\n",
       "0     0-4  High     0.029022\n",
       "1     5-9  High     0.025129\n",
       "2   10-19  High     0.025129\n",
       "3   20-29  High     0.045566\n",
       "4   30-39  High     0.113915\n",
       "5   40-49  High     0.136698\n",
       "6   50-59  High     0.163551\n",
       "7   60-69  High     0.207688\n",
       "8     70+  High     0.184739\n",
       "9     0-4   Low     0.006894\n",
       "10    5-9   Low     0.005969\n",
       "11  10-19   Low     0.005969\n",
       "12  20-29   Low     0.010823\n",
       "13  30-39   Low     0.027058\n",
       "14  40-49   Low     0.032470\n",
       "15  50-59   Low     0.038848\n",
       "16  60-69   Low     0.049332\n",
       "17    70+   Low     0.043881"
      ]
     },
     "execution_count": 32,
     "metadata": {},
     "output_type": "execute_result"
    }
   ],
   "source": [
    "hosp_init = pd.read_csv('../Data/raw/hospitalizations.csv')\n",
    "hosp_init"
   ]
  },
  {
   "cell_type": "code",
   "execution_count": 33,
   "metadata": {
    "ExecuteTime": {
     "end_time": "2020-04-15T23:40:06.818965Z",
     "start_time": "2020-04-15T23:40:06.809964Z"
    },
    "hidden": true
   },
   "outputs": [],
   "source": [
    "hosp = expand_partial_array(risk_age_dict, hosp_init['pr_hospital'].values)"
   ]
  },
  {
   "cell_type": "code",
   "execution_count": 34,
   "metadata": {
    "ExecuteTime": {
     "end_time": "2020-04-15T23:40:07.634011Z",
     "start_time": "2020-04-15T23:40:07.626011Z"
    },
    "hidden": true
   },
   "outputs": [],
   "source": [
    "# Save\n",
    "with open('../Data/parameters/hospitalization.pickle', 'wb') as handle:\n",
    "    pickle.dump(hosp, handle, protocol=pickle.HIGHEST_PROTOCOL)"
   ]
  },
  {
   "cell_type": "markdown",
   "metadata": {},
   "source": [
    "# Calibration contact matrix"
   ]
  },
  {
   "cell_type": "code",
   "execution_count": 34,
   "metadata": {
    "ExecuteTime": {
     "end_time": "2020-04-17T11:06:28.137199Z",
     "start_time": "2020-04-17T11:06:28.120198Z"
    }
   },
   "outputs": [
    {
     "data": {
      "text/plain": [
       "<2250x2250 sparse matrix of type '<class 'numpy.float64'>'\n",
       "\twith 2944408 stored elements in Compressed Sparse Row format>"
      ]
     },
     "execution_count": 34,
     "metadata": {},
     "output_type": "execute_result"
    }
   ],
   "source": [
    "C_calibration['work_non'][-1]"
   ]
  },
  {
   "cell_type": "markdown",
   "metadata": {},
   "source": [
    "Important : here no intervention mean the course of interventions made by government"
   ]
  },
  {
   "cell_type": "code",
   "execution_count": 9,
   "metadata": {
    "ExecuteTime": {
     "end_time": "2020-04-17T10:06:36.969796Z",
     "start_time": "2020-04-17T10:06:25.675150Z"
    }
   },
   "outputs": [],
   "source": [
    "full_mtx_home = pd.read_csv('../Data/base_contact_mtx/full_home_mtx.csv', index_col=[0,1],header=[0, 1]).values\n",
    "full_mtx_work = {'routine':pd.read_csv('../Data/base_contact_mtx/full_work_mtx_routine.csv', index_col=[0,1],header=[0, 1]).values,\n",
    "                        'no_school':pd.read_csv('../Data/base_contact_mtx/full_work_mtx_no_school.csv', index_col=[0,1],header=[0, 1]).values,\n",
    "                        'no_work':pd.read_csv('../Data/base_contact_mtx/full_work_mtx_no_work.csv', index_col=[0,1],header=[0, 1]).values}\n",
    "\n",
    "full_mtx_leisure = {'routine':pd.read_csv('../Data/base_contact_mtx/full_leisure_mtx_routine.csv', index_col=[0,1],header=[0, 1]).values,\n",
    "                        'no_school':pd.read_csv('../Data/base_contact_mtx/full_leisure_mtx_no_school.csv', index_col=[0,1],header=[0, 1]).values,\n",
    "                        'no_work':pd.read_csv('../Data/base_contact_mtx/full_leisure_mtx_no_work.csv', index_col=[0,1],header=[0, 1]).values}"
   ]
  },
  {
   "cell_type": "code",
   "execution_count": 16,
   "metadata": {
    "ExecuteTime": {
     "end_time": "2020-04-17T10:10:12.492123Z",
     "start_time": "2020-04-17T10:10:12.137102Z"
    }
   },
   "outputs": [
    {
     "name": "stdout",
     "output_type": "stream",
     "text": [
      "size:  (2250, 2250)\n",
      "sparse ratio:  0.41838854320987656\n",
      "sparse size:  56\n",
      "original size:  112\n",
      "todense size:  136\n"
     ]
    }
   ],
   "source": [
    "A = full_mtx_work['no_work']\n",
    "print('size: ', A.shape)\n",
    "print('sparse ratio: ', (A==0).sum()/(A.shape[0]*A.shape[1]))\n",
    "\n",
    "S = csr_matrix(A)\n",
    "print('sparse size: ', sys.getsizeof(S))\n",
    "print('original size: ', sys.getsizeof(A))\n",
    "print('todense size: ', sys.getsizeof(S.todense()))"
   ]
  },
  {
   "cell_type": "code",
   "execution_count": 13,
   "metadata": {
    "ExecuteTime": {
     "end_time": "2020-04-17T10:09:18.921059Z",
     "start_time": "2020-04-17T10:09:18.912058Z"
    }
   },
   "outputs": [
    {
     "data": {
      "text/plain": [
       "array([[0.00000000e+00, 0.00000000e+00, 0.00000000e+00, ...,\n",
       "        0.00000000e+00, 0.00000000e+00, 0.00000000e+00],\n",
       "       [0.00000000e+00, 7.38444903e+01, 1.33933911e+02, ...,\n",
       "        2.09936579e-02, 1.22043344e-03, 1.41450222e-06],\n",
       "       [0.00000000e+00, 8.01964103e+01, 5.43366558e+02, ...,\n",
       "        1.11516310e-01, 8.69362823e-03, 5.40733761e-06],\n",
       "       ...,\n",
       "       [0.00000000e+00, 1.59425432e-02, 7.00124066e-02, ...,\n",
       "        1.73099492e+03, 8.96781528e+01, 5.85054392e-02],\n",
       "       [3.55261182e-07, 1.33052063e-03, 8.64787522e-03, ...,\n",
       "        2.06101890e+02, 1.24411491e+01, 9.78396045e-02],\n",
       "       [0.00000000e+00, 5.60739257e-07, 6.91259075e-06, ...,\n",
       "        4.93882780e-02, 3.83423208e-02, 4.69365670e-02]])"
      ]
     },
     "execution_count": 13,
     "metadata": {},
     "output_type": "execute_result"
    }
   ],
   "source": [
    "full_mtx_work['no_work']"
   ]
  },
  {
   "cell_type": "code",
   "execution_count": 29,
   "metadata": {
    "ExecuteTime": {
     "end_time": "2020-04-17T10:58:56.334357Z",
     "start_time": "2020-04-17T10:58:56.327357Z"
    }
   },
   "outputs": [],
   "source": [
    "C_calibration = {}\n",
    "d_tot = 1000"
   ]
  },
  {
   "cell_type": "code",
   "execution_count": 30,
   "metadata": {
    "ExecuteTime": {
     "end_time": "2020-04-17T10:58:57.153404Z",
     "start_time": "2020-04-17T10:58:56.701378Z"
    }
   },
   "outputs": [],
   "source": [
    "# no intervation are null groups\n",
    "home_no_inter = []\n",
    "work_no_inter = []\n",
    "leis_no_inter = []\n",
    "\n",
    "for i in range(d_tot):\n",
    "    home_no_inter.append(csr_matrix((full_mtx_home.shape[0], full_mtx_home.shape[1])))\n",
    "    work_no_inter.append(csr_matrix((full_mtx_work['routine'].shape[0], full_mtx_work['routine'].shape[1])))\n",
    "    leis_no_inter.append(csr_matrix((full_mtx_leisure['routine'].shape[0], full_mtx_leisure['routine'].shape[1])))"
   ]
  },
  {
   "cell_type": "code",
   "execution_count": 31,
   "metadata": {
    "ExecuteTime": {
     "end_time": "2020-04-17T10:58:57.450421Z",
     "start_time": "2020-04-17T10:58:57.431420Z"
    }
   },
   "outputs": [
    {
     "name": "stdout",
     "output_type": "stream",
     "text": [
      "0\n",
      "100\n",
      "200\n",
      "300\n",
      "400\n",
      "500\n",
      "600\n",
      "700\n",
      "800\n",
      "900\n"
     ]
    }
   ],
   "source": [
    "# Intervantion\n",
    "home_inter = []\n",
    "work_inter = []\n",
    "leis_inter = []\n",
    "\n",
    "# first days of routine from feb 21st\n",
    "d_rout = 9+14\n",
    "full_mtx_home = csr_matrix(full_mtx_home)\n",
    "full_mtx_work['routine'] = csr_matrix(full_mtx_work['routine'])\n",
    "full_mtx_leisure['routine'] = csr_matrix(full_mtx_leisure['routine'])\n",
    "for i in range(d_rout):\n",
    "    home_inter.append(full_mtx_home)\n",
    "    work_inter.append(full_mtx_work['routine'])\n",
    "    leis_inter.append(full_mtx_leisure['routine'])\n",
    "\n",
    "# first days of no school from march 14th\n",
    "d_no_school = 2\n",
    "full_mtx_work['no_school'] = csr_matrix(full_mtx_work['no_school'])\n",
    "full_mtx_leisure['no_school'] = csr_matrix(full_mtx_leisure['no_school'])\n",
    "for i in range(d_no_school):\n",
    "    home_inter.append(full_mtx_home)\n",
    "    work_inter.append(full_mtx_work['no_school'])\n",
    "    leis_inter.append(full_mtx_leisure['no_school'])\n",
    "\n",
    "# without school and work\n",
    "full_mtx_work['no_work'] = csr_matrix(full_mtx_work['no_work'])\n",
    "full_mtx_leisure['no_work'] = csr_matrix(full_mtx_leisure['no_work'])\n",
    "for i in range(d_tot-d_no_school-d_rout):\n",
    "    if i%100 == 0:\n",
    "        print(i)\n",
    "    home_inter.append(full_mtx_home)\n",
    "    work_inter.append(full_mtx_work['no_work'])\n",
    "    leis_inter.append(full_mtx_leisure['no_work'])"
   ]
  },
  {
   "cell_type": "code",
   "execution_count": 32,
   "metadata": {
    "ExecuteTime": {
     "end_time": "2020-04-17T10:59:13.589344Z",
     "start_time": "2020-04-17T10:59:13.581343Z"
    }
   },
   "outputs": [],
   "source": [
    "C_calibration['home_inter'] = home_no_inter\n",
    "C_calibration['work_inter'] = work_no_inter\n",
    "C_calibration['leisure_inter'] = leis_no_inter\n",
    "C_calibration['home_non'] = home_inter\n",
    "C_calibration['work_non'] = work_inter\n",
    "C_calibration['leisure_non'] = leis_inter"
   ]
  },
  {
   "cell_type": "code",
   "execution_count": 33,
   "metadata": {
    "ExecuteTime": {
     "end_time": "2020-04-17T10:59:20.017712Z",
     "start_time": "2020-04-17T10:59:18.598630Z"
    },
    "run_control": {
     "marked": true
    }
   },
   "outputs": [],
   "source": [
    "# Save\n",
    "with open('../Data/parameters/C_calibration.pickle', 'wb') as handle:\n",
    "    pickle.dump(C_calibration, handle, protocol=pickle.HIGHEST_PROTOCOL)"
   ]
  },
  {
   "cell_type": "markdown",
   "metadata": {},
   "source": [
    "# Haredi vector"
   ]
  },
  {
   "cell_type": "code",
   "execution_count": 152,
   "metadata": {
    "ExecuteTime": {
     "end_time": "2020-04-15T17:15:57.334610Z",
     "start_time": "2020-04-15T17:15:57.309608Z"
    }
   },
   "outputs": [
    {
     "data": {
      "text/html": [
       "<div>\n",
       "<style scoped>\n",
       "    .dataframe tbody tr th:only-of-type {\n",
       "        vertical-align: middle;\n",
       "    }\n",
       "\n",
       "    .dataframe tbody tr th {\n",
       "        vertical-align: top;\n",
       "    }\n",
       "\n",
       "    .dataframe thead th {\n",
       "        text-align: right;\n",
       "    }\n",
       "</style>\n",
       "<table border=\"1\" class=\"dataframe\">\n",
       "  <thead>\n",
       "    <tr style=\"text-align: right;\">\n",
       "      <th></th>\n",
       "      <th>Orthodox</th>\n",
       "    </tr>\n",
       "    <tr>\n",
       "      <th>cell_id</th>\n",
       "      <th></th>\n",
       "    </tr>\n",
       "  </thead>\n",
       "  <tbody>\n",
       "    <tr>\n",
       "      <th>11</th>\n",
       "      <td>0.284237</td>\n",
       "    </tr>\n",
       "    <tr>\n",
       "      <th>11_betshemesh</th>\n",
       "      <td>0.414140</td>\n",
       "    </tr>\n",
       "    <tr>\n",
       "      <th>21</th>\n",
       "      <td>0.064046</td>\n",
       "    </tr>\n",
       "    <tr>\n",
       "      <th>22</th>\n",
       "      <td>0.017311</td>\n",
       "    </tr>\n",
       "    <tr>\n",
       "      <th>23</th>\n",
       "      <td>0.005263</td>\n",
       "    </tr>\n",
       "  </tbody>\n",
       "</table>\n",
       "</div>"
      ],
      "text/plain": [
       "               Orthodox\n",
       "cell_id                \n",
       "11             0.284237\n",
       "11_betshemesh  0.414140\n",
       "21             0.064046\n",
       "22             0.017311\n",
       "23             0.005263"
      ]
     },
     "execution_count": 152,
     "metadata": {},
     "output_type": "execute_result"
    }
   ],
   "source": [
    "# Loading raw data\n",
    "hared_dis = pd.read_csv('../Data/demograph/religion_dis.csv', index_col=0)[['cell_id','Orthodox']].copy()\n",
    "hared_dis.set_index('cell_id', inplace=True)\n",
    "hared_dis.head()"
   ]
  },
  {
   "cell_type": "code",
   "execution_count": 153,
   "metadata": {
    "ExecuteTime": {
     "end_time": "2020-04-15T17:15:58.314666Z",
     "start_time": "2020-04-15T17:15:58.242661Z"
    },
    "run_control": {
     "marked": true
    }
   },
   "outputs": [],
   "source": [
    "# Creating model orthodox dist. and save it as pickle\n",
    "model_orthodox_dis = np.zeros(len(GA))\n",
    "for i in GA.keys():\n",
    "    model_orthodox_dis[i] = hared_dis.loc[str(GA[i][0])]\n",
    "    \n",
    "with open('../Data/parameters/orthodox_dist.pickle', 'wb') as handle:\n",
    "    pickle.dump(model_orthodox_dis, handle, protocol=pickle.HIGHEST_PROTOCOL)  "
   ]
  },
  {
   "cell_type": "code",
   "execution_count": 154,
   "metadata": {
    "ExecuteTime": {
     "end_time": "2020-04-15T17:15:59.104711Z",
     "start_time": "2020-04-15T17:15:59.073709Z"
    }
   },
   "outputs": [
    {
     "data": {
      "text/plain": [
       "array([2.84236914e-01, 2.84236914e-01, 2.84236914e-01, 2.84236914e-01,\n",
       "       2.84236914e-01, 2.84236914e-01, 2.84236914e-01, 2.84236914e-01,\n",
       "       2.84236914e-01, 4.14139691e-01, 4.14139691e-01, 4.14139691e-01,\n",
       "       4.14139691e-01, 4.14139691e-01, 4.14139691e-01, 4.14139691e-01,\n",
       "       4.14139691e-01, 4.14139691e-01, 6.40464892e-02, 6.40464892e-02,\n",
       "       6.40464892e-02, 6.40464892e-02, 6.40464892e-02, 6.40464892e-02,\n",
       "       6.40464892e-02, 6.40464892e-02, 6.40464892e-02, 1.73111621e-02,\n",
       "       1.73111621e-02, 1.73111621e-02, 1.73111621e-02, 1.73111621e-02,\n",
       "       1.73111621e-02, 1.73111621e-02, 1.73111621e-02, 1.73111621e-02,\n",
       "       5.26283748e-03, 5.26283748e-03, 5.26283748e-03, 5.26283748e-03,\n",
       "       5.26283748e-03, 5.26283748e-03, 5.26283748e-03, 5.26283748e-03,\n",
       "       5.26283748e-03, 2.59172438e-03, 2.59172438e-03, 2.59172438e-03,\n",
       "       2.59172438e-03, 2.59172438e-03, 2.59172438e-03, 2.59172438e-03,\n",
       "       2.59172438e-03, 2.59172438e-03, 5.13090163e-04, 5.13090163e-04,\n",
       "       5.13090163e-04, 5.13090163e-04, 5.13090163e-04, 5.13090163e-04,\n",
       "       5.13090163e-04, 5.13090163e-04, 5.13090163e-04, 3.12621710e-02,\n",
       "       3.12621710e-02, 3.12621710e-02, 3.12621710e-02, 3.12621710e-02,\n",
       "       3.12621710e-02, 3.12621710e-02, 3.12621710e-02, 3.12621710e-02,\n",
       "       7.66506133e-03, 7.66506133e-03, 7.66506133e-03, 7.66506133e-03,\n",
       "       7.66506133e-03, 7.66506133e-03, 7.66506133e-03, 7.66506133e-03,\n",
       "       7.66506133e-03, 1.51931252e-02, 1.51931252e-02, 1.51931252e-02,\n",
       "       1.51931252e-02, 1.51931252e-02, 1.51931252e-02, 1.51931252e-02,\n",
       "       1.51931252e-02, 1.51931252e-02, 5.76742572e-02, 5.76742572e-02,\n",
       "       5.76742572e-02, 5.76742572e-02, 5.76742572e-02, 5.76742572e-02,\n",
       "       5.76742572e-02, 5.76742572e-02, 5.76742572e-02, 1.86781138e-02,\n",
       "       1.86781138e-02, 1.86781138e-02, 1.86781138e-02, 1.86781138e-02,\n",
       "       1.86781138e-02, 1.86781138e-02, 1.86781138e-02, 1.86781138e-02,\n",
       "       1.69848882e-02, 1.69848882e-02, 1.69848882e-02, 1.69848882e-02,\n",
       "       1.69848882e-02, 1.69848882e-02, 1.69848882e-02, 1.69848882e-02,\n",
       "       1.69848882e-02, 1.08891965e-02, 1.08891965e-02, 1.08891965e-02,\n",
       "       1.08891965e-02, 1.08891965e-02, 1.08891965e-02, 1.08891965e-02,\n",
       "       1.08891965e-02, 1.08891965e-02, 8.89683517e-03, 8.89683517e-03,\n",
       "       8.89683517e-03, 8.89683517e-03, 8.89683517e-03, 8.89683517e-03,\n",
       "       8.89683517e-03, 8.89683517e-03, 8.89683517e-03, 6.03299922e-01,\n",
       "       6.03299922e-01, 6.03299922e-01, 6.03299922e-01, 6.03299922e-01,\n",
       "       6.03299922e-01, 6.03299922e-01, 6.03299922e-01, 6.03299922e-01,\n",
       "       5.76433143e-02, 5.76433143e-02, 5.76433143e-02, 5.76433143e-02,\n",
       "       5.76433143e-02, 5.76433143e-02, 5.76433143e-02, 5.76433143e-02,\n",
       "       5.76433143e-02, 3.30849078e-02, 3.30849078e-02, 3.30849078e-02,\n",
       "       3.30849078e-02, 3.30849078e-02, 3.30849078e-02, 3.30849078e-02,\n",
       "       3.30849078e-02, 3.30849078e-02, 2.27203390e-06, 2.27203390e-06,\n",
       "       2.27203390e-06, 2.27203390e-06, 2.27203390e-06, 2.27203390e-06,\n",
       "       2.27203390e-06, 2.27203390e-06, 2.27203390e-06, 3.62162139e-01,\n",
       "       3.62162139e-01, 3.62162139e-01, 3.62162139e-01, 3.62162139e-01,\n",
       "       3.62162139e-01, 3.62162139e-01, 3.62162139e-01, 3.62162139e-01])"
      ]
     },
     "execution_count": 154,
     "metadata": {},
     "output_type": "execute_result"
    }
   ],
   "source": [
    "model_orthodox_dis"
   ]
  }
 ],
 "metadata": {
  "kernelspec": {
   "display_name": "Python 3",
   "language": "python",
   "name": "python3"
  },
  "language_info": {
   "codemirror_mode": {
    "name": "ipython",
    "version": 3
   },
   "file_extension": ".py",
   "mimetype": "text/x-python",
   "name": "python",
   "nbconvert_exporter": "python",
   "pygments_lexer": "ipython3",
   "version": "3.7.3"
  },
  "toc": {
   "base_numbering": 1,
   "nav_menu": {},
   "number_sections": true,
   "sideBar": true,
   "skip_h1_title": false,
   "title_cell": "Table of Contents",
   "title_sidebar": "Contents",
   "toc_cell": false,
   "toc_position": {
    "height": "calc(100% - 180px)",
    "left": "10px",
    "top": "150px",
    "width": "426.667px"
   },
   "toc_section_display": true,
   "toc_window_display": true
  },
  "varInspector": {
   "cols": {
    "lenName": 16,
    "lenType": 16,
    "lenVar": 40
   },
   "kernels_config": {
    "python": {
     "delete_cmd_postfix": "",
     "delete_cmd_prefix": "del ",
     "library": "var_list.py",
     "varRefreshCmd": "print(var_dic_list())"
    },
    "r": {
     "delete_cmd_postfix": ") ",
     "delete_cmd_prefix": "rm(",
     "library": "var_list.r",
     "varRefreshCmd": "cat(var_dic_list()) "
    }
   },
   "types_to_exclude": [
    "module",
    "function",
    "builtin_function_or_method",
    "instance",
    "_Feature"
   ],
   "window_display": false
  }
 },
 "nbformat": 4,
 "nbformat_minor": 2
}
